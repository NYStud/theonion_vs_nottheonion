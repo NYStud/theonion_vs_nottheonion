{
 "cells": [
  {
   "cell_type": "markdown",
   "metadata": {},
   "source": [
    "# CountVectorizer Models\n",
    "In order to train a model on our titles, we need to represent our text numerically. In this notebook, we explore the simplest way to do this: with a \"Bag of Words\" representation, and then fitting a variety of models to the ensulting features."
   ]
  },
  {
   "cell_type": "code",
   "execution_count": 1,
   "metadata": {
    "ExecuteTime": {
     "end_time": "2020-01-31T13:07:54.100270Z",
     "start_time": "2020-01-31T13:07:53.310612Z"
    }
   },
   "outputs": [],
   "source": [
    "import numpy as np\n",
    "import pandas as pd\n",
    "import matplotlib.pyplot as plt\n",
    "\n",
    "import pickle"
   ]
  },
  {
   "cell_type": "code",
   "execution_count": 2,
   "metadata": {
    "ExecuteTime": {
     "end_time": "2020-01-31T13:07:54.613649Z",
     "start_time": "2020-01-31T13:07:54.102251Z"
    }
   },
   "outputs": [],
   "source": [
    "from sklearn.preprocessing import Normalizer\n",
    "from sklearn.model_selection import train_test_split, GridSearchCV, RandomizedSearchCV\n",
    "from sklearn.pipeline import Pipeline\n",
    "from sklearn.linear_model import LogisticRegression, LogisticRegressionCV\n",
    "from sklearn.naive_bayes import MultinomialNB, GaussianNB, ComplementNB, BernoulliNB\n",
    "# Import CountVectorizer and TFIDFVectorizer from feature_extraction.text.\n",
    "from sklearn.feature_extraction.text import CountVectorizer,\\\n",
    "                                            TfidfVectorizer"
   ]
  },
  {
   "cell_type": "code",
   "execution_count": 3,
   "metadata": {
    "ExecuteTime": {
     "end_time": "2020-01-31T13:07:54.927145Z",
     "start_time": "2020-01-31T13:07:54.615640Z"
    }
   },
   "outputs": [],
   "source": [
    "import nltk\n",
    "from nltk.stem import WordNetLemmatizer\n",
    "from nltk.tokenize import RegexpTokenizer\n",
    "from nltk.stem.porter import PorterStemmer"
   ]
  },
  {
   "cell_type": "code",
   "execution_count": 4,
   "metadata": {
    "ExecuteTime": {
     "end_time": "2020-01-31T13:07:54.936091Z",
     "start_time": "2020-01-31T13:07:54.930107Z"
    }
   },
   "outputs": [],
   "source": [
    "def save_obj(obj, filename):\n",
    "    with open(filename + '.pkl', 'wb') as f:\n",
    "        pickle.dump(obj, f, pickle.HIGHEST_PROTOCOL)\n",
    "\n",
    "def load_obj(filename):\n",
    "    with open(filename + '.pkl', 'rb') as f:\n",
    "        return pickle.load(f)"
   ]
  },
  {
   "cell_type": "code",
   "execution_count": 5,
   "metadata": {
    "ExecuteTime": {
     "end_time": "2020-01-31T13:07:54.947741Z",
     "start_time": "2020-01-31T13:07:54.937767Z"
    }
   },
   "outputs": [],
   "source": [
    "DIR = \"C:\\\\Users\\\\AzNsAnTaGiN\\\\DSI\\\\Projects\\\\project_3\\\\data\\\\\"\n",
    "FILE1 = \"theonion\"\n",
    "FILE2 = \"nottheonion\"\n",
    "FILE3 = \"onionheadlines\""
   ]
  },
  {
   "cell_type": "markdown",
   "metadata": {},
   "source": [
    "# Data Import\n",
    "We previously cleaned our data, so lets get it:"
   ]
  },
  {
   "cell_type": "code",
   "execution_count": 6,
   "metadata": {
    "ExecuteTime": {
     "end_time": "2020-01-31T13:07:59.602249Z",
     "start_time": "2020-01-31T13:07:59.389378Z"
    }
   },
   "outputs": [],
   "source": [
    "X_theonion = load_obj(DIR+FILE1+\"_df_clean\")\n",
    "X_nottheonion = load_obj(DIR+FILE2+\"_df_clean\")"
   ]
  },
  {
   "cell_type": "code",
   "execution_count": 7,
   "metadata": {
    "ExecuteTime": {
     "end_time": "2020-01-31T13:07:59.689417Z",
     "start_time": "2020-01-31T13:07:59.683401Z"
    }
   },
   "outputs": [],
   "source": [
    "X_theonion[\"is_onion\"] = 1\n",
    "X_nottheonion[\"is_onion\"] = -1"
   ]
  },
  {
   "cell_type": "code",
   "execution_count": 8,
   "metadata": {
    "ExecuteTime": {
     "end_time": "2020-01-31T13:08:00.055170Z",
     "start_time": "2020-01-31T13:08:00.049186Z"
    }
   },
   "outputs": [
    {
     "data": {
      "text/plain": [
       "8588"
      ]
     },
     "execution_count": 8,
     "metadata": {},
     "output_type": "execute_result"
    }
   ],
   "source": [
    "len(X_theonion)"
   ]
  },
  {
   "cell_type": "code",
   "execution_count": 9,
   "metadata": {
    "ExecuteTime": {
     "end_time": "2020-01-31T13:08:00.791939Z",
     "start_time": "2020-01-31T13:08:00.785956Z"
    }
   },
   "outputs": [
    {
     "data": {
      "text/plain": [
       "419204"
      ]
     },
     "execution_count": 9,
     "metadata": {},
     "output_type": "execute_result"
    }
   ],
   "source": [
    "len(X_nottheonion)"
   ]
  },
  {
   "cell_type": "markdown",
   "metadata": {},
   "source": [
    "We have about 50x as much data from `not_theonion`."
   ]
  },
  {
   "cell_type": "markdown",
   "metadata": {},
   "source": [
    "Grabbing some titles for our presentation:"
   ]
  },
  {
   "cell_type": "code",
   "execution_count": 66,
   "metadata": {
    "ExecuteTime": {
     "end_time": "2020-01-31T13:33:18.830696Z",
     "start_time": "2020-01-31T13:33:18.823716Z"
    }
   },
   "outputs": [
    {
     "data": {
      "text/plain": [
       "array(['Day Without A Woman Sees Thousands Leave Work',\n",
       "       'Mute, Terrified Rubio Awakes To Find Self Unable To Vocalize Any Unscripted Sentiment',\n",
       "       'Entirety Of Hollywood Film Industry Replaced With 40,000 Christopher Plummers',\n",
       "       'Cackling Mitch McConnell Reveals To Stunned Democrats Hes Been Working Undercover For Republican Party This Whole Time',\n",
       "       'Sometimes It Feels Like Im In Prison Too, But Then I Go Home',\n",
       "       'United 93 Director Announces Remastered Edition Digitally Removing WTC From Film',\n",
       "       'Washington Post Offers Non-Subscribers 10 Free Articles To Fact Check Per Month',\n",
       "       'Q Forced To Resign From Department Of Agriculture For Improper Filing Of Expense Reports',\n",
       "       'Nations Gay Straw Men March On Washington For Right To Marry Animals',\n",
       "       'Old Lady At Parade Flapping Little American Flag Like A Motherfucker'],\n",
       "      dtype=object)"
      ]
     },
     "execution_count": 66,
     "metadata": {},
     "output_type": "execute_result"
    }
   ],
   "source": [
    "X_theonion.sample(10)[\"title\"].values"
   ]
  },
  {
   "cell_type": "code",
   "execution_count": 48,
   "metadata": {
    "ExecuteTime": {
     "end_time": "2020-01-31T13:16:46.418968Z",
     "start_time": "2020-01-31T13:16:46.399001Z"
    }
   },
   "outputs": [
    {
     "data": {
      "text/plain": [
       "array([\"Women Wanted For Stealing McDonald's Toilet Paper\",\n",
       "       'Geno Smith Reportedly Fires Agent After Fall To N.Y. Jets',\n",
       "       \"'Mine Is Bigger': Trump Dares Kim Jong-Un To Compare Nuclear Buttons\",\n",
       "       'PETA Sues Photographer On Monkey’s Behalf To Give Monkey Copyright',\n",
       "       \"'No Pants Subway Ride' Kicks Off With Train Commuters Around The World Stripping Off\",\n",
       "       'Magazine Behind UVA Rape Hoax Begs Obama To Do Something About Fake News',\n",
       "       'Melania Trump To Be Protected By Special All-Female Japanese Police Force',\n",
       "       'Tennessee Trying To Re-Ban Gay Marriage',\n",
       "       \"Pa.'s Worst Toll Evader Named Stiff To Pay Up: $128K In All\",\n",
       "       'Man Turns Dead Cat Into Helicopter'], dtype=object)"
      ]
     },
     "execution_count": 48,
     "metadata": {},
     "output_type": "execute_result"
    }
   ],
   "source": [
    "X_nottheonion.sample(10)[\"title\"].values"
   ]
  },
  {
   "cell_type": "markdown",
   "metadata": {},
   "source": [
    "## Peeking at the data"
   ]
  },
  {
   "cell_type": "code",
   "execution_count": 10,
   "metadata": {
    "ExecuteTime": {
     "end_time": "2020-01-31T13:08:02.178201Z",
     "start_time": "2020-01-31T13:08:02.002626Z"
    }
   },
   "outputs": [],
   "source": [
    "N=4000\n",
    "X_theonion_shuffled = X_theonion.sample(len(X_theonion))\n",
    "theonion_sample = X_theonion_shuffled.head(N)\n",
    "theonion_holdout = X_theonion_shuffled.tail(len(X_theonion_shuffled) - N)\n",
    "\n",
    "X_nottheonion_shuffled = X_nottheonion.sample(len(X_nottheonion))\n",
    "nottheonion_sample = X_nottheonion_shuffled.head(N)\n",
    "nottheonion_holdout = X_nottheonion_shuffled.tail(len(X_nottheonion_shuffled)-N)\n",
    "X_sample = pd.concat([theonion_sample, nottheonion_sample])\n",
    "X = pd.concat([X_theonion, X_nottheonion])"
   ]
  },
  {
   "cell_type": "code",
   "execution_count": 11,
   "metadata": {
    "ExecuteTime": {
     "end_time": "2020-01-31T13:08:04.464790Z",
     "start_time": "2020-01-31T13:08:04.177477Z"
    }
   },
   "outputs": [],
   "source": [
    "cvec = CountVectorizer(ngram_range=(1,1))\n",
    "cvec.fit(theonion_sample[\"title\"])\n",
    "cvec.transform(theonion_sample[\"title\"])\n",
    "cvec_df = pd.DataFrame(cvec.transform(theonion_sample[\"title\"]).toarray(),\n",
    "                      columns=cvec.get_feature_names())"
   ]
  },
  {
   "cell_type": "code",
   "execution_count": 12,
   "metadata": {
    "ExecuteTime": {
     "end_time": "2020-01-31T13:08:04.807157Z",
     "start_time": "2020-01-31T13:08:04.525547Z"
    }
   },
   "outputs": [],
   "source": [
    "cvec2 = CountVectorizer(ngram_range=(1,1))\n",
    "cvec2.fit(nottheonion_sample[\"title\"])\n",
    "cvec2.transform(nottheonion_sample[\"title\"])\n",
    "cvec2_df = pd.DataFrame(cvec2.transform(nottheonion_sample[\"title\"]).toarray(),\n",
    "                      columns=cvec2.get_feature_names())"
   ]
  },
  {
   "cell_type": "code",
   "execution_count": 13,
   "metadata": {
    "ExecuteTime": {
     "end_time": "2020-01-31T13:08:05.073177Z",
     "start_time": "2020-01-31T13:08:04.809152Z"
    }
   },
   "outputs": [
    {
     "data": {
      "image/png": "[encoded data removed]",
      "text/plain": [
       "<Figure size 432x288 with 1 Axes>"
      ]
     },
     "metadata": {
      "needs_background": "light"
     },
     "output_type": "display_data"
    }
   ],
   "source": [
    "zipf = cvec2_df.sum().sort_values(ascending=False).values\n",
    "zipf = zipf / zipf[0]\n",
    "plt.plot(zipf[:61]);\n",
    "plt.plot([1/x for x in range(1, 61)]);"
   ]
  },
  {
   "cell_type": "markdown",
   "metadata": {},
   "source": [
    "Words in languages are Zipf-distributed. Roughly speaking, the relative frequency of any word is inversely proportional to its rank. That is to say, the 2nd most common word appears half as often, the 3rd appears about a third as often, etc."
   ]
  },
  {
   "cell_type": "markdown",
   "metadata": {},
   "source": [
    "We can look at the tail end of this to see some fun unicode that we didn't successfully clean out!"
   ]
  },
  {
   "cell_type": "code",
   "execution_count": 14,
   "metadata": {
    "ExecuteTime": {
     "end_time": "2020-01-31T13:08:07.441569Z",
     "start_time": "2020-01-31T13:08:07.397685Z"
    },
    "scrolled": true
   },
   "outputs": [
    {
     "data": {
      "text/plain": [
       "your           51\n",
       "yours          1 \n",
       "yourself       3 \n",
       "youth          3 \n",
       "youtube        6 \n",
       "yr             1 \n",
       "yuck           1 \n",
       "yukima         1 \n",
       "yukon          1 \n",
       "zagorsky       1 \n",
       "zealand        9 \n",
       "zebra          1 \n",
       "zebras         1 \n",
       "zedd           1 \n",
       "zemin          1 \n",
       "zero           3 \n",
       "zhejiang       1 \n",
       "zidane         1 \n",
       "zika           1 \n",
       "zim            1 \n",
       "zimbabwe       1 \n",
       "zimmerman      2 \n",
       "zinke          1 \n",
       "zionists       1 \n",
       "zipper         1 \n",
       "zodiac         1 \n",
       "zombie         4 \n",
       "zombies        2 \n",
       "zone           3 \n",
       "zoo            12\n",
       "zookeeper      1 \n",
       "zooms          1 \n",
       "zopittybop     1 \n",
       "zucchini       1 \n",
       "zuckerberg     3 \n",
       "zuma           1 \n",
       "zuni           1 \n",
       "çimento        1 \n",
       "özil           1 \n",
       "điện           2 \n",
       "được           1 \n",
       "đồng           1 \n",
       "đỡ             1 \n",
       "бесплатно      1 \n",
       "временная      1 \n",
       "для            1 \n",
       "етериум        1 \n",
       "краснодаре     1 \n",
       "майнинги       1 \n",
       "облачные       1 \n",
       "регистрация    1 \n",
       "скачать        1 \n",
       "элеврус        1 \n",
       "элефант        1 \n",
       "اشترك          1 \n",
       "اكبر           1 \n",
       "الجزائر        1 \n",
       "الجمعة         1 \n",
       "الفصل          1 \n",
       "الكلمة         1 \n",
       "الليثي         1 \n",
       "اليوم          1 \n",
       "بالقناه        1 \n",
       "ربيع           1 \n",
       "علي            1 \n",
       "فضلك           1 \n",
       "للدعم          1 \n",
       "لهفة           1 \n",
       "مارس           1 \n",
       "مسلسل          1 \n",
       "مصرية          1 \n",
       "مظاهرات        1 \n",
       "مليونيات       1 \n",
       "من             2 \n",
       "مهرجنات        1 \n",
       "يقلد           1 \n",
       "और             1 \n",
       "नय             1 \n",
       "पर             1 \n",
       "बच             1 \n",
       "dtype: int64"
      ]
     },
     "metadata": {},
     "output_type": "display_data"
    }
   ],
   "source": [
    "with pd.option_context(\"display.max_colwidth\", -1, \"display.max_rows\", None):\n",
    "    display(cvec2_df.sum().tail(80))"
   ]
  },
  {
   "cell_type": "markdown",
   "metadata": {},
   "source": [
    "## Words that are unique to `/r/theonion`"
   ]
  },
  {
   "cell_type": "code",
   "execution_count": 15,
   "metadata": {
    "ExecuteTime": {
     "end_time": "2020-01-31T13:08:08.735988Z",
     "start_time": "2020-01-31T13:08:08.732011Z"
    }
   },
   "outputs": [],
   "source": [
    "N = 250"
   ]
  },
  {
   "cell_type": "code",
   "execution_count": 16,
   "metadata": {
    "ExecuteTime": {
     "end_time": "2020-01-31T13:08:09.079948Z",
     "start_time": "2020-01-31T13:08:08.953391Z"
    }
   },
   "outputs": [],
   "source": [
    "theonion_top_words = cvec_df.sum().sort_values(ascending=False).index[:N]"
   ]
  },
  {
   "cell_type": "code",
   "execution_count": 17,
   "metadata": {
    "ExecuteTime": {
     "end_time": "2020-01-31T13:08:09.174179Z",
     "start_time": "2020-01-31T13:08:09.134276Z"
    }
   },
   "outputs": [],
   "source": [
    "nottheonion_top_words = cvec2_df.sum().sort_values(ascending=False).index[:N]"
   ]
  },
  {
   "cell_type": "code",
   "execution_count": 18,
   "metadata": {
    "ExecuteTime": {
     "end_time": "2020-01-31T13:08:09.342109Z",
     "start_time": "2020-01-31T13:08:09.313187Z"
    }
   },
   "outputs": [
    {
     "data": {
      "text/plain": [
       "[(96, 'week'),\n",
       " (76, 'still'),\n",
       " (74, 'nation'),\n",
       " (74, 'americans'),\n",
       " (67, 'know'),\n",
       " (61, 'announces'),\n",
       " (58, 'last'),\n",
       " (56, 'going'),\n",
       " (54, '2018'),\n",
       " (53, 'every'),\n",
       " (53, 'god'),\n",
       " (52, 'way'),\n",
       " (52, 'area'),\n",
       " (50, 'nations'),\n",
       " (46, 'little'),\n",
       " (46, 'where'),\n",
       " (45, 'campaign'),\n",
       " (45, 'things'),\n",
       " (43, 'fucking'),\n",
       " (42, 'self'),\n",
       " (42, 'reveals'),\n",
       " (41, 'work'),\n",
       " (41, 'hes'),\n",
       " (41, 'around'),\n",
       " (41, 'or'),\n",
       " (40, 'other'),\n",
       " (39, 'good'),\n",
       " (39, 'trumps'),\n",
       " (38, 'american'),\n",
       " (38, 'mom'),\n",
       " (38, 'cant'),\n",
       " (37, 'never'),\n",
       " (36, 'entire'),\n",
       " (36, 'doesnt'),\n",
       " (36, 'plan'),\n",
       " (35, 'social'),\n",
       " (35, 'right'),\n",
       " (35, 'next'),\n",
       " (35, 'best'),\n",
       " (35, 'any'),\n",
       " (34, 'introduces'),\n",
       " (34, 'job'),\n",
       " (34, 'already'),\n",
       " (33, 'scientists'),\n",
       " (33, 'ever'),\n",
       " (33, 'pictures'),\n",
       " (32, 'room'),\n",
       " (32, 'few'),\n",
       " (32, 'party'),\n",
       " (32, 'john'),\n",
       " (32, 'friends'),\n",
       " (32, 'shit'),\n",
       " (32, 'tips'),\n",
       " (31, 'again'),\n",
       " (31, 'super'),\n",
       " (31, 'unveils'),\n",
       " (31, 'long'),\n",
       " (31, 'some'),\n",
       " (30, 'away'),\n",
       " (30, 'finally'),\n",
       " (30, 'look'),\n",
       " (29, 'clinton'),\n",
       " (29, 'mueller'),\n",
       " (28, 'night'),\n",
       " (28, 'trying'),\n",
       " (28, 'top'),\n",
       " (28, 'election'),\n",
       " (28, 'place'),\n",
       " (27, 'much'),\n",
       " (27, 'actually'),\n",
       " (27, 'dont'),\n",
       " (27, 'mans'),\n",
       " (27, 'body'),\n",
       " (27, 'until'),\n",
       " (27, 'enough'),\n",
       " (27, 'gop'),\n",
       " (26, 'doing'),\n",
       " (26, 'single'),\n",
       " (26, 'office'),\n",
       " (25, 'admits'),\n",
       " (25, 'cons'),\n",
       " (25, 'majority'),\n",
       " (25, 'war'),\n",
       " (25, 'pros'),\n",
       " (25, 'change'),\n",
       " (24, 'once'),\n",
       " (24, 'middle'),\n",
       " (24, '20'),\n",
       " (24, 'between'),\n",
       " (24, '30'),\n",
       " (24, 'college'),\n",
       " (24, 'employee'),\n",
       " (24, 'line'),\n",
       " (24, 'fans'),\n",
       " (24, 'national'),\n",
       " (24, 'nfl'),\n",
       " (24, 'paul'),\n",
       " (23, 'forced'),\n",
       " (23, 'struggling'),\n",
       " (23, 'team'),\n",
       " (23, 'dad'),\n",
       " (23, 'pope'),\n",
       " (23, 'everything'),\n",
       " (23, '2016'),\n",
       " (23, 'local')]"
      ]
     },
     "execution_count": 18,
     "metadata": {},
     "output_type": "execute_result"
    }
   ],
   "source": [
    "[(cvec_df[i].sum(),i) for i in theonion_top_words if i not in nottheonion_top_words]"
   ]
  },
  {
   "cell_type": "markdown",
   "metadata": {},
   "source": [
    "## Words that are unique to `/r/nottheonion`"
   ]
  },
  {
   "cell_type": "code",
   "execution_count": 19,
   "metadata": {
    "ExecuteTime": {
     "end_time": "2020-01-31T13:08:14.868557Z",
     "start_time": "2020-01-31T13:08:14.840123Z"
    }
   },
   "outputs": [
    {
     "data": {
      "text/plain": [
       "[(216, 'police'),\n",
       " (94, 'arrested'),\n",
       " (91, 'because'),\n",
       " (80, 'sex'),\n",
       " (69, 'gets'),\n",
       " (63, 'us'),\n",
       " (55, 'claims'),\n",
       " (55, 'dog'),\n",
       " (54, 'men'),\n",
       " (51, 'donald'),\n",
       " (51, 'florida'),\n",
       " (51, 'found'),\n",
       " (50, 'gay'),\n",
       " (45, 'don'),\n",
       " (45, 'wants'),\n",
       " (44, 'china'),\n",
       " (43, 'fire'),\n",
       " (42, 'gun'),\n",
       " (42, 'news'),\n",
       " (41, 'accidentally'),\n",
       " (40, 'texas'),\n",
       " (40, 'wife'),\n",
       " (40, 'accused'),\n",
       " (39, 'teen'),\n",
       " (39, 'killed'),\n",
       " (37, 'calls'),\n",
       " (37, 'city'),\n",
       " (35, 'north'),\n",
       " (35, 'chinese'),\n",
       " (34, 'fight'),\n",
       " (34, 'two'),\n",
       " (34, 'made'),\n",
       " (34, 'mother'),\n",
       " (34, 'russian'),\n",
       " (33, 'boy'),\n",
       " (33, 'sues'),\n",
       " (33, 'shot'),\n",
       " (33, 'cat'),\n",
       " (33, 'son'),\n",
       " (32, 'jail'),\n",
       " (32, 'water'),\n",
       " (32, 'himself'),\n",
       " (32, 'kids'),\n",
       " (31, 'cops'),\n",
       " (31, 'used'),\n",
       " (31, 'caught'),\n",
       " (31, 'charged'),\n",
       " (31, 'girl'),\n",
       " (30, 'murder'),\n",
       " (30, 'rights'),\n",
       " (30, 'chicken'),\n",
       " (30, 'students'),\n",
       " (29, 'face'),\n",
       " (29, 'free'),\n",
       " (29, 'use'),\n",
       " (29, 'group'),\n",
       " (29, 'amp'),\n",
       " (28, 'pay'),\n",
       " (28, 'tells'),\n",
       " (28, 'penis'),\n",
       " (27, 'drug'),\n",
       " (27, 'husband'),\n",
       " (27, 'name'),\n",
       " (26, 'french'),\n",
       " (26, 'giant'),\n",
       " (26, 'had'),\n",
       " (26, 'attack'),\n",
       " (26, 'using'),\n",
       " (26, 'then'),\n",
       " (26, 'california'),\n",
       " (26, 'town'),\n",
       " (25, 'mcdonald'),\n",
       " (25, 'marijuana'),\n",
       " (25, 'makes'),\n",
       " (25, 'suspect'),\n",
       " (25, 'dies'),\n",
       " (25, 'porn'),\n",
       " (25, 'post'),\n",
       " (25, 'got'),\n",
       " (25, 'ban'),\n",
       " (25, 'banned'),\n",
       " (25, 'photo'),\n",
       " (25, 'star'),\n",
       " (25, 'officer'),\n",
       " (24, 'park'),\n",
       " (24, 'left'),\n",
       " (24, 'fake'),\n",
       " (24, 'goes'),\n",
       " (24, 'wearing'),\n",
       " (24, 'russia'),\n",
       " (24, 'church'),\n",
       " (24, 'head'),\n",
       " (24, 'show'),\n",
       " (24, 'internet'),\n",
       " (23, 'korea'),\n",
       " (23, 'call'),\n",
       " (23, 'student'),\n",
       " (23, 'bans'),\n",
       " (23, 'told'),\n",
       " (23, 'store'),\n",
       " (23, 'service'),\n",
       " (22, 'meth'),\n",
       " (22, 'driver'),\n",
       " (22, 'uk'),\n",
       " (22, 'public')]"
      ]
     },
     "execution_count": 19,
     "metadata": {},
     "output_type": "execute_result"
    }
   ],
   "source": [
    "[(cvec2_df[i].sum(),i) for i in nottheonion_top_words if i not in theonion_top_words]"
   ]
  },
  {
   "cell_type": "markdown",
   "metadata": {},
   "source": [
    "## Words that are common to both"
   ]
  },
  {
   "cell_type": "code",
   "execution_count": 20,
   "metadata": {
    "ExecuteTime": {
     "end_time": "2020-01-31T13:08:17.972662Z",
     "start_time": "2020-01-31T13:08:17.936132Z"
    }
   },
   "outputs": [
    {
     "data": {
      "text/plain": [
       "[(1362, 'to'),\n",
       " (687, 'of'),\n",
       " (908, 'in'),\n",
       " (678, 'for'),\n",
       " (665, 'the'),\n",
       " (418, 'on'),\n",
       " (137, 'new'),\n",
       " (356, 'with'),\n",
       " (433, 'man'),\n",
       " (364, 'after'),\n",
       " (227, 'by'),\n",
       " (190, 'trump'),\n",
       " (246, 'from'),\n",
       " (241, 'at'),\n",
       " (191, 'he'),\n",
       " (73, 'about'),\n",
       " (339, 'and'),\n",
       " (139, 'that'),\n",
       " (148, 'as'),\n",
       " (138, 'be'),\n",
       " (35, 'just'),\n",
       " (148, 'out'),\n",
       " (107, 'up'),\n",
       " (182, 'it'),\n",
       " (43, 'report'),\n",
       " (110, 'into'),\n",
       " (163, 'who'),\n",
       " (34, 'how'),\n",
       " (51, 'all'),\n",
       " (70, 'you'),\n",
       " (101, 'year'),\n",
       " (67, 'will'),\n",
       " (129, 'not'),\n",
       " (109, 'has'),\n",
       " (65, 'this'),\n",
       " (86, 'have'),\n",
       " (64, 'can'),\n",
       " (41, 'one'),\n",
       " (39, 'time'),\n",
       " (33, 'study'),\n",
       " (184, 'woman'),\n",
       " (32, 'back'),\n",
       " (63, 'they'),\n",
       " (37, 'day'),\n",
       " (53, 'if'),\n",
       " (282, 'is'),\n",
       " (57, 'off'),\n",
       " (123, 'over'),\n",
       " (239, 'his'),\n",
       " (46, 'life'),\n",
       " (43, 'more'),\n",
       " (57, 'white'),\n",
       " (58, 'him'),\n",
       " (51, 'get'),\n",
       " (38, 'first'),\n",
       " (27, 'finds'),\n",
       " (87, 'old'),\n",
       " (46, 'house'),\n",
       " (33, 'only'),\n",
       " (53, 'like'),\n",
       " (51, 'your'),\n",
       " (29, 'before'),\n",
       " (68, 'people'),\n",
       " (24, 'what'),\n",
       " (26, 'could'),\n",
       " (55, 'now'),\n",
       " (53, 'no'),\n",
       " (50, 'down'),\n",
       " (196, 'says'),\n",
       " (129, 'was'),\n",
       " (34, 'would'),\n",
       " (114, 'are'),\n",
       " (69, 'being'),\n",
       " (52, 'world'),\n",
       " (32, 'game'),\n",
       " (51, 'years'),\n",
       " (55, 'she'),\n",
       " (57, 'president'),\n",
       " (42, 'family'),\n",
       " (34, 'make'),\n",
       " (22, 'through'),\n",
       " (22, 'most'),\n",
       " (45, 'high'),\n",
       " (35, 'when'),\n",
       " (51, 'while'),\n",
       " (53, '000'),\n",
       " (41, 'them'),\n",
       " (28, 'than'),\n",
       " (77, 'their'),\n",
       " (43, 'my'),\n",
       " (33, 'obama'),\n",
       " (45, 'too'),\n",
       " (37, 'its'),\n",
       " (41, 'child'),\n",
       " (67, 'during'),\n",
       " (56, 'home'),\n",
       " (129, 'her'),\n",
       " (31, 'go'),\n",
       " (48, 'state'),\n",
       " (27, 'take'),\n",
       " (25, 'getting'),\n",
       " (69, 'school'),\n",
       " (40, 'parents'),\n",
       " (22, 'really'),\n",
       " (39, 'we'),\n",
       " (26, 'do'),\n",
       " (32, 'so'),\n",
       " (32, 'bill'),\n",
       " (30, 'facebook'),\n",
       " (47, 'own'),\n",
       " (27, 'million'),\n",
       " (29, 'been'),\n",
       " (48, 'death'),\n",
       " (22, 'there'),\n",
       " (36, 'dead'),\n",
       " (27, 'real'),\n",
       " (32, 'should'),\n",
       " (31, 'having'),\n",
       " (47, 'stop'),\n",
       " (24, 'without'),\n",
       " (34, 'children'),\n",
       " (32, 'human'),\n",
       " (39, 'but'),\n",
       " (44, 'black'),\n",
       " (91, 'an'),\n",
       " (26, 'case'),\n",
       " (24, '10'),\n",
       " (73, 'women'),\n",
       " (41, 'against'),\n",
       " (25, 'find'),\n",
       " (24, 'food'),\n",
       " (55, 'say'),\n",
       " (34, 'why'),\n",
       " (35, 'may'),\n",
       " (27, 'under'),\n",
       " (23, 'couple'),\n",
       " (22, 'asks'),\n",
       " (27, 'video'),\n",
       " (54, 'car'),\n",
       " (32, 'government'),\n",
       " (33, 'baby'),\n",
       " (25, 'help'),\n",
       " (23, 'big'),\n",
       " (44, 'court'),\n",
       " (29, 'were')]"
      ]
     },
     "execution_count": 20,
     "metadata": {},
     "output_type": "execute_result"
    }
   ],
   "source": [
    "[(cvec2_df[i].sum(),i) for i in theonion_top_words if i in nottheonion_top_words]"
   ]
  },
  {
   "cell_type": "markdown",
   "metadata": {},
   "source": [
    "# Bag of Words + Logistic Regression"
   ]
  },
  {
   "cell_type": "markdown",
   "metadata": {},
   "source": [
    "## No custom tokenizing, no lemmatizing, no stop words. Let's see what our baseline looks like!\n",
    "\n",
    "We'll start small by sampling 4000 titles from both subreddits"
   ]
  },
  {
   "cell_type": "code",
   "execution_count": 21,
   "metadata": {
    "ExecuteTime": {
     "end_time": "2020-01-31T13:09:05.620453Z",
     "start_time": "2020-01-31T13:08:22.764218Z"
    }
   },
   "outputs": [
    {
     "data": {
      "text/plain": [
       "0.9828333333333333"
      ]
     },
     "execution_count": 21,
     "metadata": {},
     "output_type": "execute_result"
    }
   ],
   "source": [
    "X_train, X_test, y_train, y_test = train_test_split(X_sample[\"title\"], X_sample[\"is_onion\"])\n",
    "pipe = Pipeline([\n",
    "    (\"cvec\", CountVectorizer()),\n",
    "    (\"logreg\", LogisticRegressionCV(Cs=np.logspace(-2,2,100), max_iter=1000))])\n",
    "     \n",
    "pipe.fit(X_train, y_train)\n",
    "pipe.score(X_train, y_train)"
   ]
  },
  {
   "cell_type": "code",
   "execution_count": 22,
   "metadata": {
    "ExecuteTime": {
     "end_time": "2020-01-31T13:09:05.668325Z",
     "start_time": "2020-01-31T13:09:05.622450Z"
    }
   },
   "outputs": [
    {
     "data": {
      "text/plain": [
       "0.81"
      ]
     },
     "execution_count": 22,
     "metadata": {},
     "output_type": "execute_result"
    }
   ],
   "source": [
    "pipe.score(X_test, y_test)"
   ]
  },
  {
   "cell_type": "code",
   "execution_count": 23,
   "metadata": {
    "ExecuteTime": {
     "end_time": "2020-01-31T13:09:05.674310Z",
     "start_time": "2020-01-31T13:09:05.670321Z"
    },
    "scrolled": false
   },
   "outputs": [],
   "source": [
    "# pipe[1].scores_[1]"
   ]
  },
  {
   "cell_type": "code",
   "execution_count": 24,
   "metadata": {
    "ExecuteTime": {
     "end_time": "2020-01-31T13:09:05.686278Z",
     "start_time": "2020-01-31T13:09:05.676305Z"
    }
   },
   "outputs": [
    {
     "data": {
      "text/plain": [
       "array([0.7924829])"
      ]
     },
     "execution_count": 24,
     "metadata": {},
     "output_type": "execute_result"
    }
   ],
   "source": [
    "pipe[1].C_"
   ]
  },
  {
   "cell_type": "markdown",
   "metadata": {},
   "source": [
    "Now we'll score our model on the holdout data we didn't end up sampling:"
   ]
  },
  {
   "cell_type": "code",
   "execution_count": 25,
   "metadata": {
    "ExecuteTime": {
     "end_time": "2020-01-31T13:09:05.783018Z",
     "start_time": "2020-01-31T13:09:05.688272Z"
    }
   },
   "outputs": [
    {
     "data": {
      "text/plain": [
       "0.796207497820401"
      ]
     },
     "execution_count": 25,
     "metadata": {},
     "output_type": "execute_result"
    }
   ],
   "source": [
    "pipe.score(theonion_holdout[\"title\"], theonion_holdout[\"is_onion\"])"
   ]
  },
  {
   "cell_type": "code",
   "execution_count": 26,
   "metadata": {
    "ExecuteTime": {
     "end_time": "2020-01-31T13:09:11.579381Z",
     "start_time": "2020-01-31T13:09:05.784016Z"
    }
   },
   "outputs": [
    {
     "data": {
      "text/plain": [
       "0.8076487702430613"
      ]
     },
     "execution_count": 26,
     "metadata": {},
     "output_type": "execute_result"
    }
   ],
   "source": [
    "pipe.score(nottheonion_holdout[\"title\"], nottheonion_holdout[\"is_onion\"])"
   ]
  },
  {
   "cell_type": "code",
   "execution_count": 71,
   "metadata": {
    "ExecuteTime": {
     "end_time": "2020-01-31T13:39:24.979506Z",
     "start_time": "2020-01-31T13:39:24.962672Z"
    },
    "scrolled": true
   },
   "outputs": [
    {
     "data": {
      "text/html": [
       "<div>\n",
       "<style scoped>\n",
       "    .dataframe tbody tr th:only-of-type {\n",
       "        vertical-align: middle;\n",
       "    }\n",
       "\n",
       "    .dataframe tbody tr th {\n",
       "        vertical-align: top;\n",
       "    }\n",
       "\n",
       "    .dataframe thead th {\n",
       "        text-align: right;\n",
       "    }\n",
       "</style>\n",
       "<table border=\"1\" class=\"dataframe\">\n",
       "  <thead>\n",
       "    <tr style=\"text-align: right;\">\n",
       "      <th></th>\n",
       "      <th>title</th>\n",
       "      <th>score</th>\n",
       "      <th>created_utc</th>\n",
       "      <th>len</th>\n",
       "      <th>word_len</th>\n",
       "      <th>is_onion</th>\n",
       "    </tr>\n",
       "    <tr>\n",
       "      <th>id</th>\n",
       "      <th></th>\n",
       "      <th></th>\n",
       "      <th></th>\n",
       "      <th></th>\n",
       "      <th></th>\n",
       "      <th></th>\n",
       "    </tr>\n",
       "  </thead>\n",
       "  <tbody>\n",
       "    <tr>\n",
       "      <th>2s1e6p</th>\n",
       "      <td>CBS To Feature In-Studio Fan To Provide Partia...</td>\n",
       "      <td>5</td>\n",
       "      <td>1420956055</td>\n",
       "      <td>84</td>\n",
       "      <td>13</td>\n",
       "      <td>1</td>\n",
       "    </tr>\n",
       "    <tr>\n",
       "      <th>59k1j4</th>\n",
       "      <td>Wealthy Father Nervously Waits For Response Af...</td>\n",
       "      <td>2</td>\n",
       "      <td>1477515503</td>\n",
       "      <td>97</td>\n",
       "      <td>14</td>\n",
       "      <td>1</td>\n",
       "    </tr>\n",
       "    <tr>\n",
       "      <th>7sgjpm</th>\n",
       "      <td>Are Our Nominations Diverse Enough For You Whi...</td>\n",
       "      <td>10</td>\n",
       "      <td>1516732568</td>\n",
       "      <td>117</td>\n",
       "      <td>16</td>\n",
       "      <td>1</td>\n",
       "    </tr>\n",
       "    <tr>\n",
       "      <th>8ye5g8</th>\n",
       "      <td>Thing Distracting You From Healthy, Self-Actua...</td>\n",
       "      <td>8</td>\n",
       "      <td>1531432712</td>\n",
       "      <td>90</td>\n",
       "      <td>11</td>\n",
       "      <td>1</td>\n",
       "    </tr>\n",
       "    <tr>\n",
       "      <th>9hkcfv</th>\n",
       "      <td>Jimmy Butler Gives Wolves List Of 29 Preferred...</td>\n",
       "      <td>14</td>\n",
       "      <td>1537488003</td>\n",
       "      <td>65</td>\n",
       "      <td>10</td>\n",
       "      <td>1</td>\n",
       "    </tr>\n",
       "    <tr>\n",
       "      <th>a66n9f</th>\n",
       "      <td>Red Cross Issues Reminder They Cant Accept Don...</td>\n",
       "      <td>1</td>\n",
       "      <td>1544807053</td>\n",
       "      <td>97</td>\n",
       "      <td>16</td>\n",
       "      <td>1</td>\n",
       "    </tr>\n",
       "    <tr>\n",
       "      <th>aj2k4f</th>\n",
       "      <td>Bryan Singer Celebrates Bohemian Rhapsody Osca...</td>\n",
       "      <td>1</td>\n",
       "      <td>1548267016</td>\n",
       "      <td>102</td>\n",
       "      <td>14</td>\n",
       "      <td>1</td>\n",
       "    </tr>\n",
       "    <tr>\n",
       "      <th>aj4jzz</th>\n",
       "      <td>The Favourite, Roma Top Oscars Nominations Wit...</td>\n",
       "      <td>1</td>\n",
       "      <td>1548277836</td>\n",
       "      <td>55</td>\n",
       "      <td>9</td>\n",
       "      <td>1</td>\n",
       "    </tr>\n",
       "    <tr>\n",
       "      <th>apw1qw</th>\n",
       "      <td>Vaccinations Soar By 500% In Measles Outbreak ...</td>\n",
       "      <td>1</td>\n",
       "      <td>1549993878</td>\n",
       "      <td>52</td>\n",
       "      <td>8</td>\n",
       "      <td>1</td>\n",
       "    </tr>\n",
       "    <tr>\n",
       "      <th>b8mqfj</th>\n",
       "      <td>Increasingly Cocky Bernie Sanders Announces He...</td>\n",
       "      <td>275</td>\n",
       "      <td>1554228515</td>\n",
       "      <td>80</td>\n",
       "      <td>12</td>\n",
       "      <td>1</td>\n",
       "    </tr>\n",
       "    <tr>\n",
       "      <th>bgl3i0</th>\n",
       "      <td>Jared Kushner Claims That Russian Interference...</td>\n",
       "      <td>4</td>\n",
       "      <td>1556050430</td>\n",
       "      <td>212</td>\n",
       "      <td>28</td>\n",
       "      <td>1</td>\n",
       "    </tr>\n",
       "  </tbody>\n",
       "</table>\n",
       "</div>"
      ],
      "text/plain": [
       "                                                    title score created_utc  \\\n",
       "id                                                                            \n",
       "2s1e6p  CBS To Feature In-Studio Fan To Provide Partia...     5  1420956055   \n",
       "59k1j4  Wealthy Father Nervously Waits For Response Af...     2  1477515503   \n",
       "7sgjpm  Are Our Nominations Diverse Enough For You Whi...    10  1516732568   \n",
       "8ye5g8  Thing Distracting You From Healthy, Self-Actua...     8  1531432712   \n",
       "9hkcfv  Jimmy Butler Gives Wolves List Of 29 Preferred...    14  1537488003   \n",
       "a66n9f  Red Cross Issues Reminder They Cant Accept Don...     1  1544807053   \n",
       "aj2k4f  Bryan Singer Celebrates Bohemian Rhapsody Osca...     1  1548267016   \n",
       "aj4jzz  The Favourite, Roma Top Oscars Nominations Wit...     1  1548277836   \n",
       "apw1qw  Vaccinations Soar By 500% In Measles Outbreak ...     1  1549993878   \n",
       "b8mqfj  Increasingly Cocky Bernie Sanders Announces He...   275  1554228515   \n",
       "bgl3i0  Jared Kushner Claims That Russian Interference...     4  1556050430   \n",
       "\n",
       "        len  word_len  is_onion  \n",
       "id                               \n",
       "2s1e6p   84        13         1  \n",
       "59k1j4   97        14         1  \n",
       "7sgjpm  117        16         1  \n",
       "8ye5g8   90        11         1  \n",
       "9hkcfv   65        10         1  \n",
       "a66n9f   97        16         1  \n",
       "aj2k4f  102        14         1  \n",
       "aj4jzz   55         9         1  \n",
       "apw1qw   52         8         1  \n",
       "b8mqfj   80        12         1  \n",
       "bgl3i0  212        28         1  "
      ]
     },
     "execution_count": 71,
     "metadata": {},
     "output_type": "execute_result"
    }
   ],
   "source": [
    "X_theonion[X_theonion[\"title\"].str.contains(\"nations\")]"
   ]
  },
  {
   "cell_type": "code",
   "execution_count": 72,
   "metadata": {
    "ExecuteTime": {
     "end_time": "2020-01-31T13:39:30.927745Z",
     "start_time": "2020-01-31T13:39:30.642508Z"
    }
   },
   "outputs": [
    {
     "data": {
      "text/html": [
       "<div>\n",
       "<style scoped>\n",
       "    .dataframe tbody tr th:only-of-type {\n",
       "        vertical-align: middle;\n",
       "    }\n",
       "\n",
       "    .dataframe tbody tr th {\n",
       "        vertical-align: top;\n",
       "    }\n",
       "\n",
       "    .dataframe thead th {\n",
       "        text-align: right;\n",
       "    }\n",
       "</style>\n",
       "<table border=\"1\" class=\"dataframe\">\n",
       "  <thead>\n",
       "    <tr style=\"text-align: right;\">\n",
       "      <th></th>\n",
       "      <th>title</th>\n",
       "      <th>score</th>\n",
       "      <th>created_utc</th>\n",
       "      <th>len</th>\n",
       "      <th>word_len</th>\n",
       "      <th>is_onion</th>\n",
       "    </tr>\n",
       "  </thead>\n",
       "  <tbody>\n",
       "    <tr>\n",
       "      <th>81</th>\n",
       "      <td>Bloomberg Bans Food Donations To The Homeless ...</td>\n",
       "      <td>35</td>\n",
       "      <td>1332221866</td>\n",
       "      <td>113</td>\n",
       "      <td>18</td>\n",
       "      <td>-1</td>\n",
       "    </tr>\n",
       "    <tr>\n",
       "      <th>889</th>\n",
       "      <td>Julian Assange, While Hiding At The Ecuadorian...</td>\n",
       "      <td>12</td>\n",
       "      <td>1341058872</td>\n",
       "      <td>207</td>\n",
       "      <td>33</td>\n",
       "      <td>-1</td>\n",
       "    </tr>\n",
       "    <tr>\n",
       "      <th>893</th>\n",
       "      <td>John Roberts’ Medication Made Him Stupid And O...</td>\n",
       "      <td>1</td>\n",
       "      <td>1341080800</td>\n",
       "      <td>99</td>\n",
       "      <td>14</td>\n",
       "      <td>-1</td>\n",
       "    </tr>\n",
       "    <tr>\n",
       "      <th>3486</th>\n",
       "      <td>Obama Accepts 'Osama Bin Laden' Donations</td>\n",
       "      <td>0</td>\n",
       "      <td>1351558162</td>\n",
       "      <td>41</td>\n",
       "      <td>6</td>\n",
       "      <td>-1</td>\n",
       "    </tr>\n",
       "    <tr>\n",
       "      <th>3780</th>\n",
       "      <td>New York Mayor Banned Food Donations To Homele...</td>\n",
       "      <td>16</td>\n",
       "      <td>1352424497</td>\n",
       "      <td>117</td>\n",
       "      <td>19</td>\n",
       "      <td>-1</td>\n",
       "    </tr>\n",
       "    <tr>\n",
       "      <th>...</th>\n",
       "      <td>...</td>\n",
       "      <td>...</td>\n",
       "      <td>...</td>\n",
       "      <td>...</td>\n",
       "      <td>...</td>\n",
       "      <td>...</td>\n",
       "    </tr>\n",
       "    <tr>\n",
       "      <th>417154</th>\n",
       "      <td>Only A Tenth Of Vatican Donations Directed To ...</td>\n",
       "      <td>1</td>\n",
       "      <td>1576183459</td>\n",
       "      <td>53</td>\n",
       "      <td>9</td>\n",
       "      <td>-1</td>\n",
       "    </tr>\n",
       "    <tr>\n",
       "      <th>417370</th>\n",
       "      <td>Federal Authorities Arrest Doctors Campaigning...</td>\n",
       "      <td>1</td>\n",
       "      <td>1576336523</td>\n",
       "      <td>85</td>\n",
       "      <td>11</td>\n",
       "      <td>-1</td>\n",
       "    </tr>\n",
       "    <tr>\n",
       "      <th>418720</th>\n",
       "      <td>New Jersey Vote On Forced Vaccinations Shut Do...</td>\n",
       "      <td>1</td>\n",
       "      <td>1577261623</td>\n",
       "      <td>63</td>\n",
       "      <td>10</td>\n",
       "      <td>-1</td>\n",
       "    </tr>\n",
       "    <tr>\n",
       "      <th>419690</th>\n",
       "      <td>Morrison Touts For Lib Party Donations On Govt...</td>\n",
       "      <td>1</td>\n",
       "      <td>1578293596</td>\n",
       "      <td>69</td>\n",
       "      <td>11</td>\n",
       "      <td>-1</td>\n",
       "    </tr>\n",
       "    <tr>\n",
       "      <th>421509</th>\n",
       "      <td>Sperm Donations From Dead Men Should Be Allowe...</td>\n",
       "      <td>1</td>\n",
       "      <td>1579582779</td>\n",
       "      <td>59</td>\n",
       "      <td>10</td>\n",
       "      <td>-1</td>\n",
       "    </tr>\n",
       "  </tbody>\n",
       "</table>\n",
       "<p>402 rows × 6 columns</p>\n",
       "</div>"
      ],
      "text/plain": [
       "                                                    title score created_utc  \\\n",
       "81      Bloomberg Bans Food Donations To The Homeless ...    35  1332221866   \n",
       "889     Julian Assange, While Hiding At The Ecuadorian...    12  1341058872   \n",
       "893     John Roberts’ Medication Made Him Stupid And O...     1  1341080800   \n",
       "3486            Obama Accepts 'Osama Bin Laden' Donations     0  1351558162   \n",
       "3780    New York Mayor Banned Food Donations To Homele...    16  1352424497   \n",
       "...                                                   ...   ...         ...   \n",
       "417154  Only A Tenth Of Vatican Donations Directed To ...     1  1576183459   \n",
       "417370  Federal Authorities Arrest Doctors Campaigning...     1  1576336523   \n",
       "418720  New Jersey Vote On Forced Vaccinations Shut Do...     1  1577261623   \n",
       "419690  Morrison Touts For Lib Party Donations On Govt...     1  1578293596   \n",
       "421509  Sperm Donations From Dead Men Should Be Allowe...     1  1579582779   \n",
       "\n",
       "        len  word_len  is_onion  \n",
       "81      113        18        -1  \n",
       "889     207        33        -1  \n",
       "893      99        14        -1  \n",
       "3486     41         6        -1  \n",
       "3780    117        19        -1  \n",
       "...     ...       ...       ...  \n",
       "417154   53         9        -1  \n",
       "417370   85        11        -1  \n",
       "418720   63        10        -1  \n",
       "419690   69        11        -1  \n",
       "421509   59        10        -1  \n",
       "\n",
       "[402 rows x 6 columns]"
      ]
     },
     "execution_count": 72,
     "metadata": {},
     "output_type": "execute_result"
    }
   ],
   "source": [
    "X_nottheonion[X_nottheonion[\"title\"].str.contains(\"nations\")]"
   ]
  },
  {
   "cell_type": "code",
   "execution_count": 68,
   "metadata": {
    "ExecuteTime": {
     "end_time": "2020-01-31T13:36:31.469059Z",
     "start_time": "2020-01-31T13:36:31.443123Z"
    },
    "scrolled": true
   },
   "outputs": [
    {
     "data": {
      "text/html": [
       "<div>\n",
       "<style scoped>\n",
       "    .dataframe tbody tr th:only-of-type {\n",
       "        vertical-align: middle;\n",
       "    }\n",
       "\n",
       "    .dataframe tbody tr th {\n",
       "        vertical-align: top;\n",
       "    }\n",
       "\n",
       "    .dataframe thead th {\n",
       "        text-align: right;\n",
       "    }\n",
       "</style>\n",
       "<table border=\"1\" class=\"dataframe\">\n",
       "  <thead>\n",
       "    <tr style=\"text-align: right;\">\n",
       "      <th></th>\n",
       "      <th>odds multiplier</th>\n",
       "    </tr>\n",
       "  </thead>\n",
       "  <tbody>\n",
       "    <tr>\n",
       "      <th>don</th>\n",
       "      <td>0.116656</td>\n",
       "    </tr>\n",
       "    <tr>\n",
       "      <th>police</th>\n",
       "      <td>0.167605</td>\n",
       "    </tr>\n",
       "    <tr>\n",
       "      <th>arrested</th>\n",
       "      <td>0.177086</td>\n",
       "    </tr>\n",
       "    <tr>\n",
       "      <th>accused</th>\n",
       "      <td>0.198700</td>\n",
       "    </tr>\n",
       "    <tr>\n",
       "      <th>re</th>\n",
       "      <td>0.223864</td>\n",
       "    </tr>\n",
       "    <tr>\n",
       "      <th>jail</th>\n",
       "      <td>0.237137</td>\n",
       "    </tr>\n",
       "    <tr>\n",
       "      <th>china</th>\n",
       "      <td>0.237268</td>\n",
       "    </tr>\n",
       "    <tr>\n",
       "      <th>texas</th>\n",
       "      <td>0.255145</td>\n",
       "    </tr>\n",
       "    <tr>\n",
       "      <th>stolen</th>\n",
       "      <td>0.264024</td>\n",
       "    </tr>\n",
       "    <tr>\n",
       "      <th>sues</th>\n",
       "      <td>0.267916</td>\n",
       "    </tr>\n",
       "    <tr>\n",
       "      <th>us</th>\n",
       "      <td>0.281179</td>\n",
       "    </tr>\n",
       "    <tr>\n",
       "      <th>because</th>\n",
       "      <td>0.288155</td>\n",
       "    </tr>\n",
       "    <tr>\n",
       "      <th>onion</th>\n",
       "      <td>0.290433</td>\n",
       "    </tr>\n",
       "    <tr>\n",
       "      <th>toilet</th>\n",
       "      <td>0.291731</td>\n",
       "    </tr>\n",
       "    <tr>\n",
       "      <th>bans</th>\n",
       "      <td>0.292858</td>\n",
       "    </tr>\n",
       "    <tr>\n",
       "      <th>ends</th>\n",
       "      <td>0.300187</td>\n",
       "    </tr>\n",
       "    <tr>\n",
       "      <th>his</th>\n",
       "      <td>0.303455</td>\n",
       "    </tr>\n",
       "    <tr>\n",
       "      <th>pizza</th>\n",
       "      <td>0.304854</td>\n",
       "    </tr>\n",
       "    <tr>\n",
       "      <th>storm</th>\n",
       "      <td>0.314677</td>\n",
       "    </tr>\n",
       "    <tr>\n",
       "      <th>florida</th>\n",
       "      <td>0.318325</td>\n",
       "    </tr>\n",
       "    <tr>\n",
       "      <th>causes</th>\n",
       "      <td>0.318905</td>\n",
       "    </tr>\n",
       "    <tr>\n",
       "      <th>wins</th>\n",
       "      <td>0.319125</td>\n",
       "    </tr>\n",
       "    <tr>\n",
       "      <th>mcdonald</th>\n",
       "      <td>0.320188</td>\n",
       "    </tr>\n",
       "    <tr>\n",
       "      <th>donald</th>\n",
       "      <td>0.321535</td>\n",
       "    </tr>\n",
       "    <tr>\n",
       "      <th>men</th>\n",
       "      <td>0.326600</td>\n",
       "    </tr>\n",
       "    <tr>\n",
       "      <th>couldn</th>\n",
       "      <td>0.331172</td>\n",
       "    </tr>\n",
       "    <tr>\n",
       "      <th>gets</th>\n",
       "      <td>0.332718</td>\n",
       "    </tr>\n",
       "    <tr>\n",
       "      <th>is</th>\n",
       "      <td>0.334964</td>\n",
       "    </tr>\n",
       "    <tr>\n",
       "      <th>photo</th>\n",
       "      <td>0.335998</td>\n",
       "    </tr>\n",
       "    <tr>\n",
       "      <th>suspect</th>\n",
       "      <td>0.336632</td>\n",
       "    </tr>\n",
       "    <tr>\n",
       "      <th>their</th>\n",
       "      <td>0.337613</td>\n",
       "    </tr>\n",
       "    <tr>\n",
       "      <th>tweets</th>\n",
       "      <td>0.340512</td>\n",
       "    </tr>\n",
       "    <tr>\n",
       "      <th>didn</th>\n",
       "      <td>0.348693</td>\n",
       "    </tr>\n",
       "    <tr>\n",
       "      <th>sex</th>\n",
       "      <td>0.350929</td>\n",
       "    </tr>\n",
       "    <tr>\n",
       "      <th>oklahoma</th>\n",
       "      <td>0.354642</td>\n",
       "    </tr>\n",
       "    <tr>\n",
       "      <th>then</th>\n",
       "      <td>0.357853</td>\n",
       "    </tr>\n",
       "    <tr>\n",
       "      <th>chicken</th>\n",
       "      <td>0.358448</td>\n",
       "    </tr>\n",
       "    <tr>\n",
       "      <th>raise</th>\n",
       "      <td>0.364107</td>\n",
       "    </tr>\n",
       "    <tr>\n",
       "      <th>fake</th>\n",
       "      <td>0.364641</td>\n",
       "    </tr>\n",
       "    <tr>\n",
       "      <th>uk</th>\n",
       "      <td>0.367200</td>\n",
       "    </tr>\n",
       "    <tr>\n",
       "      <th>politician</th>\n",
       "      <td>0.370211</td>\n",
       "    </tr>\n",
       "    <tr>\n",
       "      <th>says</th>\n",
       "      <td>0.370785</td>\n",
       "    </tr>\n",
       "    <tr>\n",
       "      <th>her</th>\n",
       "      <td>0.373661</td>\n",
       "    </tr>\n",
       "    <tr>\n",
       "      <th>an</th>\n",
       "      <td>0.375664</td>\n",
       "    </tr>\n",
       "    <tr>\n",
       "      <th>university</th>\n",
       "      <td>0.375809</td>\n",
       "    </tr>\n",
       "    <tr>\n",
       "      <th>rape</th>\n",
       "      <td>0.379466</td>\n",
       "    </tr>\n",
       "    <tr>\n",
       "      <th>porn</th>\n",
       "      <td>0.381831</td>\n",
       "    </tr>\n",
       "    <tr>\n",
       "      <th>muslims</th>\n",
       "      <td>0.382502</td>\n",
       "    </tr>\n",
       "    <tr>\n",
       "      <th>cat</th>\n",
       "      <td>0.382713</td>\n",
       "    </tr>\n",
       "    <tr>\n",
       "      <th>steals</th>\n",
       "      <td>0.384785</td>\n",
       "    </tr>\n",
       "  </tbody>\n",
       "</table>\n",
       "</div>"
      ],
      "text/plain": [
       "            odds multiplier\n",
       "don                0.116656\n",
       "police             0.167605\n",
       "arrested           0.177086\n",
       "accused            0.198700\n",
       "re                 0.223864\n",
       "jail               0.237137\n",
       "china              0.237268\n",
       "texas              0.255145\n",
       "stolen             0.264024\n",
       "sues               0.267916\n",
       "us                 0.281179\n",
       "because            0.288155\n",
       "onion              0.290433\n",
       "toilet             0.291731\n",
       "bans               0.292858\n",
       "ends               0.300187\n",
       "his                0.303455\n",
       "pizza              0.304854\n",
       "storm              0.314677\n",
       "florida            0.318325\n",
       "causes             0.318905\n",
       "wins               0.319125\n",
       "mcdonald           0.320188\n",
       "donald             0.321535\n",
       "men                0.326600\n",
       "couldn             0.331172\n",
       "gets               0.332718\n",
       "is                 0.334964\n",
       "photo              0.335998\n",
       "suspect            0.336632\n",
       "their              0.337613\n",
       "tweets             0.340512\n",
       "didn               0.348693\n",
       "sex                0.350929\n",
       "oklahoma           0.354642\n",
       "then               0.357853\n",
       "chicken            0.358448\n",
       "raise              0.364107\n",
       "fake               0.364641\n",
       "uk                 0.367200\n",
       "politician         0.370211\n",
       "says               0.370785\n",
       "her                0.373661\n",
       "an                 0.375664\n",
       "university         0.375809\n",
       "rape               0.379466\n",
       "porn               0.381831\n",
       "muslims            0.382502\n",
       "cat                0.382713\n",
       "steals             0.384785"
      ]
     },
     "execution_count": 68,
     "metadata": {},
     "output_type": "execute_result"
    }
   ],
   "source": [
    "pd.DataFrame(np.exp(pipe[1].coef_[0]), index=pipe[0].get_feature_names(), columns=[\"odds multiplier\"]).sort_values(\"odds multiplier\").head(50)"
   ]
  },
  {
   "cell_type": "code",
   "execution_count": 69,
   "metadata": {
    "ExecuteTime": {
     "end_time": "2020-01-31T13:36:40.968949Z",
     "start_time": "2020-01-31T13:36:40.941648Z"
    },
    "scrolled": true
   },
   "outputs": [
    {
     "data": {
      "text/html": [
       "<div>\n",
       "<style scoped>\n",
       "    .dataframe tbody tr th:only-of-type {\n",
       "        vertical-align: middle;\n",
       "    }\n",
       "\n",
       "    .dataframe tbody tr th {\n",
       "        vertical-align: top;\n",
       "    }\n",
       "\n",
       "    .dataframe thead th {\n",
       "        text-align: right;\n",
       "    }\n",
       "</style>\n",
       "<table border=\"1\" class=\"dataframe\">\n",
       "  <thead>\n",
       "    <tr style=\"text-align: right;\">\n",
       "      <th></th>\n",
       "      <th>odds multiplier</th>\n",
       "    </tr>\n",
       "  </thead>\n",
       "  <tbody>\n",
       "    <tr>\n",
       "      <th>michael</th>\n",
       "      <td>2.789368</td>\n",
       "    </tr>\n",
       "    <tr>\n",
       "      <th>today</th>\n",
       "      <td>2.792008</td>\n",
       "    </tr>\n",
       "    <tr>\n",
       "      <th>never</th>\n",
       "      <td>2.821114</td>\n",
       "    </tr>\n",
       "    <tr>\n",
       "      <th>releases</th>\n",
       "      <td>2.840062</td>\n",
       "    </tr>\n",
       "    <tr>\n",
       "      <th>last</th>\n",
       "      <td>2.880426</td>\n",
       "    </tr>\n",
       "    <tr>\n",
       "      <th>bond</th>\n",
       "      <td>2.910017</td>\n",
       "    </tr>\n",
       "    <tr>\n",
       "      <th>social</th>\n",
       "      <td>2.935832</td>\n",
       "    </tr>\n",
       "    <tr>\n",
       "      <th>reviews</th>\n",
       "      <td>2.941157</td>\n",
       "    </tr>\n",
       "    <tr>\n",
       "      <th>apparently</th>\n",
       "      <td>2.946882</td>\n",
       "    </tr>\n",
       "    <tr>\n",
       "      <th>biden</th>\n",
       "      <td>2.966097</td>\n",
       "    </tr>\n",
       "    <tr>\n",
       "      <th>going</th>\n",
       "      <td>2.990731</td>\n",
       "    </tr>\n",
       "    <tr>\n",
       "      <th>realizing</th>\n",
       "      <td>3.005499</td>\n",
       "    </tr>\n",
       "    <tr>\n",
       "      <th>through</th>\n",
       "      <td>3.027514</td>\n",
       "    </tr>\n",
       "    <tr>\n",
       "      <th>reminds</th>\n",
       "      <td>3.032581</td>\n",
       "    </tr>\n",
       "    <tr>\n",
       "      <th>fair</th>\n",
       "      <td>3.065592</td>\n",
       "    </tr>\n",
       "    <tr>\n",
       "      <th>few</th>\n",
       "      <td>3.107142</td>\n",
       "    </tr>\n",
       "    <tr>\n",
       "      <th>best</th>\n",
       "      <td>3.145960</td>\n",
       "    </tr>\n",
       "    <tr>\n",
       "      <th>always</th>\n",
       "      <td>3.166098</td>\n",
       "    </tr>\n",
       "    <tr>\n",
       "      <th>im</th>\n",
       "      <td>3.187570</td>\n",
       "    </tr>\n",
       "    <tr>\n",
       "      <th>2018</th>\n",
       "      <td>3.206381</td>\n",
       "    </tr>\n",
       "    <tr>\n",
       "      <th>worried</th>\n",
       "      <td>3.295188</td>\n",
       "    </tr>\n",
       "    <tr>\n",
       "      <th>youre</th>\n",
       "      <td>3.302149</td>\n",
       "    </tr>\n",
       "    <tr>\n",
       "      <th>fuck</th>\n",
       "      <td>3.327902</td>\n",
       "    </tr>\n",
       "    <tr>\n",
       "      <th>struggling</th>\n",
       "      <td>3.375765</td>\n",
       "    </tr>\n",
       "    <tr>\n",
       "      <th>kidnapped</th>\n",
       "      <td>3.433280</td>\n",
       "    </tr>\n",
       "    <tr>\n",
       "      <th>still</th>\n",
       "      <td>3.475152</td>\n",
       "    </tr>\n",
       "    <tr>\n",
       "      <th>things</th>\n",
       "      <td>3.495248</td>\n",
       "    </tr>\n",
       "    <tr>\n",
       "      <th>unveils</th>\n",
       "      <td>3.536293</td>\n",
       "    </tr>\n",
       "    <tr>\n",
       "      <th>week</th>\n",
       "      <td>3.541249</td>\n",
       "    </tr>\n",
       "    <tr>\n",
       "      <th>mans</th>\n",
       "      <td>3.555508</td>\n",
       "    </tr>\n",
       "    <tr>\n",
       "      <th>around</th>\n",
       "      <td>3.571741</td>\n",
       "    </tr>\n",
       "    <tr>\n",
       "      <th>nation</th>\n",
       "      <td>3.587011</td>\n",
       "    </tr>\n",
       "    <tr>\n",
       "      <th>mueller</th>\n",
       "      <td>3.650384</td>\n",
       "    </tr>\n",
       "    <tr>\n",
       "      <th>back</th>\n",
       "      <td>3.688191</td>\n",
       "    </tr>\n",
       "    <tr>\n",
       "      <th>pros</th>\n",
       "      <td>3.808212</td>\n",
       "    </tr>\n",
       "    <tr>\n",
       "      <th>hes</th>\n",
       "      <td>3.852983</td>\n",
       "    </tr>\n",
       "    <tr>\n",
       "      <th>cons</th>\n",
       "      <td>4.305074</td>\n",
       "    </tr>\n",
       "    <tr>\n",
       "      <th>how</th>\n",
       "      <td>4.435756</td>\n",
       "    </tr>\n",
       "    <tr>\n",
       "      <th>introduces</th>\n",
       "      <td>4.456310</td>\n",
       "    </tr>\n",
       "    <tr>\n",
       "      <th>just</th>\n",
       "      <td>4.514982</td>\n",
       "    </tr>\n",
       "    <tr>\n",
       "      <th>cant</th>\n",
       "      <td>4.524034</td>\n",
       "    </tr>\n",
       "    <tr>\n",
       "      <th>doesnt</th>\n",
       "      <td>4.609962</td>\n",
       "    </tr>\n",
       "    <tr>\n",
       "      <th>shit</th>\n",
       "      <td>4.660664</td>\n",
       "    </tr>\n",
       "    <tr>\n",
       "      <th>wont</th>\n",
       "      <td>4.770151</td>\n",
       "    </tr>\n",
       "    <tr>\n",
       "      <th>area</th>\n",
       "      <td>4.833877</td>\n",
       "    </tr>\n",
       "    <tr>\n",
       "      <th>fucking</th>\n",
       "      <td>5.511220</td>\n",
       "    </tr>\n",
       "    <tr>\n",
       "      <th>trumps</th>\n",
       "      <td>5.741289</td>\n",
       "    </tr>\n",
       "    <tr>\n",
       "      <th>announces</th>\n",
       "      <td>6.354899</td>\n",
       "    </tr>\n",
       "    <tr>\n",
       "      <th>nations</th>\n",
       "      <td>6.365406</td>\n",
       "    </tr>\n",
       "    <tr>\n",
       "      <th>tips</th>\n",
       "      <td>7.374050</td>\n",
       "    </tr>\n",
       "  </tbody>\n",
       "</table>\n",
       "</div>"
      ],
      "text/plain": [
       "            odds multiplier\n",
       "michael            2.789368\n",
       "today              2.792008\n",
       "never              2.821114\n",
       "releases           2.840062\n",
       "last               2.880426\n",
       "bond               2.910017\n",
       "social             2.935832\n",
       "reviews            2.941157\n",
       "apparently         2.946882\n",
       "biden              2.966097\n",
       "going              2.990731\n",
       "realizing          3.005499\n",
       "through            3.027514\n",
       "reminds            3.032581\n",
       "fair               3.065592\n",
       "few                3.107142\n",
       "best               3.145960\n",
       "always             3.166098\n",
       "im                 3.187570\n",
       "2018               3.206381\n",
       "worried            3.295188\n",
       "youre              3.302149\n",
       "fuck               3.327902\n",
       "struggling         3.375765\n",
       "kidnapped          3.433280\n",
       "still              3.475152\n",
       "things             3.495248\n",
       "unveils            3.536293\n",
       "week               3.541249\n",
       "mans               3.555508\n",
       "around             3.571741\n",
       "nation             3.587011\n",
       "mueller            3.650384\n",
       "back               3.688191\n",
       "pros               3.808212\n",
       "hes                3.852983\n",
       "cons               4.305074\n",
       "how                4.435756\n",
       "introduces         4.456310\n",
       "just               4.514982\n",
       "cant               4.524034\n",
       "doesnt             4.609962\n",
       "shit               4.660664\n",
       "wont               4.770151\n",
       "area               4.833877\n",
       "fucking            5.511220\n",
       "trumps             5.741289\n",
       "announces          6.354899\n",
       "nations            6.365406\n",
       "tips               7.374050"
      ]
     },
     "execution_count": 69,
     "metadata": {},
     "output_type": "execute_result"
    }
   ],
   "source": [
    "pd.DataFrame(np.exp(pipe[1].coef_[0]), index=pipe[0].get_feature_names(), columns=[\"odds multiplier\"]).sort_values(\"odds multiplier\").tail(50)"
   ]
  },
  {
   "cell_type": "markdown",
   "metadata": {},
   "source": [
    "## Hyperparameter searching ft. ngrams, finite features, stop words"
   ]
  },
  {
   "cell_type": "markdown",
   "metadata": {},
   "source": [
    "Can we improve this with a hyperparameter search? We will consider using stop words, ngrams, a finite number of features, and a few other hyperparameters."
   ]
  },
  {
   "cell_type": "code",
   "execution_count": 27,
   "metadata": {
    "ExecuteTime": {
     "end_time": "2020-01-31T09:20:40.987346Z",
     "start_time": "2020-01-31T09:20:26.130843Z"
    },
    "scrolled": true
   },
   "outputs": [],
   "source": [
    "pipe = Pipeline([\n",
    "    (\"cvec\", CountVectorizer(strip_accents=\"unicode\")),\n",
    "#     (\"norm\", Normalizer()),\n",
    "    (\"logreg\", LogisticRegression(max_iter=1000))\n",
    "])\n",
    "\n",
    "rand_search = RandomizedSearchCV(pipe,\n",
    "                                 n_jobs=-2,\n",
    "                                 n_iter=50,\n",
    "                                 param_distributions={\n",
    "    \"logreg__C\": np.logspace(-1,1,100),\n",
    "    \"cvec__max_df\": [.99, 1],\n",
    "    \"cvec__min_df\": [0, 0.01],\n",
    "    \"cvec__stop_words\": [None, [i for i in theonion_top_words if i in nottheonion_top_words]],\n",
    "    \"cvec__ngram_range\": [(1,1), (1,2)],\n",
    "    \"cvec__max_features\": [None, 10, 50, 100, 250, 500, 1000, 2000, 5000, 10000, 20000, 50000]\n",
    "})\n",
    "rand_search.fit(X_train, y_train);"
   ]
  },
  {
   "cell_type": "code",
   "execution_count": 28,
   "metadata": {
    "ExecuteTime": {
     "end_time": "2020-01-31T09:20:41.001311Z",
     "start_time": "2020-01-31T09:20:40.988344Z"
    }
   },
   "outputs": [
    {
     "data": {
      "text/plain": [
       "Pipeline(memory=None,\n",
       "         steps=[('cvec',\n",
       "                 CountVectorizer(analyzer='word', binary=False,\n",
       "                                 decode_error='strict',\n",
       "                                 dtype=<class 'numpy.int64'>, encoding='utf-8',\n",
       "                                 input='content', lowercase=True, max_df=0.99,\n",
       "                                 max_features=10000, min_df=0,\n",
       "                                 ngram_range=(1, 1), preprocessor=None,\n",
       "                                 stop_words=None, strip_accents='unicode',\n",
       "                                 token_pattern='(?u)\\\\b\\\\w\\\\w+\\\\b',\n",
       "                                 tokenizer=None, vocabulary=None)),\n",
       "                ('logreg',\n",
       "                 LogisticRegression(C=0.6734150657750824, class_weight=None,\n",
       "                                    dual=False, fit_intercept=True,\n",
       "                                    intercept_scaling=1, l1_ratio=None,\n",
       "                                    max_iter=1000, multi_class='auto',\n",
       "                                    n_jobs=None, penalty='l2',\n",
       "                                    random_state=None, solver='lbfgs',\n",
       "                                    tol=0.0001, verbose=0, warm_start=False))],\n",
       "         verbose=False)"
      ]
     },
     "execution_count": 28,
     "metadata": {},
     "output_type": "execute_result"
    }
   ],
   "source": [
    "rand_search.best_estimator_"
   ]
  },
  {
   "cell_type": "code",
   "execution_count": 29,
   "metadata": {
    "ExecuteTime": {
     "end_time": "2020-01-31T09:20:41.155896Z",
     "start_time": "2020-01-31T09:20:41.003305Z"
    }
   },
   "outputs": [
    {
     "data": {
      "text/plain": [
       "0.9685"
      ]
     },
     "execution_count": 29,
     "metadata": {},
     "output_type": "execute_result"
    }
   ],
   "source": [
    "rand_search.score(X_train, y_train)"
   ]
  },
  {
   "cell_type": "code",
   "execution_count": 30,
   "metadata": {
    "ExecuteTime": {
     "end_time": "2020-01-31T09:20:41.204767Z",
     "start_time": "2020-01-31T09:20:41.157890Z"
    }
   },
   "outputs": [
    {
     "data": {
      "text/plain": [
       "0.8005"
      ]
     },
     "execution_count": 30,
     "metadata": {},
     "output_type": "execute_result"
    }
   ],
   "source": [
    "rand_search.score(X_test, y_test)"
   ]
  },
  {
   "cell_type": "code",
   "execution_count": 31,
   "metadata": {
    "ExecuteTime": {
     "end_time": "2020-01-31T09:20:41.297518Z",
     "start_time": "2020-01-31T09:20:41.206761Z"
    }
   },
   "outputs": [
    {
     "data": {
      "text/plain": [
       "0.7931560592850916"
      ]
     },
     "execution_count": 31,
     "metadata": {},
     "output_type": "execute_result"
    }
   ],
   "source": [
    "rand_search.score(theonion_holdout[\"title\"], theonion_holdout[\"is_onion\"])"
   ]
  },
  {
   "cell_type": "code",
   "execution_count": 32,
   "metadata": {
    "ExecuteTime": {
     "end_time": "2020-01-31T09:20:48.393206Z",
     "start_time": "2020-01-31T09:20:41.299513Z"
    }
   },
   "outputs": [
    {
     "data": {
      "text/plain": [
       "0.8050572730513194"
      ]
     },
     "execution_count": 32,
     "metadata": {},
     "output_type": "execute_result"
    }
   ],
   "source": [
    "rand_search.score(nottheonion_holdout[\"title\"], nottheonion_holdout[\"is_onion\"])"
   ]
  },
  {
   "cell_type": "markdown",
   "metadata": {},
   "source": [
    "This is a marginal improvement over our naive model, but it's worth noting that we finish training this model in half the time."
   ]
  },
  {
   "cell_type": "markdown",
   "metadata": {},
   "source": [
    "# CountVectorizer + Naive Bayes\n",
    "\n",
    "In the following section, we apply a variety of Naive Bayes models to our CountVectorized titles."
   ]
  },
  {
   "cell_type": "markdown",
   "metadata": {},
   "source": [
    "## CVec + MultinomialNB\n",
    "### Naive"
   ]
  },
  {
   "cell_type": "code",
   "execution_count": 33,
   "metadata": {
    "ExecuteTime": {
     "end_time": "2020-01-31T09:20:48.513884Z",
     "start_time": "2020-01-31T09:20:48.395202Z"
    }
   },
   "outputs": [
    {
     "data": {
      "text/plain": [
       "Pipeline(memory=None,\n",
       "         steps=[('cvec',\n",
       "                 CountVectorizer(analyzer='word', binary=False,\n",
       "                                 decode_error='strict',\n",
       "                                 dtype=<class 'numpy.int64'>, encoding='utf-8',\n",
       "                                 input='content', lowercase=True, max_df=1.0,\n",
       "                                 max_features=None, min_df=1,\n",
       "                                 ngram_range=(1, 1), preprocessor=None,\n",
       "                                 stop_words=None, strip_accents=None,\n",
       "                                 token_pattern='(?u)\\\\b\\\\w\\\\w+\\\\b',\n",
       "                                 tokenizer=None, vocabulary=None)),\n",
       "                ('mnb',\n",
       "                 MultinomialNB(alpha=1.0, class_prior=None, fit_prior=True))],\n",
       "         verbose=False)"
      ]
     },
     "execution_count": 33,
     "metadata": {},
     "output_type": "execute_result"
    }
   ],
   "source": [
    "pipe = Pipeline([\n",
    "    (\"cvec\", CountVectorizer()),\n",
    "    (\"mnb\", MultinomialNB())\n",
    "])\n",
    "     \n",
    "pipe.fit(X_train, y_train)"
   ]
  },
  {
   "cell_type": "code",
   "execution_count": 34,
   "metadata": {
    "ExecuteTime": {
     "end_time": "2020-01-31T09:20:55.159285Z",
     "start_time": "2020-01-31T09:20:48.515879Z"
    }
   },
   "outputs": [
    {
     "data": {
      "text/plain": [
       "0.9541666666666667"
      ]
     },
     "metadata": {},
     "output_type": "display_data"
    },
    {
     "data": {
      "text/plain": [
       "0.8115"
      ]
     },
     "metadata": {},
     "output_type": "display_data"
    },
    {
     "data": {
      "text/plain": [
       "0.8110287707061901"
      ]
     },
     "metadata": {},
     "output_type": "display_data"
    },
    {
     "data": {
      "text/plain": [
       "0.8055365555245132"
      ]
     },
     "metadata": {},
     "output_type": "display_data"
    }
   ],
   "source": [
    "display(pipe.score(X_train, y_train))\n",
    "display(pipe.score(X_test, y_test))\n",
    "display(pipe.score(theonion_holdout[\"title\"], theonion_holdout[\"is_onion\"]))\n",
    "display(pipe.score(nottheonion_holdout[\"title\"], nottheonion_holdout[\"is_onion\"]))"
   ]
  },
  {
   "cell_type": "markdown",
   "metadata": {},
   "source": [
    "### RandomizedSearchCV'd"
   ]
  },
  {
   "cell_type": "code",
   "execution_count": 35,
   "metadata": {
    "ExecuteTime": {
     "end_time": "2020-01-31T09:21:05.506002Z",
     "start_time": "2020-01-31T09:20:55.161279Z"
    }
   },
   "outputs": [],
   "source": [
    "pipe = Pipeline([\n",
    "    (\"cvec\", CountVectorizer(strip_accents=\"unicode\")),\n",
    "    (\"mnb\", MultinomialNB())\n",
    "])\n",
    "\n",
    "rand_search = RandomizedSearchCV(pipe,\n",
    "                                 n_jobs=-2,\n",
    "                                 n_iter=50,\n",
    "                                 param_distributions={\n",
    "    \"mnb__alpha\": np.linspace(0,1,11),\n",
    "    \"cvec__max_df\": [.99, 1],\n",
    "    \"cvec__min_df\": [0, 0.01],\n",
    "    \"cvec__stop_words\": [None, [i for i in theonion_top_words if i in nottheonion_top_words]],\n",
    "    \"cvec__ngram_range\": [(1,1), (1,2)],\n",
    "    \"cvec__max_features\": [None, 10, 50, 100, 250, 500, 1000, 2000, 5000, 10000, 20000, 50000]\n",
    "})\n",
    "rand_search.fit(X_train, y_train);"
   ]
  },
  {
   "cell_type": "code",
   "execution_count": 36,
   "metadata": {
    "ExecuteTime": {
     "end_time": "2020-01-31T09:21:05.514916Z",
     "start_time": "2020-01-31T09:21:05.507946Z"
    }
   },
   "outputs": [
    {
     "data": {
      "text/plain": [
       "Pipeline(memory=None,\n",
       "         steps=[('cvec',\n",
       "                 CountVectorizer(analyzer='word', binary=False,\n",
       "                                 decode_error='strict',\n",
       "                                 dtype=<class 'numpy.int64'>, encoding='utf-8',\n",
       "                                 input='content', lowercase=True, max_df=0.99,\n",
       "                                 max_features=10000, min_df=0,\n",
       "                                 ngram_range=(1, 1), preprocessor=None,\n",
       "                                 stop_words=None, strip_accents='unicode',\n",
       "                                 token_pattern='(?u)\\\\b\\\\w\\\\w+\\\\b',\n",
       "                                 tokenizer=None, vocabulary=None)),\n",
       "                ('mnb',\n",
       "                 MultinomialNB(alpha=0.9, class_prior=None, fit_prior=True))],\n",
       "         verbose=False)"
      ]
     },
     "execution_count": 36,
     "metadata": {},
     "output_type": "execute_result"
    }
   ],
   "source": [
    "rand_search.best_estimator_"
   ]
  },
  {
   "cell_type": "code",
   "execution_count": 37,
   "metadata": {
    "ExecuteTime": {
     "end_time": "2020-01-31T09:21:13.033313Z",
     "start_time": "2020-01-31T09:21:05.516898Z"
    }
   },
   "outputs": [
    {
     "data": {
      "text/plain": [
       "0.9443333333333334"
      ]
     },
     "metadata": {},
     "output_type": "display_data"
    },
    {
     "data": {
      "text/plain": [
       "0.812"
      ]
     },
     "metadata": {},
     "output_type": "display_data"
    },
    {
     "data": {
      "text/plain": [
       "0.8053618134263295"
      ]
     },
     "metadata": {},
     "output_type": "display_data"
    },
    {
     "data": {
      "text/plain": [
       "0.8031425516131829"
      ]
     },
     "metadata": {},
     "output_type": "display_data"
    }
   ],
   "source": [
    "display(rand_search.score(X_train, y_train))\n",
    "display(rand_search.score(X_test, y_test))\n",
    "display(rand_search.score(theonion_holdout[\"title\"], theonion_holdout[\"is_onion\"]))\n",
    "display(rand_search.score(nottheonion_holdout[\"title\"], nottheonion_holdout[\"is_onion\"]))"
   ]
  },
  {
   "cell_type": "markdown",
   "metadata": {},
   "source": [
    "## CVec + ComplementNB"
   ]
  },
  {
   "cell_type": "code",
   "execution_count": 38,
   "metadata": {
    "ExecuteTime": {
     "end_time": "2020-01-31T09:21:13.160990Z",
     "start_time": "2020-01-31T09:21:13.035303Z"
    }
   },
   "outputs": [
    {
     "data": {
      "text/plain": [
       "Pipeline(memory=None,\n",
       "         steps=[('cvec',\n",
       "                 CountVectorizer(analyzer='word', binary=False,\n",
       "                                 decode_error='strict',\n",
       "                                 dtype=<class 'numpy.int64'>, encoding='utf-8',\n",
       "                                 input='content', lowercase=True, max_df=1.0,\n",
       "                                 max_features=None, min_df=1,\n",
       "                                 ngram_range=(1, 1), preprocessor=None,\n",
       "                                 stop_words=None, strip_accents=None,\n",
       "                                 token_pattern='(?u)\\\\b\\\\w\\\\w+\\\\b',\n",
       "                                 tokenizer=None, vocabulary=None)),\n",
       "                ('cnb',\n",
       "                 ComplementNB(alpha=1.0, class_prior=None, fit_prior=True,\n",
       "                              norm=False))],\n",
       "         verbose=False)"
      ]
     },
     "execution_count": 38,
     "metadata": {},
     "output_type": "execute_result"
    }
   ],
   "source": [
    "pipe = Pipeline([\n",
    "    (\"cvec\", CountVectorizer()),\n",
    "    (\"cnb\", ComplementNB())\n",
    "])\n",
    "     \n",
    "pipe.fit(X_train, y_train)"
   ]
  },
  {
   "cell_type": "code",
   "execution_count": 39,
   "metadata": {
    "ExecuteTime": {
     "end_time": "2020-01-31T09:21:19.386835Z",
     "start_time": "2020-01-31T09:21:13.162987Z"
    }
   },
   "outputs": [
    {
     "data": {
      "text/plain": [
       "0.9543333333333334"
      ]
     },
     "metadata": {},
     "output_type": "display_data"
    },
    {
     "data": {
      "text/plain": [
       "0.8115"
      ]
     },
     "metadata": {},
     "output_type": "display_data"
    },
    {
     "data": {
      "text/plain": [
       "0.8103748910200523"
      ]
     },
     "metadata": {},
     "output_type": "display_data"
    },
    {
     "data": {
      "text/plain": [
       "0.8072561921368773"
      ]
     },
     "metadata": {},
     "output_type": "display_data"
    }
   ],
   "source": [
    "display(pipe.score(X_train, y_train))\n",
    "display(pipe.score(X_test, y_test))\n",
    "display(pipe.score(theonion_holdout[\"title\"], theonion_holdout[\"is_onion\"]))\n",
    "display(pipe.score(nottheonion_holdout[\"title\"], nottheonion_holdout[\"is_onion\"]))"
   ]
  },
  {
   "cell_type": "code",
   "execution_count": 40,
   "metadata": {
    "ExecuteTime": {
     "end_time": "2020-01-31T09:21:30.236007Z",
     "start_time": "2020-01-31T09:21:19.388831Z"
    }
   },
   "outputs": [],
   "source": [
    "pipe = Pipeline([\n",
    "    (\"cvec\", CountVectorizer(strip_accents=\"unicode\")),\n",
    "    (\"cnb\", ComplementNB())\n",
    "])\n",
    "\n",
    "rand_search = RandomizedSearchCV(pipe,\n",
    "                                 n_jobs=-2,\n",
    "                                 n_iter=50,\n",
    "                                 param_distributions={\n",
    "    \"cnb__alpha\": np.linspace(0,1,11),\n",
    "    \"cvec__max_df\": [.99, 1],\n",
    "    \"cvec__min_df\": [0, 0.01],\n",
    "    \"cvec__stop_words\": [None, [i for i in theonion_top_words if i in nottheonion_top_words]],\n",
    "    \"cvec__ngram_range\": [(1,1), (1,2)],\n",
    "    \"cvec__max_features\": [None, 10, 50, 100, 250, 500, 1000, 2000, 5000, 10000, 20000, 50000]\n",
    "})\n",
    "rand_search.fit(X_train, y_train);"
   ]
  },
  {
   "cell_type": "code",
   "execution_count": 41,
   "metadata": {
    "ExecuteTime": {
     "end_time": "2020-01-31T09:21:38.294158Z",
     "start_time": "2020-01-31T09:21:30.237995Z"
    },
    "scrolled": true
   },
   "outputs": [
    {
     "data": {
      "text/plain": [
       "0.9551666666666667"
      ]
     },
     "metadata": {},
     "output_type": "display_data"
    },
    {
     "data": {
      "text/plain": [
       "0.812"
      ]
     },
     "metadata": {},
     "output_type": "display_data"
    },
    {
     "data": {
      "text/plain": [
       "0.8003487358326068"
      ]
     },
     "metadata": {},
     "output_type": "display_data"
    },
    {
     "data": {
      "text/plain": [
       "0.7988651361740253"
      ]
     },
     "metadata": {},
     "output_type": "display_data"
    }
   ],
   "source": [
    "display(rand_search.score(X_train, y_train))\n",
    "display(rand_search.score(X_test, y_test))\n",
    "display(rand_search.score(theonion_holdout[\"title\"], theonion_holdout[\"is_onion\"]))\n",
    "display(rand_search.score(nottheonion_holdout[\"title\"], nottheonion_holdout[\"is_onion\"]))"
   ]
  },
  {
   "cell_type": "markdown",
   "metadata": {},
   "source": [
    "## CVec + BernoulliNB"
   ]
  },
  {
   "cell_type": "code",
   "execution_count": 42,
   "metadata": {
    "ExecuteTime": {
     "end_time": "2020-01-31T09:21:38.430816Z",
     "start_time": "2020-01-31T09:21:38.296176Z"
    }
   },
   "outputs": [
    {
     "data": {
      "text/plain": [
       "Pipeline(memory=None,\n",
       "         steps=[('cvec',\n",
       "                 CountVectorizer(analyzer='word', binary=False,\n",
       "                                 decode_error='strict',\n",
       "                                 dtype=<class 'numpy.int64'>, encoding='utf-8',\n",
       "                                 input='content', lowercase=True, max_df=1.0,\n",
       "                                 max_features=None, min_df=1,\n",
       "                                 ngram_range=(1, 1), preprocessor=None,\n",
       "                                 stop_words=None, strip_accents=None,\n",
       "                                 token_pattern='(?u)\\\\b\\\\w\\\\w+\\\\b',\n",
       "                                 tokenizer=None, vocabulary=None)),\n",
       "                ('bnb',\n",
       "                 BernoulliNB(alpha=1.0, binarize=0.0, class_prior=None,\n",
       "                             fit_prior=True))],\n",
       "         verbose=False)"
      ]
     },
     "execution_count": 42,
     "metadata": {},
     "output_type": "execute_result"
    }
   ],
   "source": [
    "pipe = Pipeline([\n",
    "    (\"cvec\", CountVectorizer()),\n",
    "    (\"bnb\", BernoulliNB())\n",
    "])\n",
    "     \n",
    "pipe.fit(X_train, y_train)"
   ]
  },
  {
   "cell_type": "code",
   "execution_count": 43,
   "metadata": {
    "ExecuteTime": {
     "end_time": "2020-01-31T09:21:45.773976Z",
     "start_time": "2020-01-31T09:21:38.432813Z"
    }
   },
   "outputs": [
    {
     "data": {
      "text/plain": [
       "0.9545"
      ]
     },
     "metadata": {},
     "output_type": "display_data"
    },
    {
     "data": {
      "text/plain": [
       "0.8125"
      ]
     },
     "metadata": {},
     "output_type": "display_data"
    },
    {
     "data": {
      "text/plain": [
       "0.8007846556233653"
      ]
     },
     "metadata": {},
     "output_type": "display_data"
    },
    {
     "data": {
      "text/plain": [
       "0.8159531218389033"
      ]
     },
     "metadata": {},
     "output_type": "display_data"
    }
   ],
   "source": [
    "display(pipe.score(X_train, y_train))\n",
    "display(pipe.score(X_test, y_test))\n",
    "display(pipe.score(theonion_holdout[\"title\"], theonion_holdout[\"is_onion\"]))\n",
    "display(pipe.score(nottheonion_holdout[\"title\"], nottheonion_holdout[\"is_onion\"]))"
   ]
  },
  {
   "cell_type": "code",
   "execution_count": 44,
   "metadata": {
    "ExecuteTime": {
     "end_time": "2020-01-31T09:21:56.173467Z",
     "start_time": "2020-01-31T09:21:45.775953Z"
    }
   },
   "outputs": [],
   "source": [
    "pipe = Pipeline([\n",
    "    (\"cvec\", CountVectorizer(strip_accents=\"unicode\")),\n",
    "    (\"bnb\", BernoulliNB())\n",
    "])\n",
    "\n",
    "rand_search = RandomizedSearchCV(pipe,\n",
    "                                 n_jobs=-2,\n",
    "                                 n_iter=50,\n",
    "                                 param_distributions={\n",
    "    \"bnb__alpha\": np.linspace(0,1,11),\n",
    "    \"cvec__max_df\": [.99, 1],\n",
    "    \"cvec__min_df\": [0, 0.01],\n",
    "    \"cvec__stop_words\": [None, [i for i in theonion_top_words if i in nottheonion_top_words]],\n",
    "    \"cvec__ngram_range\": [(1,1), (1,2)],\n",
    "    \"cvec__max_features\": [None, 10, 50, 100, 250, 500, 1000, 2000, 5000, 10000, 20000, 50000]\n",
    "})\n",
    "rand_search.fit(X_train, y_train);"
   ]
  },
  {
   "cell_type": "code",
   "execution_count": 45,
   "metadata": {
    "ExecuteTime": {
     "end_time": "2020-01-31T09:22:03.932204Z",
     "start_time": "2020-01-31T09:21:56.174454Z"
    },
    "scrolled": true
   },
   "outputs": [
    {
     "data": {
      "text/plain": [
       "0.9618333333333333"
      ]
     },
     "metadata": {},
     "output_type": "display_data"
    },
    {
     "data": {
      "text/plain": [
       "0.81"
      ]
     },
     "metadata": {},
     "output_type": "display_data"
    },
    {
     "data": {
      "text/plain": [
       "0.7948997384481256"
      ]
     },
     "metadata": {},
     "output_type": "display_data"
    },
    {
     "data": {
      "text/plain": [
       "0.8105630003564512"
      ]
     },
     "metadata": {},
     "output_type": "display_data"
    }
   ],
   "source": [
    "display(rand_search.score(X_train, y_train))\n",
    "display(rand_search.score(X_test, y_test))\n",
    "display(rand_search.score(theonion_holdout[\"title\"], theonion_holdout[\"is_onion\"]))\n",
    "display(rand_search.score(nottheonion_holdout[\"title\"], nottheonion_holdout[\"is_onion\"]))"
   ]
  },
  {
   "cell_type": "markdown",
   "metadata": {},
   "source": [
    "# Conclusions"
   ]
  },
  {
   "cell_type": "markdown",
   "metadata": {},
   "source": [
    "There's nothing like fitting 8 (technically a LOT more than 8) very similar models and seeing them perform virtually identically...\n",
    "\n",
    "In all seriousness, our first model, with naive CountVectorization + a basic Logistic Regression was very performant, and in fact none of our additional models appeared to make significant differences. BernoulliNB ended up being the best, but we haven't sampled these results enough for them to be numerically stable, so it's hard to say anything. In a world where I have infinite time and computation budget, I could resample these test scores with different samples until I had confidence intervals, and then could do a hypothesis test. We'll leave this as an exercise to a hypothetical reader.\n",
    "\n",
    "In our next notebook, we'll explore using TF-IDF instead of CountVectorizer and seeing how much our results. In the notebook after that, we'll explore using lemmatization and word embeddings with spaCy."
   ]
  }
 ],
 "metadata": {
  "kernelspec": {
   "display_name": "Python 3",
   "language": "python",
   "name": "python3"
  },
  "language_info": {
   "codemirror_mode": {
    "name": "ipython",
    "version": 3
   },
   "file_extension": ".py",
   "mimetype": "text/x-python",
   "name": "python",
   "nbconvert_exporter": "python",
   "pygments_lexer": "ipython3",
   "version": "3.7.6"
  },
  "toc": {
   "base_numbering": 1,
   "nav_menu": {},
   "number_sections": true,
   "sideBar": true,
   "skip_h1_title": false,
   "title_cell": "Table of Contents",
   "title_sidebar": "Contents",
   "toc_cell": false,
   "toc_position": {},
   "toc_section_display": true,
   "toc_window_display": false
  }
 },
 "nbformat": 4,
 "nbformat_minor": 2
}
