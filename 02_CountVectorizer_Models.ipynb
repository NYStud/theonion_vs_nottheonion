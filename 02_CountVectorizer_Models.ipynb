{
 "cells": [
  {
   "cell_type": "markdown",
   "metadata": {},
   "source": [
    "# CountVectorizer Models\n",
    "In order to train a model on our titles, we need to represent our text numerically. In this notebook, we explore the simplest way to do this: with a \"Bag of Words\" representation, and then fitting a variety of models to the ensulting features."
   ]
  },
  {
   "cell_type": "code",
   "execution_count": 1,
   "metadata": {
    "ExecuteTime": {
     "end_time": "2020-01-31T09:19:34.457059Z",
     "start_time": "2020-01-31T09:19:33.709471Z"
    }
   },
   "outputs": [],
   "source": [
    "import numpy as np\n",
    "import pandas as pd\n",
    "import matplotlib.pyplot as plt\n",
    "\n",
    "import pickle"
   ]
  },
  {
   "cell_type": "code",
   "execution_count": 2,
   "metadata": {
    "ExecuteTime": {
     "end_time": "2020-01-31T09:19:34.921699Z",
     "start_time": "2020-01-31T09:19:34.458974Z"
    }
   },
   "outputs": [],
   "source": [
    "from sklearn.preprocessing import Normalizer\n",
    "from sklearn.model_selection import train_test_split, GridSearchCV, RandomizedSearchCV\n",
    "from sklearn.pipeline import Pipeline\n",
    "from sklearn.linear_model import LogisticRegression, LogisticRegressionCV\n",
    "from sklearn.naive_bayes import MultinomialNB, GaussianNB, ComplementNB, BernoulliNB\n",
    "# Import CountVectorizer and TFIDFVectorizer from feature_extraction.text.\n",
    "from sklearn.feature_extraction.text import CountVectorizer,\\\n",
    "                                            TfidfVectorizer"
   ]
  },
  {
   "cell_type": "code",
   "execution_count": 3,
   "metadata": {
    "ExecuteTime": {
     "end_time": "2020-01-31T09:19:35.201378Z",
     "start_time": "2020-01-31T09:19:34.923610Z"
    }
   },
   "outputs": [],
   "source": [
    "import nltk\n",
    "from nltk.stem import WordNetLemmatizer\n",
    "from nltk.tokenize import RegexpTokenizer\n",
    "from nltk.stem.porter import PorterStemmer"
   ]
  },
  {
   "cell_type": "code",
   "execution_count": 4,
   "metadata": {
    "ExecuteTime": {
     "end_time": "2020-01-31T09:19:35.210353Z",
     "start_time": "2020-01-31T09:19:35.203370Z"
    }
   },
   "outputs": [],
   "source": [
    "def save_obj(obj, filename):\n",
    "    with open(filename + '.pkl', 'wb') as f:\n",
    "        pickle.dump(obj, f, pickle.HIGHEST_PROTOCOL)\n",
    "\n",
    "def load_obj(filename):\n",
    "    with open(filename + '.pkl', 'rb') as f:\n",
    "        return pickle.load(f)"
   ]
  },
  {
   "cell_type": "code",
   "execution_count": 5,
   "metadata": {
    "ExecuteTime": {
     "end_time": "2020-01-31T09:19:35.221323Z",
     "start_time": "2020-01-31T09:19:35.213346Z"
    }
   },
   "outputs": [],
   "source": [
    "DIR = \"C:\\\\Users\\\\AzNsAnTaGiN\\\\DSI\\\\Projects\\\\project_3\\\\data\\\\\"\n",
    "FILE1 = \"theonion\"\n",
    "FILE2 = \"nottheonion\"\n",
    "FILE3 = \"onionheadlines\""
   ]
  },
  {
   "cell_type": "markdown",
   "metadata": {},
   "source": [
    "# Data Import\n",
    "We previously cleaned our data, so lets get it:"
   ]
  },
  {
   "cell_type": "code",
   "execution_count": 6,
   "metadata": {
    "ExecuteTime": {
     "end_time": "2020-01-31T09:19:35.442743Z",
     "start_time": "2020-01-31T09:19:35.222319Z"
    }
   },
   "outputs": [],
   "source": [
    "X_theonion = load_obj(DIR+FILE1+\"_df_clean\")\n",
    "X_nottheonion = load_obj(DIR+FILE2+\"_df_clean\")"
   ]
  },
  {
   "cell_type": "code",
   "execution_count": 7,
   "metadata": {
    "ExecuteTime": {
     "end_time": "2020-01-31T09:19:35.451706Z",
     "start_time": "2020-01-31T09:19:35.443727Z"
    }
   },
   "outputs": [],
   "source": [
    "X_theonion[\"is_onion\"] = 1\n",
    "X_nottheonion[\"is_onion\"] = -1"
   ]
  },
  {
   "cell_type": "code",
   "execution_count": 8,
   "metadata": {
    "ExecuteTime": {
     "end_time": "2020-01-31T09:19:35.464688Z",
     "start_time": "2020-01-31T09:19:35.454699Z"
    }
   },
   "outputs": [
    {
     "data": {
      "text/plain": [
       "8588"
      ]
     },
     "execution_count": 8,
     "metadata": {},
     "output_type": "execute_result"
    }
   ],
   "source": [
    "len(X_theonion)"
   ]
  },
  {
   "cell_type": "code",
   "execution_count": 9,
   "metadata": {
    "ExecuteTime": {
     "end_time": "2020-01-31T09:19:35.473648Z",
     "start_time": "2020-01-31T09:19:35.467677Z"
    }
   },
   "outputs": [
    {
     "data": {
      "text/plain": [
       "419204"
      ]
     },
     "execution_count": 9,
     "metadata": {},
     "output_type": "execute_result"
    }
   ],
   "source": [
    "len(X_nottheonion)"
   ]
  },
  {
   "cell_type": "markdown",
   "metadata": {},
   "source": [
    "We have about 50x as much data from `not_theonion`."
   ]
  },
  {
   "cell_type": "markdown",
   "metadata": {},
   "source": [
    "## Peeking at the data"
   ]
  },
  {
   "cell_type": "code",
   "execution_count": 10,
   "metadata": {
    "ExecuteTime": {
     "end_time": "2020-01-31T09:19:35.663655Z",
     "start_time": "2020-01-31T09:19:35.475643Z"
    }
   },
   "outputs": [],
   "source": [
    "N=4000\n",
    "X_theonion_shuffled = X_theonion.sample(len(X_theonion))\n",
    "theonion_sample = X_theonion_shuffled.head(N)\n",
    "theonion_holdout = X_theonion_shuffled.tail(len(X_theonion_shuffled) - N)\n",
    "\n",
    "X_nottheonion_shuffled = X_nottheonion.sample(len(X_nottheonion))\n",
    "nottheonion_sample = X_nottheonion_shuffled.head(N)\n",
    "nottheonion_holdout = X_nottheonion_shuffled.tail(len(X_nottheonion_shuffled)-N)\n",
    "X_sample = pd.concat([theonion_sample, nottheonion_sample])\n",
    "X = pd.concat([X_theonion, X_nottheonion])"
   ]
  },
  {
   "cell_type": "code",
   "execution_count": 11,
   "metadata": {
    "ExecuteTime": {
     "end_time": "2020-01-31T09:19:35.953065Z",
     "start_time": "2020-01-31T09:19:35.665649Z"
    }
   },
   "outputs": [],
   "source": [
    "cvec = CountVectorizer(ngram_range=(1,1))\n",
    "cvec.fit(theonion_sample[\"title\"])\n",
    "cvec.transform(theonion_sample[\"title\"])\n",
    "cvec_df = pd.DataFrame(cvec.transform(theonion_sample[\"title\"]).toarray(),\n",
    "                      columns=cvec.get_feature_names())"
   ]
  },
  {
   "cell_type": "code",
   "execution_count": 12,
   "metadata": {
    "ExecuteTime": {
     "end_time": "2020-01-31T09:19:36.224890Z",
     "start_time": "2020-01-31T09:19:35.954878Z"
    }
   },
   "outputs": [],
   "source": [
    "cvec2 = CountVectorizer(ngram_range=(1,1))\n",
    "cvec2.fit(nottheonion_sample[\"title\"])\n",
    "cvec2.transform(nottheonion_sample[\"title\"])\n",
    "cvec2_df = pd.DataFrame(cvec2.transform(nottheonion_sample[\"title\"]).toarray(),\n",
    "                      columns=cvec2.get_feature_names())"
   ]
  },
  {
   "cell_type": "code",
   "execution_count": 13,
   "metadata": {
    "ExecuteTime": {
     "end_time": "2020-01-31T09:19:36.480639Z",
     "start_time": "2020-01-31T09:19:36.226809Z"
    }
   },
   "outputs": [
    {
     "data": {
      "image/png": "[encoded data removed]",
      "text/plain": [
       "<Figure size 432x288 with 1 Axes>"
      ]
     },
     "metadata": {
      "needs_background": "light"
     },
     "output_type": "display_data"
    }
   ],
   "source": [
    "zipf = cvec2_df.sum().sort_values(ascending=False).values\n",
    "zipf = zipf / zipf[0]\n",
    "plt.plot(zipf[:61]);\n",
    "plt.plot([1/x for x in range(1, 61)]);"
   ]
  },
  {
   "cell_type": "markdown",
   "metadata": {},
   "source": [
    "Words in languages are Zipf-distributed. Roughly speaking, the relative frequency of any word is inversely proportional to its rank. That is to say, the 2nd most common word appears half as often, the 3rd appears about a third as often, etc."
   ]
  },
  {
   "cell_type": "markdown",
   "metadata": {},
   "source": [
    "We can look at the tail end of this to see some fun unicode that we didn't successfully clean out!"
   ]
  },
  {
   "cell_type": "code",
   "execution_count": 14,
   "metadata": {
    "ExecuteTime": {
     "end_time": "2020-01-31T09:19:36.529540Z",
     "start_time": "2020-01-31T09:19:36.482635Z"
    },
    "scrolled": true
   },
   "outputs": [
    {
     "data": {
      "text/plain": [
       "yamaguchi      2  \n",
       "yankees        1  \n",
       "yanking        1  \n",
       "yanks          1  \n",
       "yanny          1  \n",
       "yard           5  \n",
       "yarn           1  \n",
       "yarram         1  \n",
       "yay            1  \n",
       "year           105\n",
       "yearbooks      1  \n",
       "years          35 \n",
       "yeh            1  \n",
       "yelling        2  \n",
       "yellow         2  \n",
       "yellowstone    1  \n",
       "yells          1  \n",
       "yelp           1  \n",
       "yes            5  \n",
       "yeshiva        1  \n",
       "yeti           1  \n",
       "ying           1  \n",
       "yo             2  \n",
       "yob            1  \n",
       "yoda           1  \n",
       "yoga           4  \n",
       "yoke           2  \n",
       "yolo           1  \n",
       "yom            1  \n",
       "york           20 \n",
       "yorke          1  \n",
       "yorker         1  \n",
       "yorkers        2  \n",
       "you            75 \n",
       "youd           1  \n",
       "young          23 \n",
       "youngsters     1  \n",
       "your           44 \n",
       "yourself       1  \n",
       "yourselves     1  \n",
       "youth          3  \n",
       "youtube        4  \n",
       "youtuber       1  \n",
       "yowza          1  \n",
       "yu             1  \n",
       "yup            1  \n",
       "yıkama         1  \n",
       "z4             1  \n",
       "zac            2  \n",
       "zara           1  \n",
       "zavala         1  \n",
       "zayn           1  \n",
       "ze             1  \n",
       "zealand        1  \n",
       "zero           1  \n",
       "zimbabwe       1  \n",
       "zimmerman      4  \n",
       "zlatan         1  \n",
       "zodiac         1  \n",
       "zombie         7  \n",
       "zombies        1  \n",
       "zone           1  \n",
       "zoo            13 \n",
       "zulema         1  \n",
       "ăn             1  \n",
       "điều           1  \n",
       "điện           1  \n",
       "đun            1  \n",
       "đám            1  \n",
       "для            1  \n",
       "касперского    1  \n",
       "ключи          1  \n",
       "скачать        1  \n",
       "سادي           1  \n",
       "عنيفه          1  \n",
       "और             1  \n",
       "कह             1  \n",
       "जक             1  \n",
       "नय             1  \n",
       "बच             1  \n",
       "dtype: int64"
      ]
     },
     "metadata": {},
     "output_type": "display_data"
    }
   ],
   "source": [
    "with pd.option_context(\"display.max_colwidth\", -1, \"display.max_rows\", None):\n",
    "    display(cvec2_df.sum().tail(80))"
   ]
  },
  {
   "cell_type": "markdown",
   "metadata": {},
   "source": [
    "## Words that are unique to `/r/theonion`"
   ]
  },
  {
   "cell_type": "code",
   "execution_count": 15,
   "metadata": {
    "ExecuteTime": {
     "end_time": "2020-01-31T09:19:36.535508Z",
     "start_time": "2020-01-31T09:19:36.531511Z"
    }
   },
   "outputs": [],
   "source": [
    "N = 250"
   ]
  },
  {
   "cell_type": "code",
   "execution_count": 16,
   "metadata": {
    "ExecuteTime": {
     "end_time": "2020-01-31T09:19:36.675305Z",
     "start_time": "2020-01-31T09:19:36.537488Z"
    }
   },
   "outputs": [],
   "source": [
    "theonion_top_words = cvec_df.sum().sort_values(ascending=False).index[:N]"
   ]
  },
  {
   "cell_type": "code",
   "execution_count": 17,
   "metadata": {
    "ExecuteTime": {
     "end_time": "2020-01-31T09:19:36.723989Z",
     "start_time": "2020-01-31T09:19:36.677123Z"
    }
   },
   "outputs": [],
   "source": [
    "nottheonion_top_words = cvec2_df.sum().sort_values(ascending=False).index[:N]"
   ]
  },
  {
   "cell_type": "code",
   "execution_count": 18,
   "metadata": {
    "ExecuteTime": {
     "end_time": "2020-01-31T09:19:36.760891Z",
     "start_time": "2020-01-31T09:19:36.724986Z"
    }
   },
   "outputs": [
    {
     "data": {
      "text/plain": [
       "[(89, 'week'),\n",
       " (74, 'know'),\n",
       " (74, 'nation'),\n",
       " (72, 'americans'),\n",
       " (64, 'going'),\n",
       " (64, 'still'),\n",
       " (61, 'area'),\n",
       " (61, 'most'),\n",
       " (59, 'things'),\n",
       " (51, 'nations'),\n",
       " (51, '2018'),\n",
       " (49, 'every'),\n",
       " (49, 'god'),\n",
       " (47, 'never'),\n",
       " (47, 'next'),\n",
       " (47, 'self'),\n",
       " (46, 'last'),\n",
       " (46, 'work'),\n",
       " (44, 'announces'),\n",
       " (44, 'getting'),\n",
       " (43, 'way'),\n",
       " (42, 'where'),\n",
       " (41, 'little'),\n",
       " (41, 'campaign'),\n",
       " (40, 'really'),\n",
       " (40, 'cant'),\n",
       " (39, 'right'),\n",
       " (39, 'scientists'),\n",
       " (38, 'job'),\n",
       " (38, 'any'),\n",
       " (38, 'around'),\n",
       " (36, 'tips'),\n",
       " (36, 'some'),\n",
       " (35, 'unveils'),\n",
       " (35, 'do'),\n",
       " (35, 'away'),\n",
       " (35, 'clinton'),\n",
       " (35, 'doesnt'),\n",
       " (35, 'john'),\n",
       " (34, 'or'),\n",
       " (33, 'hes'),\n",
       " (33, 'company'),\n",
       " (33, 'big'),\n",
       " (33, 'fucking'),\n",
       " (33, 'reveals'),\n",
       " (33, 'human'),\n",
       " (32, 'already'),\n",
       " (32, 'asks'),\n",
       " (32, 'finally'),\n",
       " (32, 'friends'),\n",
       " (31, 'social'),\n",
       " (31, 'why'),\n",
       " (31, 'entire'),\n",
       " (31, 'hours'),\n",
       " (30, 'releases'),\n",
       " (30, 'good'),\n",
       " (30, 'gop'),\n",
       " (30, 'plan'),\n",
       " (30, 'recalls'),\n",
       " (30, 'shit'),\n",
       " (30, 'other'),\n",
       " (30, 'under'),\n",
       " (29, 'believe'),\n",
       " (29, 'pictures'),\n",
       " (29, 'trumps'),\n",
       " (29, 'see'),\n",
       " (29, 'again'),\n",
       " (28, 'watch'),\n",
       " (28, 'mueller'),\n",
       " (28, 'discover'),\n",
       " (28, 'actually'),\n",
       " (28, 'another'),\n",
       " (28, 'single'),\n",
       " (27, 'look'),\n",
       " (27, 'office'),\n",
       " (27, 'forced'),\n",
       " (27, 'long'),\n",
       " (27, 'pope'),\n",
       " (27, 'cons'),\n",
       " (27, 'pros'),\n",
       " (27, 'plans'),\n",
       " (27, 'introduces'),\n",
       " (26, 'change'),\n",
       " (26, 'mans'),\n",
       " (26, 'local'),\n",
       " (26, 'majority'),\n",
       " (26, 'dad'),\n",
       " (26, 'announce'),\n",
       " (26, 'sexual'),\n",
       " (26, 'few'),\n",
       " (25, 'season'),\n",
       " (25, 'top'),\n",
       " (25, 'election'),\n",
       " (25, 'super'),\n",
       " (25, 'nfl'),\n",
       " (25, 'give'),\n",
       " (24, 'deal'),\n",
       " (24, 'much'),\n",
       " (24, 'room'),\n",
       " (24, 'everyone'),\n",
       " (24, 'dont'),\n",
       " (24, 'without'),\n",
       " (24, 'days'),\n",
       " (24, 'enough'),\n",
       " (23, 'come'),\n",
       " (23, 'better'),\n",
       " (23, 'until'),\n",
       " (23, 'part'),\n",
       " (23, 'middle'),\n",
       " (23, 'working'),\n",
       " (23, 'horoscopes'),\n",
       " (23, 'history')]"
      ]
     },
     "execution_count": 18,
     "metadata": {},
     "output_type": "execute_result"
    }
   ],
   "source": [
    "[(cvec_df[i].sum(),i) for i in theonion_top_words if i not in nottheonion_top_words]"
   ]
  },
  {
   "cell_type": "markdown",
   "metadata": {},
   "source": [
    "## Words that are unique to `/r/nottheonion`"
   ]
  },
  {
   "cell_type": "code",
   "execution_count": 19,
   "metadata": {
    "ExecuteTime": {
     "end_time": "2020-01-31T09:19:36.799798Z",
     "start_time": "2020-01-31T09:19:36.761888Z"
    }
   },
   "outputs": [
    {
     "data": {
      "text/plain": [
       "[(195, 'police'),\n",
       " (111, 'sex'),\n",
       " (98, 'arrested'),\n",
       " (81, 'because'),\n",
       " (77, 'us'),\n",
       " (54, 'florida'),\n",
       " (53, 'claims'),\n",
       " (53, 'car'),\n",
       " (52, 'found'),\n",
       " (51, 'dog'),\n",
       " (47, 'charged'),\n",
       " (45, 'black'),\n",
       " (45, 'baby'),\n",
       " (44, 'calls'),\n",
       " (43, 'fire'),\n",
       " (43, 'student'),\n",
       " (43, 'accused'),\n",
       " (42, 'donald'),\n",
       " (42, 'students'),\n",
       " (41, 'texas'),\n",
       " (40, 'shooting'),\n",
       " (39, 'boy'),\n",
       " (39, 'gay'),\n",
       " (38, 'drug'),\n",
       " (37, 'gun'),\n",
       " (37, 'dies'),\n",
       " (36, 'accidentally'),\n",
       " (36, 'cops'),\n",
       " (35, 'prison'),\n",
       " (35, 'teen'),\n",
       " (35, 'north'),\n",
       " (35, 'two'),\n",
       " (34, 'free'),\n",
       " (34, 'former'),\n",
       " (34, 'name'),\n",
       " (34, 'men'),\n",
       " (33, 'girl'),\n",
       " (33, 'sues'),\n",
       " (33, 'allegedly'),\n",
       " (32, 'kids'),\n",
       " (32, 'kill'),\n",
       " (32, 'university'),\n",
       " (32, 'son'),\n",
       " (31, 'russian'),\n",
       " (31, 'wins'),\n",
       " (31, 'driving'),\n",
       " (31, 'officer'),\n",
       " (30, 'town'),\n",
       " (30, 'using'),\n",
       " (30, 'penis'),\n",
       " (30, 'use'),\n",
       " (30, 'killed'),\n",
       " (30, 'wants'),\n",
       " (29, 'anti'),\n",
       " (29, 'chicken'),\n",
       " (29, 'shot'),\n",
       " (29, 'college'),\n",
       " (29, 'caught'),\n",
       " (29, 'live'),\n",
       " (28, 'murder'),\n",
       " (28, 'money'),\n",
       " (28, 'used'),\n",
       " (28, 'jail'),\n",
       " (28, 'called'),\n",
       " (28, 'city'),\n",
       " (27, 'ban'),\n",
       " (27, 'restaurant'),\n",
       " (27, 'himself'),\n",
       " (27, 'beer'),\n",
       " (27, 'told'),\n",
       " (27, 'help'),\n",
       " (27, 'cat'),\n",
       " (26, 'plane'),\n",
       " (26, 'got'),\n",
       " (26, 'face'),\n",
       " (26, 'had'),\n",
       " (26, 'ex'),\n",
       " (25, 'apple'),\n",
       " (25, 'due'),\n",
       " (25, 'marijuana'),\n",
       " (25, 'eating'),\n",
       " (25, 'minister'),\n",
       " (25, 'then'),\n",
       " (25, 'pay'),\n",
       " (25, 'leads'),\n",
       " (25, 'west'),\n",
       " (25, 'california'),\n",
       " (24, 'meth'),\n",
       " (24, 'support'),\n",
       " (24, 'fight'),\n",
       " (24, 'hospital'),\n",
       " (24, 'government'),\n",
       " (24, '15'),\n",
       " (24, 'daughter'),\n",
       " (24, 'flight'),\n",
       " (24, 'attack'),\n",
       " (23, 'church'),\n",
       " (23, 'tells'),\n",
       " (23, 'don'),\n",
       " (23, 'uk'),\n",
       " (23, 'young'),\n",
       " (23, 'space'),\n",
       " (23, 'post'),\n",
       " (23, 'water'),\n",
       " (23, 'wife'),\n",
       " (23, 'owner'),\n",
       " (23, 'didn'),\n",
       " (23, 're'),\n",
       " (23, 'apologizes'),\n",
       " (23, 'russia'),\n",
       " (22, 'isis'),\n",
       " (22, 'instead')]"
      ]
     },
     "execution_count": 19,
     "metadata": {},
     "output_type": "execute_result"
    }
   ],
   "source": [
    "[(cvec2_df[i].sum(),i) for i in nottheonion_top_words if i not in theonion_top_words]"
   ]
  },
  {
   "cell_type": "markdown",
   "metadata": {},
   "source": [
    "## Words that are common to both"
   ]
  },
  {
   "cell_type": "code",
   "execution_count": 20,
   "metadata": {
    "ExecuteTime": {
     "end_time": "2020-01-31T09:19:36.841694Z",
     "start_time": "2020-01-31T09:19:36.801781Z"
    }
   },
   "outputs": [
    {
     "data": {
      "text/plain": [
       "[(1325, 'to'),\n",
       " (721, 'of'),\n",
       " (898, 'in'),\n",
       " (715, 'for'),\n",
       " (656, 'the'),\n",
       " (414, 'on'),\n",
       " (398, 'with'),\n",
       " (439, 'man'),\n",
       " (150, 'new'),\n",
       " (235, 'by'),\n",
       " (350, 'after'),\n",
       " (201, 'trump'),\n",
       " (213, 'from'),\n",
       " (372, 'and'),\n",
       " (228, 'at'),\n",
       " (78, 'about'),\n",
       " (165, 'he'),\n",
       " (116, 'out'),\n",
       " (117, 'be'),\n",
       " (159, 'as'),\n",
       " (122, 'that'),\n",
       " (30, 'just'),\n",
       " (162, 'it'),\n",
       " (102, 'up'),\n",
       " (40, 'report'),\n",
       " (91, 'into'),\n",
       " (180, 'who'),\n",
       " (112, 'not'),\n",
       " (42, 'how'),\n",
       " (89, 'has'),\n",
       " (52, 'this'),\n",
       " (47, 'all'),\n",
       " (73, 'have'),\n",
       " (75, 'you'),\n",
       " (38, 'time'),\n",
       " (199, 'woman'),\n",
       " (105, 'year'),\n",
       " (48, 'day'),\n",
       " (28, 'study'),\n",
       " (73, 'will'),\n",
       " (172, 'over'),\n",
       " (67, 'can'),\n",
       " (75, 'him'),\n",
       " (206, 'his'),\n",
       " (62, 'they'),\n",
       " (289, 'is'),\n",
       " (64, 'more'),\n",
       " (25, 'only'),\n",
       " (43, 'get'),\n",
       " (35, 'if'),\n",
       " (38, 'first'),\n",
       " (50, 'now'),\n",
       " (35, 'back'),\n",
       " (62, 'off'),\n",
       " (77, 'no'),\n",
       " (32, 'what'),\n",
       " (88, 'old'),\n",
       " (25, 'finds'),\n",
       " (44, 'your'),\n",
       " (39, 'one'),\n",
       " (82, 'people'),\n",
       " (29, 'before'),\n",
       " (46, 'like'),\n",
       " (36, 'could'),\n",
       " (79, 'white'),\n",
       " (62, 'house'),\n",
       " (34, 'family'),\n",
       " (35, 'years'),\n",
       " (44, 'life'),\n",
       " (56, 'down'),\n",
       " (36, 'would'),\n",
       " (123, 'was'),\n",
       " (39, 'than'),\n",
       " (191, 'says'),\n",
       " (116, 'her'),\n",
       " (65, 'being'),\n",
       " (59, 'their'),\n",
       " (62, 'she'),\n",
       " (36, 'its'),\n",
       " (27, 'make'),\n",
       " (36, 'game'),\n",
       " (48, 'while'),\n",
       " (31, 'parents'),\n",
       " (39, 'them'),\n",
       " (32, 'child'),\n",
       " (54, 'world'),\n",
       " (48, 'home'),\n",
       " (69, 'during'),\n",
       " (43, 'when'),\n",
       " (26, 'go'),\n",
       " (26, 'through'),\n",
       " (31, 'high'),\n",
       " (90, 'school'),\n",
       " (64, 'president'),\n",
       " (52, '000'),\n",
       " (30, 'my'),\n",
       " (105, 'are'),\n",
       " (45, 'death'),\n",
       " (36, 'but'),\n",
       " (24, 'mom'),\n",
       " (27, 'million'),\n",
       " (39, 'state'),\n",
       " (60, 'women'),\n",
       " (28, 'children'),\n",
       " (32, 'real'),\n",
       " (23, 'american'),\n",
       " (29, 'having'),\n",
       " (34, 'against'),\n",
       " (36, 'obama'),\n",
       " (38, 'we'),\n",
       " (23, 'there'),\n",
       " (28, 'so'),\n",
       " (23, 'take'),\n",
       " (27, 'been'),\n",
       " (38, 'dead'),\n",
       " (32, 'trying'),\n",
       " (23, 'team'),\n",
       " (35, 'facebook'),\n",
       " (26, 'party'),\n",
       " (47, 'video'),\n",
       " (29, 'should'),\n",
       " (32, 'bill'),\n",
       " (23, 'war'),\n",
       " (36, 'may'),\n",
       " (36, 'own'),\n",
       " (48, 'court'),\n",
       " (34, '10'),\n",
       " (45, 'stop'),\n",
       " (27, 'find'),\n",
       " (88, 'an'),\n",
       " (42, 'too'),\n",
       " (34, 'show'),\n",
       " (25, 'me'),\n",
       " (73, 'gets'),\n",
       " (59, 'say'),\n",
       " (26, 'guy'),\n",
       " (36, 'news'),\n",
       " (23, 'makes')]"
      ]
     },
     "execution_count": 20,
     "metadata": {},
     "output_type": "execute_result"
    }
   ],
   "source": [
    "[(cvec2_df[i].sum(),i) for i in theonion_top_words if i in nottheonion_top_words]"
   ]
  },
  {
   "cell_type": "markdown",
   "metadata": {},
   "source": [
    "# Bag of Words + Logistic Regression"
   ]
  },
  {
   "cell_type": "markdown",
   "metadata": {},
   "source": [
    "## No custom tokenizing, no lemmatizing, no stop words. Let's see what our baseline looks like!\n",
    "\n",
    "We'll start small by sampling 4000 titles from both subreddits"
   ]
  },
  {
   "cell_type": "code",
   "execution_count": 21,
   "metadata": {
    "ExecuteTime": {
     "end_time": "2020-01-31T09:20:19.764530Z",
     "start_time": "2020-01-31T09:19:36.843670Z"
    }
   },
   "outputs": [
    {
     "data": {
      "text/plain": [
       "0.9835"
      ]
     },
     "execution_count": 21,
     "metadata": {},
     "output_type": "execute_result"
    }
   ],
   "source": [
    "X_train, X_test, y_train, y_test = train_test_split(X_sample[\"title\"], X_sample[\"is_onion\"])\n",
    "pipe = Pipeline([\n",
    "    (\"cvec\", CountVectorizer()),\n",
    "    (\"logreg\", LogisticRegressionCV(Cs=np.logspace(-2,2,100), max_iter=1000))])\n",
    "     \n",
    "pipe.fit(X_train, y_train)\n",
    "pipe.score(X_train, y_train)"
   ]
  },
  {
   "cell_type": "code",
   "execution_count": 22,
   "metadata": {
    "ExecuteTime": {
     "end_time": "2020-01-31T09:20:19.812403Z",
     "start_time": "2020-01-31T09:20:19.766525Z"
    }
   },
   "outputs": [
    {
     "data": {
      "text/plain": [
       "0.7995"
      ]
     },
     "execution_count": 22,
     "metadata": {},
     "output_type": "execute_result"
    }
   ],
   "source": [
    "pipe.score(X_test, y_test)"
   ]
  },
  {
   "cell_type": "code",
   "execution_count": 23,
   "metadata": {
    "ExecuteTime": {
     "end_time": "2020-01-31T09:20:19.821379Z",
     "start_time": "2020-01-31T09:20:19.817389Z"
    },
    "scrolled": false
   },
   "outputs": [],
   "source": [
    "# pipe[1].scores_[1]"
   ]
  },
  {
   "cell_type": "code",
   "execution_count": 24,
   "metadata": {
    "ExecuteTime": {
     "end_time": "2020-01-31T09:20:19.832350Z",
     "start_time": "2020-01-31T09:20:19.824372Z"
    }
   },
   "outputs": [
    {
     "data": {
      "text/plain": [
       "array([0.95454846])"
      ]
     },
     "execution_count": 24,
     "metadata": {},
     "output_type": "execute_result"
    }
   ],
   "source": [
    "pipe[1].C_"
   ]
  },
  {
   "cell_type": "markdown",
   "metadata": {},
   "source": [
    "Now we'll score our model on the holdout data we didn't end up sampling:"
   ]
  },
  {
   "cell_type": "code",
   "execution_count": 25,
   "metadata": {
    "ExecuteTime": {
     "end_time": "2020-01-31T09:20:19.914133Z",
     "start_time": "2020-01-31T09:20:19.834345Z"
    }
   },
   "outputs": [
    {
     "data": {
      "text/plain": [
       "0.7909764603312991"
      ]
     },
     "execution_count": 25,
     "metadata": {},
     "output_type": "execute_result"
    }
   ],
   "source": [
    "pipe.score(theonion_holdout[\"title\"], theonion_holdout[\"is_onion\"])"
   ]
  },
  {
   "cell_type": "code",
   "execution_count": 26,
   "metadata": {
    "ExecuteTime": {
     "end_time": "2020-01-31T09:20:26.128862Z",
     "start_time": "2020-01-31T09:20:19.916126Z"
    }
   },
   "outputs": [
    {
     "data": {
      "text/plain": [
       "0.8054883864317299"
      ]
     },
     "execution_count": 26,
     "metadata": {},
     "output_type": "execute_result"
    }
   ],
   "source": [
    "pipe.score(nottheonion_holdout[\"title\"], nottheonion_holdout[\"is_onion\"])"
   ]
  },
  {
   "cell_type": "markdown",
   "metadata": {},
   "source": [
    "## Hyperparameter searching ft. ngrams, finite features, stop words"
   ]
  },
  {
   "cell_type": "markdown",
   "metadata": {},
   "source": [
    "Can we improve this with a hyperparameter search? We will consider using stop words, ngrams, a finite number of features, and a few other hyperparameters."
   ]
  },
  {
   "cell_type": "code",
   "execution_count": 27,
   "metadata": {
    "ExecuteTime": {
     "end_time": "2020-01-31T09:20:40.987346Z",
     "start_time": "2020-01-31T09:20:26.130843Z"
    },
    "scrolled": true
   },
   "outputs": [],
   "source": [
    "pipe = Pipeline([\n",
    "    (\"cvec\", CountVectorizer(strip_accents=\"unicode\")),\n",
    "#     (\"norm\", Normalizer()),\n",
    "    (\"logreg\", LogisticRegression(max_iter=1000))\n",
    "])\n",
    "\n",
    "rand_search = RandomizedSearchCV(pipe,\n",
    "                                 n_jobs=-2,\n",
    "                                 n_iter=50,\n",
    "                                 param_distributions={\n",
    "    \"logreg__C\": np.logspace(-1,1,100),\n",
    "    \"cvec__max_df\": [.99, 1],\n",
    "    \"cvec__min_df\": [0, 0.01],\n",
    "    \"cvec__stop_words\": [None, [i for i in theonion_top_words if i in nottheonion_top_words]],\n",
    "    \"cvec__ngram_range\": [(1,1), (1,2)],\n",
    "    \"cvec__max_features\": [None, 10, 50, 100, 250, 500, 1000, 2000, 5000, 10000, 20000, 50000]\n",
    "})\n",
    "rand_search.fit(X_train, y_train);"
   ]
  },
  {
   "cell_type": "code",
   "execution_count": 28,
   "metadata": {
    "ExecuteTime": {
     "end_time": "2020-01-31T09:20:41.001311Z",
     "start_time": "2020-01-31T09:20:40.988344Z"
    }
   },
   "outputs": [
    {
     "data": {
      "text/plain": [
       "Pipeline(memory=None,\n",
       "         steps=[('cvec',\n",
       "                 CountVectorizer(analyzer='word', binary=False,\n",
       "                                 decode_error='strict',\n",
       "                                 dtype=<class 'numpy.int64'>, encoding='utf-8',\n",
       "                                 input='content', lowercase=True, max_df=0.99,\n",
       "                                 max_features=10000, min_df=0,\n",
       "                                 ngram_range=(1, 1), preprocessor=None,\n",
       "                                 stop_words=None, strip_accents='unicode',\n",
       "                                 token_pattern='(?u)\\\\b\\\\w\\\\w+\\\\b',\n",
       "                                 tokenizer=None, vocabulary=None)),\n",
       "                ('logreg',\n",
       "                 LogisticRegression(C=0.6734150657750824, class_weight=None,\n",
       "                                    dual=False, fit_intercept=True,\n",
       "                                    intercept_scaling=1, l1_ratio=None,\n",
       "                                    max_iter=1000, multi_class='auto',\n",
       "                                    n_jobs=None, penalty='l2',\n",
       "                                    random_state=None, solver='lbfgs',\n",
       "                                    tol=0.0001, verbose=0, warm_start=False))],\n",
       "         verbose=False)"
      ]
     },
     "execution_count": 28,
     "metadata": {},
     "output_type": "execute_result"
    }
   ],
   "source": [
    "rand_search.best_estimator_"
   ]
  },
  {
   "cell_type": "code",
   "execution_count": 29,
   "metadata": {
    "ExecuteTime": {
     "end_time": "2020-01-31T09:20:41.155896Z",
     "start_time": "2020-01-31T09:20:41.003305Z"
    }
   },
   "outputs": [
    {
     "data": {
      "text/plain": [
       "0.9685"
      ]
     },
     "execution_count": 29,
     "metadata": {},
     "output_type": "execute_result"
    }
   ],
   "source": [
    "rand_search.score(X_train, y_train)"
   ]
  },
  {
   "cell_type": "code",
   "execution_count": 30,
   "metadata": {
    "ExecuteTime": {
     "end_time": "2020-01-31T09:20:41.204767Z",
     "start_time": "2020-01-31T09:20:41.157890Z"
    }
   },
   "outputs": [
    {
     "data": {
      "text/plain": [
       "0.8005"
      ]
     },
     "execution_count": 30,
     "metadata": {},
     "output_type": "execute_result"
    }
   ],
   "source": [
    "rand_search.score(X_test, y_test)"
   ]
  },
  {
   "cell_type": "code",
   "execution_count": 31,
   "metadata": {
    "ExecuteTime": {
     "end_time": "2020-01-31T09:20:41.297518Z",
     "start_time": "2020-01-31T09:20:41.206761Z"
    }
   },
   "outputs": [
    {
     "data": {
      "text/plain": [
       "0.7931560592850916"
      ]
     },
     "execution_count": 31,
     "metadata": {},
     "output_type": "execute_result"
    }
   ],
   "source": [
    "rand_search.score(theonion_holdout[\"title\"], theonion_holdout[\"is_onion\"])"
   ]
  },
  {
   "cell_type": "code",
   "execution_count": 32,
   "metadata": {
    "ExecuteTime": {
     "end_time": "2020-01-31T09:20:48.393206Z",
     "start_time": "2020-01-31T09:20:41.299513Z"
    }
   },
   "outputs": [
    {
     "data": {
      "text/plain": [
       "0.8050572730513194"
      ]
     },
     "execution_count": 32,
     "metadata": {},
     "output_type": "execute_result"
    }
   ],
   "source": [
    "rand_search.score(nottheonion_holdout[\"title\"], nottheonion_holdout[\"is_onion\"])"
   ]
  },
  {
   "cell_type": "markdown",
   "metadata": {},
   "source": [
    "This is a marginal improvement over our naive model, but it's worth noting that we finish training this model in half the time."
   ]
  },
  {
   "cell_type": "markdown",
   "metadata": {},
   "source": [
    "# CountVectorizer + Naive Bayes\n",
    "\n",
    "In the following section, we apply a variety of Naive Bayes models to our CountVectorized titles."
   ]
  },
  {
   "cell_type": "markdown",
   "metadata": {},
   "source": [
    "## CVec + MultinomialNB\n",
    "### Naive"
   ]
  },
  {
   "cell_type": "code",
   "execution_count": 33,
   "metadata": {
    "ExecuteTime": {
     "end_time": "2020-01-31T09:20:48.513884Z",
     "start_time": "2020-01-31T09:20:48.395202Z"
    }
   },
   "outputs": [
    {
     "data": {
      "text/plain": [
       "Pipeline(memory=None,\n",
       "         steps=[('cvec',\n",
       "                 CountVectorizer(analyzer='word', binary=False,\n",
       "                                 decode_error='strict',\n",
       "                                 dtype=<class 'numpy.int64'>, encoding='utf-8',\n",
       "                                 input='content', lowercase=True, max_df=1.0,\n",
       "                                 max_features=None, min_df=1,\n",
       "                                 ngram_range=(1, 1), preprocessor=None,\n",
       "                                 stop_words=None, strip_accents=None,\n",
       "                                 token_pattern='(?u)\\\\b\\\\w\\\\w+\\\\b',\n",
       "                                 tokenizer=None, vocabulary=None)),\n",
       "                ('mnb',\n",
       "                 MultinomialNB(alpha=1.0, class_prior=None, fit_prior=True))],\n",
       "         verbose=False)"
      ]
     },
     "execution_count": 33,
     "metadata": {},
     "output_type": "execute_result"
    }
   ],
   "source": [
    "pipe = Pipeline([\n",
    "    (\"cvec\", CountVectorizer()),\n",
    "    (\"mnb\", MultinomialNB())\n",
    "])\n",
    "     \n",
    "pipe.fit(X_train, y_train)"
   ]
  },
  {
   "cell_type": "code",
   "execution_count": 34,
   "metadata": {
    "ExecuteTime": {
     "end_time": "2020-01-31T09:20:55.159285Z",
     "start_time": "2020-01-31T09:20:48.515879Z"
    }
   },
   "outputs": [
    {
     "data": {
      "text/plain": [
       "0.9541666666666667"
      ]
     },
     "metadata": {},
     "output_type": "display_data"
    },
    {
     "data": {
      "text/plain": [
       "0.8115"
      ]
     },
     "metadata": {},
     "output_type": "display_data"
    },
    {
     "data": {
      "text/plain": [
       "0.8110287707061901"
      ]
     },
     "metadata": {},
     "output_type": "display_data"
    },
    {
     "data": {
      "text/plain": [
       "0.8055365555245132"
      ]
     },
     "metadata": {},
     "output_type": "display_data"
    }
   ],
   "source": [
    "display(pipe.score(X_train, y_train))\n",
    "display(pipe.score(X_test, y_test))\n",
    "display(pipe.score(theonion_holdout[\"title\"], theonion_holdout[\"is_onion\"]))\n",
    "display(pipe.score(nottheonion_holdout[\"title\"], nottheonion_holdout[\"is_onion\"]))"
   ]
  },
  {
   "cell_type": "markdown",
   "metadata": {},
   "source": [
    "### RandomizedSearchCV'd"
   ]
  },
  {
   "cell_type": "code",
   "execution_count": 35,
   "metadata": {
    "ExecuteTime": {
     "end_time": "2020-01-31T09:21:05.506002Z",
     "start_time": "2020-01-31T09:20:55.161279Z"
    }
   },
   "outputs": [],
   "source": [
    "pipe = Pipeline([\n",
    "    (\"cvec\", CountVectorizer(strip_accents=\"unicode\")),\n",
    "    (\"mnb\", MultinomialNB())\n",
    "])\n",
    "\n",
    "rand_search = RandomizedSearchCV(pipe,\n",
    "                                 n_jobs=-2,\n",
    "                                 n_iter=50,\n",
    "                                 param_distributions={\n",
    "    \"mnb__alpha\": np.linspace(0,1,11),\n",
    "    \"cvec__max_df\": [.99, 1],\n",
    "    \"cvec__min_df\": [0, 0.01],\n",
    "    \"cvec__stop_words\": [None, [i for i in theonion_top_words if i in nottheonion_top_words]],\n",
    "    \"cvec__ngram_range\": [(1,1), (1,2)],\n",
    "    \"cvec__max_features\": [None, 10, 50, 100, 250, 500, 1000, 2000, 5000, 10000, 20000, 50000]\n",
    "})\n",
    "rand_search.fit(X_train, y_train);"
   ]
  },
  {
   "cell_type": "code",
   "execution_count": 36,
   "metadata": {
    "ExecuteTime": {
     "end_time": "2020-01-31T09:21:05.514916Z",
     "start_time": "2020-01-31T09:21:05.507946Z"
    }
   },
   "outputs": [
    {
     "data": {
      "text/plain": [
       "Pipeline(memory=None,\n",
       "         steps=[('cvec',\n",
       "                 CountVectorizer(analyzer='word', binary=False,\n",
       "                                 decode_error='strict',\n",
       "                                 dtype=<class 'numpy.int64'>, encoding='utf-8',\n",
       "                                 input='content', lowercase=True, max_df=0.99,\n",
       "                                 max_features=10000, min_df=0,\n",
       "                                 ngram_range=(1, 1), preprocessor=None,\n",
       "                                 stop_words=None, strip_accents='unicode',\n",
       "                                 token_pattern='(?u)\\\\b\\\\w\\\\w+\\\\b',\n",
       "                                 tokenizer=None, vocabulary=None)),\n",
       "                ('mnb',\n",
       "                 MultinomialNB(alpha=0.9, class_prior=None, fit_prior=True))],\n",
       "         verbose=False)"
      ]
     },
     "execution_count": 36,
     "metadata": {},
     "output_type": "execute_result"
    }
   ],
   "source": [
    "rand_search.best_estimator_"
   ]
  },
  {
   "cell_type": "code",
   "execution_count": 37,
   "metadata": {
    "ExecuteTime": {
     "end_time": "2020-01-31T09:21:13.033313Z",
     "start_time": "2020-01-31T09:21:05.516898Z"
    }
   },
   "outputs": [
    {
     "data": {
      "text/plain": [
       "0.9443333333333334"
      ]
     },
     "metadata": {},
     "output_type": "display_data"
    },
    {
     "data": {
      "text/plain": [
       "0.812"
      ]
     },
     "metadata": {},
     "output_type": "display_data"
    },
    {
     "data": {
      "text/plain": [
       "0.8053618134263295"
      ]
     },
     "metadata": {},
     "output_type": "display_data"
    },
    {
     "data": {
      "text/plain": [
       "0.8031425516131829"
      ]
     },
     "metadata": {},
     "output_type": "display_data"
    }
   ],
   "source": [
    "display(rand_search.score(X_train, y_train))\n",
    "display(rand_search.score(X_test, y_test))\n",
    "display(rand_search.score(theonion_holdout[\"title\"], theonion_holdout[\"is_onion\"]))\n",
    "display(rand_search.score(nottheonion_holdout[\"title\"], nottheonion_holdout[\"is_onion\"]))"
   ]
  },
  {
   "cell_type": "markdown",
   "metadata": {},
   "source": [
    "## CVec + ComplementNB"
   ]
  },
  {
   "cell_type": "code",
   "execution_count": 38,
   "metadata": {
    "ExecuteTime": {
     "end_time": "2020-01-31T09:21:13.160990Z",
     "start_time": "2020-01-31T09:21:13.035303Z"
    }
   },
   "outputs": [
    {
     "data": {
      "text/plain": [
       "Pipeline(memory=None,\n",
       "         steps=[('cvec',\n",
       "                 CountVectorizer(analyzer='word', binary=False,\n",
       "                                 decode_error='strict',\n",
       "                                 dtype=<class 'numpy.int64'>, encoding='utf-8',\n",
       "                                 input='content', lowercase=True, max_df=1.0,\n",
       "                                 max_features=None, min_df=1,\n",
       "                                 ngram_range=(1, 1), preprocessor=None,\n",
       "                                 stop_words=None, strip_accents=None,\n",
       "                                 token_pattern='(?u)\\\\b\\\\w\\\\w+\\\\b',\n",
       "                                 tokenizer=None, vocabulary=None)),\n",
       "                ('cnb',\n",
       "                 ComplementNB(alpha=1.0, class_prior=None, fit_prior=True,\n",
       "                              norm=False))],\n",
       "         verbose=False)"
      ]
     },
     "execution_count": 38,
     "metadata": {},
     "output_type": "execute_result"
    }
   ],
   "source": [
    "pipe = Pipeline([\n",
    "    (\"cvec\", CountVectorizer()),\n",
    "    (\"cnb\", ComplementNB())\n",
    "])\n",
    "     \n",
    "pipe.fit(X_train, y_train)"
   ]
  },
  {
   "cell_type": "code",
   "execution_count": 39,
   "metadata": {
    "ExecuteTime": {
     "end_time": "2020-01-31T09:21:19.386835Z",
     "start_time": "2020-01-31T09:21:13.162987Z"
    }
   },
   "outputs": [
    {
     "data": {
      "text/plain": [
       "0.9543333333333334"
      ]
     },
     "metadata": {},
     "output_type": "display_data"
    },
    {
     "data": {
      "text/plain": [
       "0.8115"
      ]
     },
     "metadata": {},
     "output_type": "display_data"
    },
    {
     "data": {
      "text/plain": [
       "0.8103748910200523"
      ]
     },
     "metadata": {},
     "output_type": "display_data"
    },
    {
     "data": {
      "text/plain": [
       "0.8072561921368773"
      ]
     },
     "metadata": {},
     "output_type": "display_data"
    }
   ],
   "source": [
    "display(pipe.score(X_train, y_train))\n",
    "display(pipe.score(X_test, y_test))\n",
    "display(pipe.score(theonion_holdout[\"title\"], theonion_holdout[\"is_onion\"]))\n",
    "display(pipe.score(nottheonion_holdout[\"title\"], nottheonion_holdout[\"is_onion\"]))"
   ]
  },
  {
   "cell_type": "code",
   "execution_count": 40,
   "metadata": {
    "ExecuteTime": {
     "end_time": "2020-01-31T09:21:30.236007Z",
     "start_time": "2020-01-31T09:21:19.388831Z"
    }
   },
   "outputs": [],
   "source": [
    "pipe = Pipeline([\n",
    "    (\"cvec\", CountVectorizer(strip_accents=\"unicode\")),\n",
    "    (\"cnb\", ComplementNB())\n",
    "])\n",
    "\n",
    "rand_search = RandomizedSearchCV(pipe,\n",
    "                                 n_jobs=-2,\n",
    "                                 n_iter=50,\n",
    "                                 param_distributions={\n",
    "    \"cnb__alpha\": np.linspace(0,1,11),\n",
    "    \"cvec__max_df\": [.99, 1],\n",
    "    \"cvec__min_df\": [0, 0.01],\n",
    "    \"cvec__stop_words\": [None, [i for i in theonion_top_words if i in nottheonion_top_words]],\n",
    "    \"cvec__ngram_range\": [(1,1), (1,2)],\n",
    "    \"cvec__max_features\": [None, 10, 50, 100, 250, 500, 1000, 2000, 5000, 10000, 20000, 50000]\n",
    "})\n",
    "rand_search.fit(X_train, y_train);"
   ]
  },
  {
   "cell_type": "code",
   "execution_count": 41,
   "metadata": {
    "ExecuteTime": {
     "end_time": "2020-01-31T09:21:38.294158Z",
     "start_time": "2020-01-31T09:21:30.237995Z"
    },
    "scrolled": true
   },
   "outputs": [
    {
     "data": {
      "text/plain": [
       "0.9551666666666667"
      ]
     },
     "metadata": {},
     "output_type": "display_data"
    },
    {
     "data": {
      "text/plain": [
       "0.812"
      ]
     },
     "metadata": {},
     "output_type": "display_data"
    },
    {
     "data": {
      "text/plain": [
       "0.8003487358326068"
      ]
     },
     "metadata": {},
     "output_type": "display_data"
    },
    {
     "data": {
      "text/plain": [
       "0.7988651361740253"
      ]
     },
     "metadata": {},
     "output_type": "display_data"
    }
   ],
   "source": [
    "display(rand_search.score(X_train, y_train))\n",
    "display(rand_search.score(X_test, y_test))\n",
    "display(rand_search.score(theonion_holdout[\"title\"], theonion_holdout[\"is_onion\"]))\n",
    "display(rand_search.score(nottheonion_holdout[\"title\"], nottheonion_holdout[\"is_onion\"]))"
   ]
  },
  {
   "cell_type": "markdown",
   "metadata": {},
   "source": [
    "## CVec + BernoulliNB"
   ]
  },
  {
   "cell_type": "code",
   "execution_count": 42,
   "metadata": {
    "ExecuteTime": {
     "end_time": "2020-01-31T09:21:38.430816Z",
     "start_time": "2020-01-31T09:21:38.296176Z"
    }
   },
   "outputs": [
    {
     "data": {
      "text/plain": [
       "Pipeline(memory=None,\n",
       "         steps=[('cvec',\n",
       "                 CountVectorizer(analyzer='word', binary=False,\n",
       "                                 decode_error='strict',\n",
       "                                 dtype=<class 'numpy.int64'>, encoding='utf-8',\n",
       "                                 input='content', lowercase=True, max_df=1.0,\n",
       "                                 max_features=None, min_df=1,\n",
       "                                 ngram_range=(1, 1), preprocessor=None,\n",
       "                                 stop_words=None, strip_accents=None,\n",
       "                                 token_pattern='(?u)\\\\b\\\\w\\\\w+\\\\b',\n",
       "                                 tokenizer=None, vocabulary=None)),\n",
       "                ('bnb',\n",
       "                 BernoulliNB(alpha=1.0, binarize=0.0, class_prior=None,\n",
       "                             fit_prior=True))],\n",
       "         verbose=False)"
      ]
     },
     "execution_count": 42,
     "metadata": {},
     "output_type": "execute_result"
    }
   ],
   "source": [
    "pipe = Pipeline([\n",
    "    (\"cvec\", CountVectorizer()),\n",
    "    (\"bnb\", BernoulliNB())\n",
    "])\n",
    "     \n",
    "pipe.fit(X_train, y_train)"
   ]
  },
  {
   "cell_type": "code",
   "execution_count": 43,
   "metadata": {
    "ExecuteTime": {
     "end_time": "2020-01-31T09:21:45.773976Z",
     "start_time": "2020-01-31T09:21:38.432813Z"
    }
   },
   "outputs": [
    {
     "data": {
      "text/plain": [
       "0.9545"
      ]
     },
     "metadata": {},
     "output_type": "display_data"
    },
    {
     "data": {
      "text/plain": [
       "0.8125"
      ]
     },
     "metadata": {},
     "output_type": "display_data"
    },
    {
     "data": {
      "text/plain": [
       "0.8007846556233653"
      ]
     },
     "metadata": {},
     "output_type": "display_data"
    },
    {
     "data": {
      "text/plain": [
       "0.8159531218389033"
      ]
     },
     "metadata": {},
     "output_type": "display_data"
    }
   ],
   "source": [
    "display(pipe.score(X_train, y_train))\n",
    "display(pipe.score(X_test, y_test))\n",
    "display(pipe.score(theonion_holdout[\"title\"], theonion_holdout[\"is_onion\"]))\n",
    "display(pipe.score(nottheonion_holdout[\"title\"], nottheonion_holdout[\"is_onion\"]))"
   ]
  },
  {
   "cell_type": "code",
   "execution_count": 44,
   "metadata": {
    "ExecuteTime": {
     "end_time": "2020-01-31T09:21:56.173467Z",
     "start_time": "2020-01-31T09:21:45.775953Z"
    }
   },
   "outputs": [],
   "source": [
    "pipe = Pipeline([\n",
    "    (\"cvec\", CountVectorizer(strip_accents=\"unicode\")),\n",
    "    (\"bnb\", BernoulliNB())\n",
    "])\n",
    "\n",
    "rand_search = RandomizedSearchCV(pipe,\n",
    "                                 n_jobs=-2,\n",
    "                                 n_iter=50,\n",
    "                                 param_distributions={\n",
    "    \"bnb__alpha\": np.linspace(0,1,11),\n",
    "    \"cvec__max_df\": [.99, 1],\n",
    "    \"cvec__min_df\": [0, 0.01],\n",
    "    \"cvec__stop_words\": [None, [i for i in theonion_top_words if i in nottheonion_top_words]],\n",
    "    \"cvec__ngram_range\": [(1,1), (1,2)],\n",
    "    \"cvec__max_features\": [None, 10, 50, 100, 250, 500, 1000, 2000, 5000, 10000, 20000, 50000]\n",
    "})\n",
    "rand_search.fit(X_train, y_train);"
   ]
  },
  {
   "cell_type": "code",
   "execution_count": 45,
   "metadata": {
    "ExecuteTime": {
     "end_time": "2020-01-31T09:22:03.932204Z",
     "start_time": "2020-01-31T09:21:56.174454Z"
    },
    "scrolled": true
   },
   "outputs": [
    {
     "data": {
      "text/plain": [
       "0.9618333333333333"
      ]
     },
     "metadata": {},
     "output_type": "display_data"
    },
    {
     "data": {
      "text/plain": [
       "0.81"
      ]
     },
     "metadata": {},
     "output_type": "display_data"
    },
    {
     "data": {
      "text/plain": [
       "0.7948997384481256"
      ]
     },
     "metadata": {},
     "output_type": "display_data"
    },
    {
     "data": {
      "text/plain": [
       "0.8105630003564512"
      ]
     },
     "metadata": {},
     "output_type": "display_data"
    }
   ],
   "source": [
    "display(rand_search.score(X_train, y_train))\n",
    "display(rand_search.score(X_test, y_test))\n",
    "display(rand_search.score(theonion_holdout[\"title\"], theonion_holdout[\"is_onion\"]))\n",
    "display(rand_search.score(nottheonion_holdout[\"title\"], nottheonion_holdout[\"is_onion\"]))"
   ]
  },
  {
   "cell_type": "markdown",
   "metadata": {},
   "source": [
    "# Conclusions"
   ]
  },
  {
   "cell_type": "markdown",
   "metadata": {},
   "source": [
    "There's nothing like fitting 8 (technically a LOT more than 8) very similar models and seeing them perform virtually identically...\n",
    "\n",
    "In all seriousness, our first model, with naive CountVectorization + a basic Logistic Regression was very performant, and in fact none of our additional models appeared to make significant differences. BernoulliNB ended up being the best, but we haven't sampled these results enough for them to be numerically stable, so it's hard to say anything. In a world where I have infinite time and computation budget, I could resample these test scores with different samples until I had confidence intervals, and then could do a hypothesis test. We'll leave this as an exercise to a hypothetical reader.\n",
    "\n",
    "In our next notebook, we'll explore using TF-IDF instead of CountVectorizer and seeing how much our results. In the notebook after that, we'll explore using lemmatization and word embeddings with spaCy."
   ]
  }
 ],
 "metadata": {
  "kernelspec": {
   "display_name": "Python 3",
   "language": "python",
   "name": "python3"
  },
  "language_info": {
   "codemirror_mode": {
    "name": "ipython",
    "version": 3
   },
   "file_extension": ".py",
   "mimetype": "text/x-python",
   "name": "python",
   "nbconvert_exporter": "python",
   "pygments_lexer": "ipython3",
   "version": "3.7.6"
  },
  "toc": {
   "base_numbering": 1,
   "nav_menu": {},
   "number_sections": true,
   "sideBar": true,
   "skip_h1_title": false,
   "title_cell": "Table of Contents",
   "title_sidebar": "Contents",
   "toc_cell": false,
   "toc_position": {},
   "toc_section_display": true,
   "toc_window_display": false
  }
 },
 "nbformat": 4,
 "nbformat_minor": 2
}
