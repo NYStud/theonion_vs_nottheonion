{
 "cells": [
  {
   "cell_type": "code",
   "execution_count": 31,
   "metadata": {
    "ExecuteTime": {
     "end_time": "2020-01-29T21:11:02.594575Z",
     "start_time": "2020-01-29T21:11:02.591533Z"
    }
   },
   "outputs": [],
   "source": [
    "import numpy as np\n",
    "import pandas as pd\n",
    "import matplotlib.pyplot as plt\n",
    "\n",
    "import pickle"
   ]
  },
  {
   "cell_type": "code",
   "execution_count": 84,
   "metadata": {
    "ExecuteTime": {
     "end_time": "2020-01-29T21:30:41.383646Z",
     "start_time": "2020-01-29T21:30:41.378705Z"
    }
   },
   "outputs": [],
   "source": [
    "from sklearn.model_selection import train_test_split, GridSearchCV\n",
    "from sklearn.pipeline import Pipeline\n",
    "from sklearn.linear_model import LogisticRegression, LogisticRegressionCV\n",
    "from sklearn.naive_bayes import MultinomialNB, GaussianNB\n",
    "# Import CountVectorizer and TFIDFVectorizer from feature_extraction.text.\n",
    "from sklearn.feature_extraction.text import CountVectorizer,\\\n",
    "                                            TfidfVectorizer"
   ]
  },
  {
   "cell_type": "code",
   "execution_count": 33,
   "metadata": {
    "ExecuteTime": {
     "end_time": "2020-01-29T21:11:03.107659Z",
     "start_time": "2020-01-29T21:11:03.103630Z"
    }
   },
   "outputs": [],
   "source": [
    "import nltk\n",
    "from nltk.stem import WordNetLemmatizer\n",
    "from nltk.tokenize import RegexpTokenizer\n",
    "from nltk.stem.porter import PorterStemmer"
   ]
  },
  {
   "cell_type": "code",
   "execution_count": 34,
   "metadata": {
    "ExecuteTime": {
     "end_time": "2020-01-29T21:11:03.351341Z",
     "start_time": "2020-01-29T21:11:03.346346Z"
    }
   },
   "outputs": [],
   "source": [
    "def save_obj(obj, filename):\n",
    "    with open(filename + '.pkl', 'wb') as f:\n",
    "        pickle.dump(obj, f, pickle.HIGHEST_PROTOCOL)\n",
    "\n",
    "def load_obj(filename):\n",
    "    with open(filename + '.pkl', 'rb') as f:\n",
    "        return pickle.load(f)"
   ]
  },
  {
   "cell_type": "code",
   "execution_count": 35,
   "metadata": {
    "ExecuteTime": {
     "end_time": "2020-01-29T21:11:03.587141Z",
     "start_time": "2020-01-29T21:11:03.583835Z"
    }
   },
   "outputs": [],
   "source": [
    "DIR = \"C:\\\\Users\\\\AzNsAnTaGiN\\\\DSI\\\\Projects\\\\project_3\\\\data\\\\\"\n",
    "FILE1 = \"theonion\"\n",
    "FILE2 = \"nottheonion\"\n",
    "FILE3 = \"onionheadlines\""
   ]
  },
  {
   "cell_type": "markdown",
   "metadata": {},
   "source": [
    "# Data Import\n",
    "We previously cleaned our data, so lets get it:"
   ]
  },
  {
   "cell_type": "code",
   "execution_count": 36,
   "metadata": {
    "ExecuteTime": {
     "end_time": "2020-01-29T21:11:04.427503Z",
     "start_time": "2020-01-29T21:11:04.227433Z"
    }
   },
   "outputs": [],
   "source": [
    "X_theonion = load_obj(DIR+FILE1+\"_df_clean\")\n",
    "X_nottheonion = load_obj(DIR+FILE2+\"_df_clean\")"
   ]
  },
  {
   "cell_type": "code",
   "execution_count": 37,
   "metadata": {
    "ExecuteTime": {
     "end_time": "2020-01-29T21:11:04.535349Z",
     "start_time": "2020-01-29T21:11:04.526666Z"
    }
   },
   "outputs": [],
   "source": [
    "X_theonion[\"is_onion\"] = 1\n",
    "X_nottheonion[\"is_onion\"] = -1"
   ]
  },
  {
   "cell_type": "code",
   "execution_count": 41,
   "metadata": {
    "ExecuteTime": {
     "end_time": "2020-01-29T21:12:43.891825Z",
     "start_time": "2020-01-29T21:12:43.881440Z"
    }
   },
   "outputs": [
    {
     "data": {
      "text/plain": [
       "8588"
      ]
     },
     "execution_count": 41,
     "metadata": {},
     "output_type": "execute_result"
    }
   ],
   "source": [
    "len(X_theonion)"
   ]
  },
  {
   "cell_type": "code",
   "execution_count": 42,
   "metadata": {
    "ExecuteTime": {
     "end_time": "2020-01-29T21:12:47.217616Z",
     "start_time": "2020-01-29T21:12:47.211926Z"
    }
   },
   "outputs": [
    {
     "data": {
      "text/plain": [
       "419204"
      ]
     },
     "execution_count": 42,
     "metadata": {},
     "output_type": "execute_result"
    }
   ],
   "source": [
    "len(X_nottheonion)"
   ]
  },
  {
   "cell_type": "markdown",
   "metadata": {},
   "source": [
    "## Subsample our data"
   ]
  },
  {
   "cell_type": "code",
   "execution_count": 88,
   "metadata": {
    "ExecuteTime": {
     "end_time": "2020-01-29T21:33:04.337971Z",
     "start_time": "2020-01-29T21:33:04.313372Z"
    }
   },
   "outputs": [],
   "source": [
    "N=3000\n",
    "theonion_sample = X_theonion.sample(N)\n",
    "nottheonion_sample = X_nottheonion.sample(N)\n",
    "X = pd.concat([theonion_sample, nottheonion_sample])"
   ]
  },
  {
   "cell_type": "code",
   "execution_count": 89,
   "metadata": {
    "ExecuteTime": {
     "end_time": "2020-01-29T21:33:05.143051Z",
     "start_time": "2020-01-29T21:33:04.591131Z"
    }
   },
   "outputs": [],
   "source": [
    "cvec = CountVectorizer(ngram_range=(1,3))\n",
    "cvec.fit(theonion_sample[\"title\"])\n",
    "cvec.transform(theonion_sample[\"title\"])\n",
    "cvec_df = pd.DataFrame(cvec.transform(theonion_sample[\"title\"]).toarray(),\n",
    "                      columns=cvec.get_feature_names())"
   ]
  },
  {
   "cell_type": "code",
   "execution_count": 90,
   "metadata": {
    "ExecuteTime": {
     "end_time": "2020-01-29T21:33:05.741374Z",
     "start_time": "2020-01-29T21:33:05.144981Z"
    }
   },
   "outputs": [],
   "source": [
    "cvec2 = CountVectorizer(ngram_range=(1,3))\n",
    "cvec2.fit(nottheonion_sample[\"title\"])\n",
    "cvec2.transform(nottheonion_sample[\"title\"])\n",
    "cvec2_df = pd.DataFrame(cvec2.transform(nottheonion_sample[\"title\"]).toarray(),\n",
    "                      columns=cvec2.get_feature_names())"
   ]
  },
  {
   "cell_type": "code",
   "execution_count": 91,
   "metadata": {
    "ExecuteTime": {
     "end_time": "2020-01-29T21:33:07.606839Z",
     "start_time": "2020-01-29T21:33:07.602862Z"
    }
   },
   "outputs": [],
   "source": [
    "N = 250"
   ]
  },
  {
   "cell_type": "code",
   "execution_count": 92,
   "metadata": {
    "ExecuteTime": {
     "end_time": "2020-01-29T21:33:08.592895Z",
     "start_time": "2020-01-29T21:33:07.879677Z"
    }
   },
   "outputs": [],
   "source": [
    "theonion_top_words = cvec_df.sum().sort_values(ascending=False).index[:N]"
   ]
  },
  {
   "cell_type": "code",
   "execution_count": 93,
   "metadata": {
    "ExecuteTime": {
     "end_time": "2020-01-29T21:33:08.600215Z",
     "start_time": "2020-01-29T21:33:08.594810Z"
    }
   },
   "outputs": [
    {
     "data": {
      "text/plain": [
       "Index(['to', 'of', 'in', 'for', 'the', 'on', 'new', 'with', 'man', 'trump',\n",
       "       ...\n",
       "       'trying', 'players', 'court', 'nfl', 'trying to', 'few', 'will be',\n",
       "       'show', 'releases', 'in pictures week'],\n",
       "      dtype='object', length=250)"
      ]
     },
     "metadata": {},
     "output_type": "display_data"
    }
   ],
   "source": [
    "with pd.option_context(\"display.max_rows\", None):\n",
    "    display(theonion_top_words)"
   ]
  },
  {
   "cell_type": "code",
   "execution_count": 94,
   "metadata": {
    "ExecuteTime": {
     "end_time": "2020-01-29T21:33:10.541758Z",
     "start_time": "2020-01-29T21:33:09.830368Z"
    }
   },
   "outputs": [],
   "source": [
    "nottheonion_top_words = cvec2_df.sum().sort_values(ascending=False).index[:N]"
   ]
  },
  {
   "cell_type": "code",
   "execution_count": 95,
   "metadata": {
    "ExecuteTime": {
     "end_time": "2020-01-29T21:33:10.548065Z",
     "start_time": "2020-01-29T21:33:10.542717Z"
    }
   },
   "outputs": [
    {
     "data": {
      "text/plain": [
       "Index(['to', 'in', 'of', 'for', 'the', 'on', 'man', 'after', 'with', 'and',\n",
       "       ...\n",
       "       'officer', 'to stop', 'giant', 'sign', 'use', 'tells', 'bans', 'uk',\n",
       "       'mcdonald', 'my'],\n",
       "      dtype='object', length=250)"
      ]
     },
     "metadata": {},
     "output_type": "display_data"
    }
   ],
   "source": [
    "with pd.option_context(\"display.max_rows\", None):\n",
    "    display(nottheonion_top_words)"
   ]
  },
  {
   "cell_type": "markdown",
   "metadata": {},
   "source": [
    "## Words that are unique to `/r/theonion`"
   ]
  },
  {
   "cell_type": "code",
   "execution_count": 96,
   "metadata": {
    "ExecuteTime": {
     "end_time": "2020-01-29T21:33:11.175913Z",
     "start_time": "2020-01-29T21:33:11.126160Z"
    }
   },
   "outputs": [
    {
     "data": {
      "text/plain": [
       "[(64, 'week'),\n",
       " (60, 'nation'),\n",
       " (58, 'life'),\n",
       " (56, 'americans'),\n",
       " (52, 'before'),\n",
       " (51, 'going'),\n",
       " (50, 'still'),\n",
       " (45, 'god'),\n",
       " (45, 'last'),\n",
       " (44, 'area'),\n",
       " (43, 'know'),\n",
       " (42, 'every'),\n",
       " (39, 'things'),\n",
       " (38, 'announces'),\n",
       " (38, 'through'),\n",
       " (37, 'getting'),\n",
       " (37, 'next'),\n",
       " (36, 'white house'),\n",
       " (36, 'going to'),\n",
       " (35, 'work'),\n",
       " (35, 'campaign'),\n",
       " (34, 'around'),\n",
       " (34, 'week of'),\n",
       " (34, '2018'),\n",
       " (33, 'where'),\n",
       " (32, 'really'),\n",
       " (32, 'to know'),\n",
       " (31, 'hes'),\n",
       " (31, 'cant'),\n",
       " (30, 'tips'),\n",
       " (30, 'tips for'),\n",
       " (30, 'other'),\n",
       " (30, 'reveals'),\n",
       " (29, 'do'),\n",
       " (29, 'self'),\n",
       " (28, 'way'),\n",
       " (28, 'finally'),\n",
       " (28, 'nations'),\n",
       " (27, 'to know about'),\n",
       " (27, 'know about'),\n",
       " (27, 'already'),\n",
       " (27, 'some'),\n",
       " (26, 'good'),\n",
       " (26, 'office'),\n",
       " (26, 'things to'),\n",
       " (26, 'big'),\n",
       " (26, 'national'),\n",
       " (26, 'see'),\n",
       " (25, 'any'),\n",
       " (25, 'children'),\n",
       " (25, 'unveils'),\n",
       " (25, 'enough'),\n",
       " (25, 'study finds'),\n",
       " (25, 'things to know'),\n",
       " (25, 'another'),\n",
       " (25, 'how to'),\n",
       " (24, 'area man'),\n",
       " (24, 'believe'),\n",
       " (24, 'introduces'),\n",
       " (23, 'there'),\n",
       " (23, 'until'),\n",
       " (23, 'plan'),\n",
       " (23, 'under'),\n",
       " (23, 'even'),\n",
       " (23, 'little'),\n",
       " (23, 'without'),\n",
       " (23, 'war'),\n",
       " (23, 'clinton'),\n",
       " (23, 'never'),\n",
       " (22, 'forced'),\n",
       " (22, 'pictures'),\n",
       " (22, 'pope'),\n",
       " (22, 'doesnt'),\n",
       " (22, 'forced to'),\n",
       " (22, 'team'),\n",
       " (22, 'trumps'),\n",
       " (22, 'much'),\n",
       " (21, 'shit'),\n",
       " (21, 'everyone'),\n",
       " (21, 'change'),\n",
       " (21, 'end'),\n",
       " (21, 'super'),\n",
       " (21, 'asks'),\n",
       " (21, 'top'),\n",
       " (21, 'having'),\n",
       " (21, 'dont'),\n",
       " (21, 'fucking'),\n",
       " (21, 'best'),\n",
       " (20, 'scientists'),\n",
       " (20, 'dad'),\n",
       " (20, 'social'),\n",
       " (20, 'sanders'),\n",
       " (20, 'friends'),\n",
       " (20, 'case'),\n",
       " (20, 'entire'),\n",
       " (20, 'party'),\n",
       " (20, 'kavanaugh'),\n",
       " (20, 'mom'),\n",
       " (19, 'mueller'),\n",
       " (19, 'warns'),\n",
       " (19, 'admits'),\n",
       " (19, 'part'),\n",
       " (19, 'announce'),\n",
       " (19, 'history'),\n",
       " (19, 'week in'),\n",
       " (19, 'real'),\n",
       " (19, 'spends'),\n",
       " (19, 'bowl'),\n",
       " (19, 'plans'),\n",
       " (19, 'trying'),\n",
       " (19, 'players'),\n",
       " (19, 'nfl'),\n",
       " (19, 'trying to'),\n",
       " (19, 'few'),\n",
       " (19, 'will be'),\n",
       " (18, 'releases'),\n",
       " (18, 'in pictures week')]"
      ]
     },
     "execution_count": 96,
     "metadata": {},
     "output_type": "execute_result"
    }
   ],
   "source": [
    "[(cvec_df[i].sum(),i) for i in theonion_top_words if i not in nottheonion_top_words]"
   ]
  },
  {
   "cell_type": "markdown",
   "metadata": {},
   "source": [
    "## Words that are unique to `/r/nottheonion`"
   ]
  },
  {
   "cell_type": "code",
   "execution_count": 97,
   "metadata": {
    "ExecuteTime": {
     "end_time": "2020-01-29T21:33:12.781612Z",
     "start_time": "2020-01-29T21:33:12.730730Z"
    }
   },
   "outputs": [
    {
     "data": {
      "text/plain": [
       "[(74, 'because'),\n",
       " (72, 'arrested'),\n",
       " (62, 'sex'),\n",
       " (55, 'donald'),\n",
       " (55, 'gets'),\n",
       " (52, 'donald trump'),\n",
       " (52, 'florida'),\n",
       " (43, 'dead'),\n",
       " (43, 'us'),\n",
       " (39, 'men'),\n",
       " (39, 'claims'),\n",
       " (37, 'stop'),\n",
       " (37, 'dog'),\n",
       " (36, 'charged'),\n",
       " (36, 'accused'),\n",
       " (36, 'gun'),\n",
       " (35, 'fire'),\n",
       " (33, 'video'),\n",
       " (33, 'arrested for'),\n",
       " (32, 'sues'),\n",
       " (32, 'found'),\n",
       " (31, 'news'),\n",
       " (31, 'using'),\n",
       " (30, 'porn'),\n",
       " (30, 'boy'),\n",
       " (30, 'two'),\n",
       " (29, 'accused of'),\n",
       " (29, 'north'),\n",
       " (29, 'face'),\n",
       " (28, 'teen'),\n",
       " (28, 'post'),\n",
       " (28, 'wife'),\n",
       " (28, 'baby'),\n",
       " (28, 'city'),\n",
       " (28, 'don'),\n",
       " (28, 'student'),\n",
       " (27, 'free'),\n",
       " (27, 'cops'),\n",
       " (27, 'wants'),\n",
       " (26, 'church'),\n",
       " (26, 'facebook'),\n",
       " (26, 'on the'),\n",
       " (26, 'russian'),\n",
       " (26, 'himself'),\n",
       " (26, 'should'),\n",
       " (25, 'head'),\n",
       " (25, 'named'),\n",
       " (25, 'shot'),\n",
       " (25, 'killed'),\n",
       " (24, 'russia'),\n",
       " (24, 'gay'),\n",
       " (24, 'why'),\n",
       " (24, 'dies'),\n",
       " (24, 'girl'),\n",
       " (24, 'murder'),\n",
       " (24, 'flight'),\n",
       " (24, 'kill'),\n",
       " (23, 'attack'),\n",
       " (23, 'calls'),\n",
       " (23, 'won'),\n",
       " (23, 'to the'),\n",
       " (23, 'california'),\n",
       " (23, 'makes'),\n",
       " (23, 'husband'),\n",
       " (22, 'man arrested'),\n",
       " (22, 'accidentally'),\n",
       " (22, 'jail'),\n",
       " (22, 'students'),\n",
       " (22, 'texas'),\n",
       " (22, 'fake'),\n",
       " (22, '10'),\n",
       " (22, 'fight'),\n",
       " (22, 'town'),\n",
       " (22, 'wants to'),\n",
       " (21, 'cat'),\n",
       " (21, 'plane'),\n",
       " (21, 'penis'),\n",
       " (21, 'police say'),\n",
       " (21, 'york'),\n",
       " (21, 'chinese'),\n",
       " (21, 'hot'),\n",
       " (21, 'human'),\n",
       " (21, 'teacher'),\n",
       " (21, 'had'),\n",
       " (21, 'new york'),\n",
       " (20, 'kids'),\n",
       " (20, 'wrong'),\n",
       " (20, 'after being'),\n",
       " (20, 'live'),\n",
       " (20, 'star'),\n",
       " (20, 'mother'),\n",
       " (20, 'told'),\n",
       " (20, 'called'),\n",
       " (20, 'driver'),\n",
       " (20, 'times'),\n",
       " (19, 'america'),\n",
       " (19, 'calling'),\n",
       " (19, 'then'),\n",
       " (19, 'charged with'),\n",
       " (19, 'group'),\n",
       " (19, 'doesn'),\n",
       " (19, 'china'),\n",
       " (19, 'prison'),\n",
       " (19, 'takes'),\n",
       " (18, 'stolen'),\n",
       " (18, 'says he'),\n",
       " (18, 'pro'),\n",
       " (18, 'drunk'),\n",
       " (18, 'officer'),\n",
       " (18, 'to stop'),\n",
       " (18, 'giant'),\n",
       " (18, 'sign'),\n",
       " (18, 'use'),\n",
       " (18, 'tells'),\n",
       " (18, 'bans'),\n",
       " (18, 'uk'),\n",
       " (18, 'mcdonald')]"
      ]
     },
     "execution_count": 97,
     "metadata": {},
     "output_type": "execute_result"
    }
   ],
   "source": [
    "[(cvec2_df[i].sum(),i) for i in nottheonion_top_words if i not in theonion_top_words]"
   ]
  },
  {
   "cell_type": "markdown",
   "metadata": {},
   "source": [
    "## Words that are common to both"
   ]
  },
  {
   "cell_type": "code",
   "execution_count": 98,
   "metadata": {
    "ExecuteTime": {
     "end_time": "2020-01-29T21:33:13.642311Z",
     "start_time": "2020-01-29T21:33:13.603869Z"
    }
   },
   "outputs": [
    {
     "data": {
      "text/plain": [
       "[(1012, 'to'),\n",
       " (527, 'of'),\n",
       " (684, 'in'),\n",
       " (523, 'for'),\n",
       " (501, 'the'),\n",
       " (368, 'on'),\n",
       " (101, 'new'),\n",
       " (263, 'with'),\n",
       " (326, 'man'),\n",
       " (165, 'trump'),\n",
       " (201, 'by'),\n",
       " (268, 'after'),\n",
       " (178, 'from'),\n",
       " (54, 'about'),\n",
       " (245, 'and'),\n",
       " (179, 'at'),\n",
       " (123, 'he'),\n",
       " (102, 'be'),\n",
       " (81, 'up'),\n",
       " (119, 'that'),\n",
       " (28, 'report'),\n",
       " (40, 'just'),\n",
       " (143, 'as'),\n",
       " (82, 'out'),\n",
       " (144, 'it'),\n",
       " (37, 'all'),\n",
       " (79, 'into'),\n",
       " (124, 'who'),\n",
       " (92, 'not'),\n",
       " (56, 'will'),\n",
       " (30, 'how'),\n",
       " (63, 'has'),\n",
       " (66, 'you'),\n",
       " (24, 'time'),\n",
       " (47, 'have'),\n",
       " (35, 'day'),\n",
       " (30, 'one'),\n",
       " (66, 'year'),\n",
       " (58, 'this'),\n",
       " (152, 'woman'),\n",
       " (114, 'over'),\n",
       " (51, 'they'),\n",
       " (57, 'can'),\n",
       " (43, 'off'),\n",
       " (231, 'is'),\n",
       " (37, 'down'),\n",
       " (54, 'him'),\n",
       " (30, 'if'),\n",
       " (22, 'study'),\n",
       " (39, 'first'),\n",
       " (158, 'his'),\n",
       " (32, 'house'),\n",
       " (39, 'get'),\n",
       " (36, 'more'),\n",
       " (59, 'old'),\n",
       " (32, 'only'),\n",
       " (35, 'your'),\n",
       " (52, 'people'),\n",
       " (38, 'white'),\n",
       " (29, 'could'),\n",
       " (21, 'finds'),\n",
       " (42, 'like'),\n",
       " (35, 'back'),\n",
       " (50, 'no'),\n",
       " (53, 'their'),\n",
       " (24, 'what'),\n",
       " (138, 'says'),\n",
       " (42, 'to be'),\n",
       " (32, 'years'),\n",
       " (30, 'family'),\n",
       " (24, 'most'),\n",
       " (43, 'while'),\n",
       " (29, 'now'),\n",
       " (29, 'would'),\n",
       " (31, 'when'),\n",
       " (26, 'parents'),\n",
       " (38, 'them'),\n",
       " (96, 'are'),\n",
       " (46, 'year old'),\n",
       " (104, 'was'),\n",
       " (41, 'world'),\n",
       " (47, 'she'),\n",
       " (26, 'game'),\n",
       " (26, 'out of'),\n",
       " (25, 'child'),\n",
       " (20, 'to get'),\n",
       " (22, 'make'),\n",
       " (69, 'school'),\n",
       " (28, 'high'),\n",
       " (19, 'take'),\n",
       " (32, 'than'),\n",
       " (40, 'during'),\n",
       " (35, 'of the'),\n",
       " (95, 'her'),\n",
       " (26, 'against'),\n",
       " (27, 'its'),\n",
       " (18, 'my'),\n",
       " (69, 'being'),\n",
       " (21, 'million'),\n",
       " (48, 'too'),\n",
       " (47, 'president'),\n",
       " (47, 'home'),\n",
       " (41, 'in the'),\n",
       " (36, '000'),\n",
       " (49, 'women'),\n",
       " (33, 'death'),\n",
       " (30, 'go'),\n",
       " (20, 'american'),\n",
       " (23, 'or'),\n",
       " (19, 'right'),\n",
       " (39, 'so'),\n",
       " (53, 'say'),\n",
       " (27, 'may'),\n",
       " (20, 'john'),\n",
       " (27, 'bill'),\n",
       " (21, 'couple'),\n",
       " (24, 'we'),\n",
       " (19, 'away'),\n",
       " (37, 'state'),\n",
       " (27, 'been'),\n",
       " (35, 'black'),\n",
       " (35, 'own'),\n",
       " (24, 'name'),\n",
       " (36, 'obama'),\n",
       " (73, 'an'),\n",
       " (48, 'car'),\n",
       " (22, 'find'),\n",
       " (23, 'government'),\n",
       " (150, 'police'),\n",
       " (21, 'son'),\n",
       " (29, 'but'),\n",
       " (31, 'court'),\n",
       " (26, 'show')]"
      ]
     },
     "execution_count": 98,
     "metadata": {},
     "output_type": "execute_result"
    }
   ],
   "source": [
    "[(cvec2_df[i].sum(),i) for i in theonion_top_words if i in nottheonion_top_words]"
   ]
  },
  {
   "cell_type": "markdown",
   "metadata": {},
   "source": [
    "# A Logistic Regression"
   ]
  },
  {
   "cell_type": "code",
   "execution_count": 104,
   "metadata": {
    "ExecuteTime": {
     "end_time": "2020-01-29T21:35:02.756341Z",
     "start_time": "2020-01-29T21:35:02.748731Z"
    }
   },
   "outputs": [],
   "source": [
    "X_train, X_test, y_train, y_test = train_test_split(X[\"title\"], X[\"is_onion\"])"
   ]
  },
  {
   "cell_type": "code",
   "execution_count": 105,
   "metadata": {
    "ExecuteTime": {
     "end_time": "2020-01-29T21:35:03.928752Z",
     "start_time": "2020-01-29T21:35:03.696269Z"
    }
   },
   "outputs": [
    {
     "data": {
      "text/plain": [
       "0.8013333333333333"
      ]
     },
     "execution_count": 105,
     "metadata": {},
     "output_type": "execute_result"
    }
   ],
   "source": [
    "pipe = Pipeline([\n",
    "    (\"cvec\", CountVectorizer()),\n",
    "    (\"logreg\", LogisticRegression())\n",
    "])\n",
    "pipe.fit(X_train, y_train)\n",
    "pipe.score(X_test, y_test)"
   ]
  },
  {
   "cell_type": "code",
   "execution_count": 106,
   "metadata": {
    "ExecuteTime": {
     "end_time": "2020-01-29T21:35:04.685787Z",
     "start_time": "2020-01-29T21:35:04.435121Z"
    }
   },
   "outputs": [
    {
     "data": {
      "text/plain": [
       "0.8013333333333333"
      ]
     },
     "execution_count": 106,
     "metadata": {},
     "output_type": "execute_result"
    }
   ],
   "source": [
    "pipe = Pipeline([\n",
    "    (\"cvec\", CountVectorizer(stop_words=[(cvec2_df[i].sum(),i) for i in theonion_top_words if i in nottheonion_top_words])),\n",
    "    (\"logreg\", LogisticRegression())\n",
    "])\n",
    "pipe.fit(X_train, y_train)\n",
    "pipe.score(X_test, y_test)"
   ]
  },
  {
   "cell_type": "code",
   "execution_count": 107,
   "metadata": {
    "ExecuteTime": {
     "end_time": "2020-01-29T21:36:11.610749Z",
     "start_time": "2020-01-29T21:36:11.492832Z"
    }
   },
   "outputs": [
    {
     "data": {
      "text/plain": [
       "0.808"
      ]
     },
     "execution_count": 107,
     "metadata": {},
     "output_type": "execute_result"
    }
   ],
   "source": [
    "pipe = Pipeline([\n",
    "    (\"cvec\", CountVectorizer(stop_words=None)),\n",
    "    (\"mnb\", MultinomialNB())\n",
    "])\n",
    "pipe.fit(X_train, y_train)\n",
    "pipe.score(X_test, y_test)"
   ]
  },
  {
   "cell_type": "code",
   "execution_count": 108,
   "metadata": {
    "ExecuteTime": {
     "end_time": "2020-01-29T21:36:12.399681Z",
     "start_time": "2020-01-29T21:36:12.227037Z"
    }
   },
   "outputs": [
    {
     "data": {
      "text/plain": [
       "0.808"
      ]
     },
     "execution_count": 108,
     "metadata": {},
     "output_type": "execute_result"
    }
   ],
   "source": [
    "pipe = Pipeline([\n",
    "    (\"cvec\", CountVectorizer(stop_words=[(cvec2_df[i].sum(),i) for i in theonion_top_words if i in nottheonion_top_words])),\n",
    "    (\"mnb\", MultinomialNB())\n",
    "])\n",
    "pipe.fit(X_train, y_train)\n",
    "pipe.score(X_test, y_test)"
   ]
  },
  {
   "cell_type": "code",
   "execution_count": 103,
   "metadata": {
    "ExecuteTime": {
     "end_time": "2020-01-29T21:33:43.432502Z",
     "start_time": "2020-01-29T21:33:43.428508Z"
    }
   },
   "outputs": [],
   "source": [
    "# logreg_list = [LogisticRegression(C=i) for i in np.logspace(-2, 2, 100)]\n",
    "\n",
    "# for logreg in logreg_list:\n",
    "#     logreg.fit(X_train, y_train)\n",
    "#     break"
   ]
  },
  {
   "cell_type": "code",
   "execution_count": null,
   "metadata": {},
   "outputs": [],
   "source": []
  }
 ],
 "metadata": {
  "kernelspec": {
   "display_name": "Python 3",
   "language": "python",
   "name": "python3"
  },
  "language_info": {
   "codemirror_mode": {
    "name": "ipython",
    "version": 3
   },
   "file_extension": ".py",
   "mimetype": "text/x-python",
   "name": "python",
   "nbconvert_exporter": "python",
   "pygments_lexer": "ipython3",
   "version": "3.7.6"
  },
  "toc": {
   "base_numbering": 1,
   "nav_menu": {},
   "number_sections": true,
   "sideBar": true,
   "skip_h1_title": false,
   "title_cell": "Table of Contents",
   "title_sidebar": "Contents",
   "toc_cell": false,
   "toc_position": {},
   "toc_section_display": true,
   "toc_window_display": false
  }
 },
 "nbformat": 4,
 "nbformat_minor": 2
}
