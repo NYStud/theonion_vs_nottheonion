{
 "cells": [
  {
   "cell_type": "markdown",
   "metadata": {},
   "source": [
    "# Exploratory Data Analysis\n",
    "\n",
    "In this notebook, we will do some data cleaning on the data we collected previously.\n",
    "\n",
    "## Data import\n",
    "We previously stored our databases as pickled files; let us retrieve them!"
   ]
  },
  {
   "cell_type": "code",
   "execution_count": 1,
   "metadata": {
    "ExecuteTime": {
     "end_time": "2020-08-08T17:01:49.928652Z",
     "start_time": "2020-08-08T17:01:48.882819Z"
    }
   },
   "outputs": [],
   "source": [
    "import numpy as np\n",
    "import pandas as pd\n",
    "import matplotlib.pyplot as plt\n",
    "\n",
    "import requests\n",
    "from datetime import date\n",
    "import time\n",
    "\n",
    "import pickle\n",
    "import os\n",
    "import sys\n",
    "import string\n",
    "import re\n",
    "import regex\n",
    "\n",
    "from JsonCollector import JsonCollector"
   ]
  },
  {
   "cell_type": "code",
   "execution_count": 2,
   "metadata": {
    "ExecuteTime": {
     "end_time": "2020-08-08T17:01:49.938443Z",
     "start_time": "2020-08-08T17:01:49.931556Z"
    }
   },
   "outputs": [],
   "source": [
    "def save_obj(obj, filename):\n",
    "    with open(filename + '.pkl', 'wb') as f:\n",
    "        pickle.dump(obj, f, pickle.HIGHEST_PROTOCOL)\n",
    "\n",
    "def load_obj(filename):\n",
    "    with open(filename + '.pkl', 'rb') as f:\n",
    "        return pickle.load(f)"
   ]
  },
  {
   "cell_type": "code",
   "execution_count": 3,
   "metadata": {
    "ExecuteTime": {
     "end_time": "2020-08-08T17:01:49.948110Z",
     "start_time": "2020-08-08T17:01:49.940304Z"
    }
   },
   "outputs": [],
   "source": [
    "DIR = \"C:\\\\Users\\\\AzNsAnTaGiN\\\\DSI\\\\Projects\\\\project_3\\\\data\\\\\"\n",
    "FILE1 = \"theonion\"\n",
    "FILE2 = \"nottheonion\"\n",
    "FILE3 = \"onionheadlines\""
   ]
  },
  {
   "cell_type": "markdown",
   "metadata": {},
   "source": [
    "We retrieve the pickled JsonCollector objects, and process them into Pandas DataFrames with a few data fields: `id`, `title`, `score`, and `created_utc`. `id` is the unique identifier Reddit assigns to each post; `title` is the title of each post; `score` is presumably the outward-facing score that Reddit displays; `created_utc` is the time the post was created, in unix time.\n",
    "\n",
    "At the end of this notebook we save these DataFrames to pickled files for future retrieval."
   ]
  },
  {
   "cell_type": "code",
   "execution_count": 4,
   "metadata": {
    "ExecuteTime": {
     "end_time": "2020-08-08T17:01:51.871687Z",
     "start_time": "2020-08-08T17:01:49.950295Z"
    }
   },
   "outputs": [],
   "source": [
    "if not os.path.exists(DIR+FILE1+\"_df\"):\n",
    "    theonion = load_obj(DIR+FILE1)\n",
    "    k = theonion.data.keys()\n",
    "    v = [v[\"title\"] for v in theonion.data.values()]\n",
    "    s = [v[\"score\"] for v in theonion.data.values()]\n",
    "    t = [v[\"created_utc\"] for v in theonion.data.values()]\n",
    "    X_theonion = pd.DataFrame(data = [k,v,s,t],index=[\"id\", \"title\",\"score\",\"created_utc\"]).T\n",
    "    X_theonion[\"len\"] = X_theonion[\"title\"].map(lambda x: len(x))\n",
    "#     del theonion\n",
    "    save_obj(X_theonion, DIR+FILE1+\"_df\")\n",
    "else:\n",
    "    X_theonion = load_obj(DIR+FILE1+\"_df\")"
   ]
  },
  {
   "cell_type": "code",
   "execution_count": 5,
   "metadata": {
    "ExecuteTime": {
     "end_time": "2020-08-08T17:02:36.752483Z",
     "start_time": "2020-08-08T17:01:51.874004Z"
    }
   },
   "outputs": [],
   "source": [
    "if not os.path.exists(DIR+FILE2+\"_df\"):\n",
    "    nottheonion = load_obj(DIR+FILE2)\n",
    "    k = nottheonion.data.keys()\n",
    "    v = [v[\"title\"] for v in nottheonion.data.values()]\n",
    "    s = [v[\"score\"] for v in nottheonion.data.values()]\n",
    "    t = [v[\"created_utc\"] for v in nottheonion.data.values()]\n",
    "    X_nottheonion = pd.DataFrame(data = [k,v,s,t],index=[\"id\", \"title\",\"score\",\"created_utc\"]).T\n",
    "    X_nottheonion[\"len\"] = X_nottheonion[\"title\"].map(lambda x: len(x))\n",
    "#     del nottheonion\n",
    "    save_obj(X_nottheonion, DIR+FILE2+\"_df\")\n",
    "else:\n",
    "    X_nottheonion = load_obj(DIR+FILE2+\"_df\")"
   ]
  },
  {
   "cell_type": "code",
   "execution_count": 6,
   "metadata": {
    "ExecuteTime": {
     "end_time": "2020-08-08T17:02:37.513531Z",
     "start_time": "2020-08-08T17:02:36.754448Z"
    }
   },
   "outputs": [],
   "source": [
    "if not os.path.exists(DIR+FILE3+\"_df\"):\n",
    "    onionheadlines = load_obj(DIR+FILE3)\n",
    "    k = onionheadlines.data.keys()\n",
    "    v = [v[\"title\"] for v in onionheadlines.data.values()]\n",
    "    s = [v[\"score\"] for v in onionheadlines.data.values()]\n",
    "    X_onionheadlines = pd.DataFrame(data = [k,v,s],index=[\"id\", \"title\",\"score\"]).T\n",
    "    X_onionheadlines[\"len\"] = X_onionheadlines[\"title\"].map(lambda x: len(x))\n",
    "#     del onionheadlines\n",
    "    save_obj(X_onionheadlines, DIR+FILE3+\"_df\")\n",
    "else:\n",
    "    X_onionheadlines = load_obj(DIR+FILE3+\"_df\")"
   ]
  },
  {
   "cell_type": "code",
   "execution_count": 7,
   "metadata": {
    "ExecuteTime": {
     "end_time": "2020-08-08T17:02:37.545382Z",
     "start_time": "2020-08-08T17:02:37.514496Z"
    }
   },
   "outputs": [],
   "source": [
    "X_theonion_orig = X_theonion.copy()\n",
    "X_nottheonion_orig = X_nottheonion.copy()"
   ]
  },
  {
   "cell_type": "markdown",
   "metadata": {},
   "source": [
    "## Data Cleaning\n",
    "Pushshift picks up posts that were deleted or invalid, and we want to exclude these from our analysis"
   ]
  },
  {
   "cell_type": "markdown",
   "metadata": {},
   "source": [
    "We have a bunch of metadata; how much of this can we use for cleaning?"
   ]
  },
  {
   "cell_type": "code",
   "execution_count": 8,
   "metadata": {
    "ExecuteTime": {
     "end_time": "2020-08-08T17:02:37.552687Z",
     "start_time": "2020-08-08T17:02:37.549272Z"
    },
    "scrolled": true
   },
   "outputs": [],
   "source": [
    "# metadata = set()\n",
    "# for k,v in theonion.data.items():\n",
    "#     [metadata.add(key) for key in v.keys()]\n",
    "# for k,v in nottheonion.data.items():\n",
    "#     [metadata.add(key) for key in v.keys()]\n",
    "# for k,v in onionheadlines.data.items():\n",
    "#     [metadata.add(key) for key in v.keys()]\n",
    "# metadata"
   ]
  },
  {
   "cell_type": "code",
   "execution_count": 9,
   "metadata": {
    "ExecuteTime": {
     "end_time": "2020-08-08T17:02:37.561998Z",
     "start_time": "2020-08-08T17:02:37.555603Z"
    },
    "scrolled": true
   },
   "outputs": [],
   "source": [
    "# onion_metadata = set()\n",
    "# for k,v in theonion.data.items():\n",
    "#     [onion_metadata.add(key) for key in v.keys()]\n",
    "# onion_metadata"
   ]
  },
  {
   "cell_type": "code",
   "execution_count": 10,
   "metadata": {
    "ExecuteTime": {
     "end_time": "2020-08-08T17:02:37.571650Z",
     "start_time": "2020-08-08T17:02:37.563923Z"
    },
    "scrolled": true
   },
   "outputs": [],
   "source": [
    "# notonion_metadata = set()\n",
    "# for k,v in nottheonion.data.items():\n",
    "#     [notonion_metadata.add(key) for key in v.keys()]\n",
    "# notonion_metadata"
   ]
  },
  {
   "cell_type": "markdown",
   "metadata": {},
   "source": [
    "### `/r/theonion`"
   ]
  },
  {
   "cell_type": "markdown",
   "metadata": {},
   "source": [
    "#### Removing links to non-Onion sources\n",
    "The onion subreddit only allows links from theonion, clickhole, and apparently youtube.\n",
    "\n",
    "We're going to be even stricter and only allow the onion."
   ]
  },
  {
   "cell_type": "code",
   "execution_count": 11,
   "metadata": {
    "ExecuteTime": {
     "end_time": "2020-08-08T17:02:37.616644Z",
     "start_time": "2020-08-08T17:02:37.573602Z"
    }
   },
   "outputs": [],
   "source": [
    "theonion_filter = [k for k,v in theonion.data.items()\n",
    "#                    if all([domain not in v[\"domain\"] for domain in [\"theonion\", \"clickhole\", \"youtube\"]])]\n",
    "                   if all([domain not in v[\"domain\"] for domain in [\"theonion\"]])]\n",
    "# display(X_theonion[\"id\"].isin(theonion_filter))\n",
    "\n",
    "X_theonion = X_theonion[~X_theonion[\"id\"].isin(theonion_filter)].reset_index().drop(columns=\"index\").copy()"
   ]
  },
  {
   "cell_type": "markdown",
   "metadata": {},
   "source": [
    "The following plot will be recurring: It is a histogram our uncleaned data versus time, where each bin is a time window and each amount is the number of entries we have in that window. We show both `/r/theonion` and `/r/nottheonion`, both before and after we prune entries."
   ]
  },
  {
   "cell_type": "code",
   "execution_count": 12,
   "metadata": {
    "ExecuteTime": {
     "end_time": "2020-08-08T17:02:40.126042Z",
     "start_time": "2020-08-08T17:02:37.618595Z"
    }
   },
   "outputs": [
    {
     "data": {
      "image/png": "[encoded data removed]",
      "text/plain": [
       "<Figure size 576x576 with 4 Axes>"
      ]
     },
     "metadata": {
      "needs_background": "light"
     },
     "output_type": "display_data"
    }
   ],
   "source": [
    "fig, axes = plt.subplots(2,2, figsize=(8,8), sharex=True, sharey=\"row\")\n",
    "axes = axes.ravel()\n",
    "axes[0].hist(X_theonion_orig[\"created_utc\"], bins='auto');\n",
    "axes[1].hist(X_theonion[\"created_utc\"], bins='auto');\n",
    "axes[2].hist(X_nottheonion_orig[\"created_utc\"], bins='auto');\n",
    "axes[3].hist(X_nottheonion[\"created_utc\"], bins='auto');\n",
    "\n",
    "axes[0].set_title('/r/theonion, all posts');\n",
    "axes[1].set_title('/r/theonion, cleaned');\n",
    "axes[2].set_title('/r/nottheonion, all posts');\n",
    "axes[3].set_title('/r/nottheonion, cleaned');\n",
    "\n",
    "fig.text(0.5, 0.045, 'time_created (utc)', ha='center', va='center', fontsize=14);"
   ]
  },
  {
   "cell_type": "markdown",
   "metadata": {},
   "source": [
    "#### Removing posts that were removed or were meta"
   ]
  },
  {
   "cell_type": "code",
   "execution_count": 13,
   "metadata": {
    "ExecuteTime": {
     "end_time": "2020-08-08T17:02:40.240403Z",
     "start_time": "2020-08-08T17:02:40.127977Z"
    }
   },
   "outputs": [],
   "source": [
    "flags = [\n",
    "#     \"is_meta\",\n",
    "#     \"is_original_content\",\n",
    "    \"removal_reason\",\n",
    "    \"removed_by\",\n",
    "    \"removed_by_category\",\n",
    "    \"quarantine\",\n",
    "    \"banned_by\",\n",
    "    \"banned_at_utc\"\n",
    "]\n",
    "theonion_filter = [k for k,v in theonion.data.items()\n",
    "                   if any([tag in flags for tag in v.keys()])]"
   ]
  },
  {
   "cell_type": "code",
   "execution_count": 14,
   "metadata": {
    "ExecuteTime": {
     "end_time": "2020-08-08T17:02:40.368496Z",
     "start_time": "2020-08-08T17:02:40.243249Z"
    }
   },
   "outputs": [],
   "source": [
    "X_theonion = X_theonion[~X_theonion[\"id\"].isin(theonion_filter)].reset_index().drop(columns=\"index\").copy()"
   ]
  },
  {
   "cell_type": "code",
   "execution_count": 15,
   "metadata": {
    "ExecuteTime": {
     "end_time": "2020-08-08T17:02:43.059496Z",
     "start_time": "2020-08-08T17:02:40.370447Z"
    }
   },
   "outputs": [
    {
     "data": {
      "image/png": "[encoded data removed]",
      "text/plain": [
       "<Figure size 576x576 with 4 Axes>"
      ]
     },
     "metadata": {
      "needs_background": "light"
     },
     "output_type": "display_data"
    }
   ],
   "source": [
    "fig, axes = plt.subplots(2,2, figsize=(8,8), sharex=True, sharey=\"row\")\n",
    "axes = axes.ravel()\n",
    "axes[0].hist(X_theonion_orig[\"created_utc\"], bins='auto');\n",
    "axes[1].hist(X_theonion[\"created_utc\"], bins='auto');\n",
    "axes[2].hist(X_nottheonion_orig[\"created_utc\"], bins='auto');\n",
    "axes[3].hist(X_nottheonion[\"created_utc\"], bins='auto');\n",
    "\n",
    "axes[0].set_title('/r/theonion, all posts');\n",
    "axes[1].set_title('/r/theonion, cleaned');\n",
    "axes[2].set_title('/r/nottheonion, all posts');\n",
    "axes[3].set_title('/r/nottheonion, cleaned');"
   ]
  },
  {
   "cell_type": "markdown",
   "metadata": {},
   "source": [
    "#### Preprocessing whitespace\n",
    "Sometimes posts contain non-space whitespace. Let's fix that:"
   ]
  },
  {
   "cell_type": "code",
   "execution_count": 16,
   "metadata": {
    "ExecuteTime": {
     "end_time": "2020-08-08T17:02:43.091344Z",
     "start_time": "2020-08-08T17:02:43.061565Z"
    }
   },
   "outputs": [],
   "source": [
    "X_theonion[\"title\"] = X_theonion[\"title\"].map(lambda x: \" \".join(x.split()))"
   ]
  },
  {
   "cell_type": "markdown",
   "metadata": {},
   "source": [
    "#### Preprocessing Unicode\n",
    "Sometimes posts contain non-ascii chars. While we'd like to remove them, we ultimately deemed it not worth our time. Our attempts are below:"
   ]
  },
  {
   "cell_type": "code",
   "execution_count": 17,
   "metadata": {
    "ExecuteTime": {
     "end_time": "2020-08-08T17:02:43.275590Z",
     "start_time": "2020-08-08T17:02:43.093519Z"
    }
   },
   "outputs": [],
   "source": [
    "def isEnglish(s):\n",
    "    try:\n",
    "        s.encode(encoding='utf-8').decode('ascii')\n",
    "    except UnicodeDecodeError:\n",
    "        return False\n",
    "    else:\n",
    "        return True"
   ]
  },
  {
   "cell_type": "code",
   "execution_count": 18,
   "metadata": {
    "ExecuteTime": {
     "end_time": "2020-08-08T17:02:43.786462Z",
     "start_time": "2020-08-08T17:02:43.278014Z"
    }
   },
   "outputs": [
    {
     "data": {
      "text/html": [
       "<div>\n",
       "<style scoped>\n",
       "    .dataframe tbody tr th:only-of-type {\n",
       "        vertical-align: middle;\n",
       "    }\n",
       "\n",
       "    .dataframe tbody tr th {\n",
       "        vertical-align: top;\n",
       "    }\n",
       "\n",
       "    .dataframe thead th {\n",
       "        text-align: right;\n",
       "    }\n",
       "</style>\n",
       "<table border=\"1\" class=\"dataframe\">\n",
       "  <thead>\n",
       "    <tr style=\"text-align: right;\">\n",
       "      <th></th>\n",
       "      <th>id</th>\n",
       "      <th>title</th>\n",
       "      <th>score</th>\n",
       "      <th>created_utc</th>\n",
       "      <th>len</th>\n",
       "    </tr>\n",
       "  </thead>\n",
       "  <tbody>\n",
       "    <tr>\n",
       "      <th>108913</th>\n",
       "      <td>36hbgq</td>\n",
       "      <td>Greggs – a bakery – has actually stopped selling loaves of bread</td>\n",
       "      <td>1</td>\n",
       "      <td>1432036021</td>\n",
       "      <td>64</td>\n",
       "    </tr>\n",
       "    <tr>\n",
       "      <th>413759</th>\n",
       "      <td>cvn7zu</td>\n",
       "      <td>Wolfenstein developers are “incredibly disappointed” that fighting Nazis is now “problematic”</td>\n",
       "      <td>650</td>\n",
       "      <td>1566821468</td>\n",
       "      <td>93</td>\n",
       "    </tr>\n",
       "    <tr>\n",
       "      <th>87628</th>\n",
       "      <td>2tzdc3</td>\n",
       "      <td>Kenny G Says He’s Responsible For The Starbucks Frappuccino</td>\n",
       "      <td>0</td>\n",
       "      <td>1422466360</td>\n",
       "      <td>59</td>\n",
       "    </tr>\n",
       "    <tr>\n",
       "      <th>339929</th>\n",
       "      <td>95sjtw</td>\n",
       "      <td>Christopher Robin, denied Chinese release, is the latest victim in China’s war on Winnie the Pooh</td>\n",
       "      <td>1</td>\n",
       "      <td>1533781813</td>\n",
       "      <td>97</td>\n",
       "    </tr>\n",
       "    <tr>\n",
       "      <th>42003</th>\n",
       "      <td>21avtq</td>\n",
       "      <td>Atheist ‘Noah’ director brags film is least biblical Bible movie ever</td>\n",
       "      <td>208</td>\n",
       "      <td>1395727573</td>\n",
       "      <td>69</td>\n",
       "    </tr>\n",
       "    <tr>\n",
       "      <th>148688</th>\n",
       "      <td>3ueijr</td>\n",
       "      <td>‘Mister Ugly’ contest sparks riot after fans claim winner is ‘too handsome’</td>\n",
       "      <td>0</td>\n",
       "      <td>1448579938</td>\n",
       "      <td>75</td>\n",
       "    </tr>\n",
       "    <tr>\n",
       "      <th>355172</th>\n",
       "      <td>9sgzn0</td>\n",
       "      <td>Ohio haunted house apologizes for hosting ‘Swastika Saturday’ event hours after Synagogue shooting.</td>\n",
       "      <td>1</td>\n",
       "      <td>1540845340</td>\n",
       "      <td>99</td>\n",
       "    </tr>\n",
       "    <tr>\n",
       "      <th>133824</th>\n",
       "      <td>3lrtyt</td>\n",
       "      <td>Chea &amp;amp; Chhong busted over B’bang pot farms</td>\n",
       "      <td>1</td>\n",
       "      <td>1442815816</td>\n",
       "      <td>46</td>\n",
       "    </tr>\n",
       "    <tr>\n",
       "      <th>202396</th>\n",
       "      <td>4xz1b0</td>\n",
       "      <td>Japanese pole vaulter’s Olympic dream crushed by his own penis</td>\n",
       "      <td>1</td>\n",
       "      <td>1471347385</td>\n",
       "      <td>62</td>\n",
       "    </tr>\n",
       "    <tr>\n",
       "      <th>414865</th>\n",
       "      <td>cyophu</td>\n",
       "      <td>Harry Potter books removed from school library to due to concerns over ‘real’ spells and curses</td>\n",
       "      <td>1</td>\n",
       "      <td>1567429474</td>\n",
       "      <td>95</td>\n",
       "    </tr>\n",
       "  </tbody>\n",
       "</table>\n",
       "</div>"
      ],
      "text/plain": [
       "            id  \\\n",
       "108913  36hbgq   \n",
       "413759  cvn7zu   \n",
       "87628   2tzdc3   \n",
       "339929  95sjtw   \n",
       "42003   21avtq   \n",
       "148688  3ueijr   \n",
       "355172  9sgzn0   \n",
       "133824  3lrtyt   \n",
       "202396  4xz1b0   \n",
       "414865  cyophu   \n",
       "\n",
       "                                                                                                      title  \\\n",
       "108913  Greggs – a bakery – has actually stopped selling loaves of bread                                      \n",
       "413759  Wolfenstein developers are “incredibly disappointed” that fighting Nazis is now “problematic”         \n",
       "87628   Kenny G Says He’s Responsible For The Starbucks Frappuccino                                           \n",
       "339929  Christopher Robin, denied Chinese release, is the latest victim in China’s war on Winnie the Pooh     \n",
       "42003   Atheist ‘Noah’ director brags film is least biblical Bible movie ever                                 \n",
       "148688  ‘Mister Ugly’ contest sparks riot after fans claim winner is ‘too handsome’                           \n",
       "355172  Ohio haunted house apologizes for hosting ‘Swastika Saturday’ event hours after Synagogue shooting.   \n",
       "133824  Chea &amp; Chhong busted over B’bang pot farms                                                        \n",
       "202396  Japanese pole vaulter’s Olympic dream crushed by his own penis                                        \n",
       "414865  Harry Potter books removed from school library to due to concerns over ‘real’ spells and curses       \n",
       "\n",
       "       score created_utc  len  \n",
       "108913  1     1432036021  64   \n",
       "413759  650   1566821468  93   \n",
       "87628   0     1422466360  59   \n",
       "339929  1     1533781813  97   \n",
       "42003   208   1395727573  69   \n",
       "148688  0     1448579938  75   \n",
       "355172  1     1540845340  99   \n",
       "133824  1     1442815816  46   \n",
       "202396  1     1471347385  62   \n",
       "414865  1     1567429474  95   "
      ]
     },
     "metadata": {},
     "output_type": "display_data"
    }
   ],
   "source": [
    "with pd.option_context(\"display.max_colwidth\", -1, \"display.max_rows\", None):\n",
    "    display(X_nottheonion[~X_nottheonion[\"title\"].map(lambda x: isEnglish(x))].sample(10))"
   ]
  },
  {
   "cell_type": "code",
   "execution_count": 19,
   "metadata": {
    "ExecuteTime": {
     "end_time": "2020-08-08T17:02:43.791546Z",
     "start_time": "2020-08-08T17:02:43.788618Z"
    }
   },
   "outputs": [],
   "source": [
    "# # X_theonion[\"title\"]\n",
    "# X_theonion[\"title\"].map(lambda x: regex.sub(u'[^\\p{Latin}]&[^w]', u'', x))"
   ]
  },
  {
   "cell_type": "code",
   "execution_count": 20,
   "metadata": {
    "ExecuteTime": {
     "end_time": "2020-08-08T17:02:43.824129Z",
     "start_time": "2020-08-08T17:02:43.793546Z"
    }
   },
   "outputs": [
    {
     "data": {
      "text/plain": [
       "0        Microsoft Ad Campaign Crashing Nation's Televi...\n",
       "1                Obama's Embarrassing Ska Album Resurfaces\n",
       "2        Kid Not Getting In Strange Van For Anything Le...\n",
       "3        Last Thing Government Worker Needed Was Agency...\n",
       "4        God Cites 'Moving In Mysterious Ways' As Motiv...\n",
       "                               ...                        \n",
       "10367    Trump Lifts Obama-Era Protections Trapping Gan...\n",
       "10368    Eli Manning Retires From NFL To Focus On Being...\n",
       "10369    Weinstein Defense Attorney Implores Jury To Re...\n",
       "10370    Melting Giraffe Congressman Warns Impeachment ...\n",
       "10371    Trump Makes Powerful Pro-Life Case By Speaking...\n",
       "Name: title, Length: 10372, dtype: object"
      ]
     },
     "execution_count": 20,
     "metadata": {},
     "output_type": "execute_result"
    }
   ],
   "source": [
    "X_theonion[\"title\"]"
   ]
  },
  {
   "cell_type": "markdown",
   "metadata": {},
   "source": [
    "#### Removing posts that don't have proper titles"
   ]
  },
  {
   "cell_type": "code",
   "execution_count": 21,
   "metadata": {
    "ExecuteTime": {
     "end_time": "2020-08-08T17:02:43.971559Z",
     "start_time": "2020-08-08T17:02:43.826210Z"
    }
   },
   "outputs": [],
   "source": [
    "# The Onion Headlines Are Almost Always Cased Like This.\n",
    "# Using this to filter for headlines:\n",
    "# Only selects entries that ALWAYS capitalize\n",
    "# the first letter of every word.\n",
    "X_theonion = X_theonion[\n",
    "    X_theonion[\"title\"].map(\n",
    "        lambda x: np.all([\n",
    "            y[0].isupper()\n",
    "            for y in re.sub('[^A-Za-z ]+', '', x).split()\n",
    "]))].copy()"
   ]
  },
  {
   "cell_type": "code",
   "execution_count": 22,
   "metadata": {
    "ExecuteTime": {
     "end_time": "2020-08-08T17:02:43.979389Z",
     "start_time": "2020-08-08T17:02:43.972532Z"
    },
    "scrolled": true
   },
   "outputs": [
    {
     "data": {
      "text/plain": [
       "9981"
      ]
     },
     "execution_count": 22,
     "metadata": {},
     "output_type": "execute_result"
    }
   ],
   "source": [
    "len(X_theonion)"
   ]
  },
  {
   "cell_type": "code",
   "execution_count": 23,
   "metadata": {
    "ExecuteTime": {
     "end_time": "2020-08-08T17:02:46.363437Z",
     "start_time": "2020-08-08T17:02:43.987211Z"
    }
   },
   "outputs": [
    {
     "data": {
      "image/png": "[encoded data removed]",
      "text/plain": [
       "<Figure size 576x576 with 4 Axes>"
      ]
     },
     "metadata": {
      "needs_background": "light"
     },
     "output_type": "display_data"
    }
   ],
   "source": [
    "fig, axes = plt.subplots(2,2, figsize=(8,8), sharex=True, sharey=\"row\")\n",
    "axes = axes.ravel()\n",
    "axes[0].hist(X_theonion_orig[\"created_utc\"], bins='auto');\n",
    "axes[1].hist(X_theonion[\"created_utc\"], bins='auto');\n",
    "axes[2].hist(X_nottheonion_orig[\"created_utc\"], bins='auto');\n",
    "axes[3].hist(X_nottheonion[\"created_utc\"], bins='auto');\n",
    "\n",
    "axes[0].set_title('/r/theonion, all posts');\n",
    "axes[1].set_title('/r/theonion, cleaned');\n",
    "axes[2].set_title('/r/nottheonion, all posts');\n",
    "axes[3].set_title('/r/nottheonion, cleaned');"
   ]
  },
  {
   "cell_type": "markdown",
   "metadata": {
    "ExecuteTime": {
     "end_time": "2020-01-27T21:54:34.221220Z",
     "start_time": "2020-01-27T21:54:33.188957Z"
    }
   },
   "source": [
    "#### Removing non-headlines\n",
    "\n",
    "Posts often contain substrings like `| The Onion` and `America's Finest News Source`. We'll remove these."
   ]
  },
  {
   "cell_type": "code",
   "execution_count": 24,
   "metadata": {
    "ExecuteTime": {
     "end_time": "2020-08-08T17:02:46.397466Z",
     "start_time": "2020-08-08T17:02:46.367595Z"
    }
   },
   "outputs": [],
   "source": [
    "# Remove all crossposts\n",
    "X_theonion[\"cleantitle\"] = X_theonion[\"title\"].map(lambda x: re.sub('\\(|\\[x*post*\\]|\\)', '', x))"
   ]
  },
  {
   "cell_type": "code",
   "execution_count": 25,
   "metadata": {
    "ExecuteTime": {
     "end_time": "2020-08-08T17:02:46.421460Z",
     "start_time": "2020-08-08T17:02:46.400162Z"
    }
   },
   "outputs": [],
   "source": [
    "# Remove all substrings following a pipe |.\n",
    "X_theonion[\"cleantitle\"] = X_theonion[\"cleantitle\"].map(lambda x: re.sub('\\|(.*)', '', x))"
   ]
  },
  {
   "cell_type": "code",
   "execution_count": 26,
   "metadata": {
    "ExecuteTime": {
     "end_time": "2020-08-08T17:02:46.442518Z",
     "start_time": "2020-08-08T17:02:46.423412Z"
    }
   },
   "outputs": [],
   "source": [
    "# I honestly don't even remember what this one does\n",
    "# but I think it removes bracketted terms\n",
    "X_theonion[\"cleantitle\"] = X_theonion[\"cleantitle\"].map(lambda x: re.sub(\"\\[(.*)\\]\",'',x))"
   ]
  },
  {
   "cell_type": "code",
   "execution_count": 27,
   "metadata": {
    "ExecuteTime": {
     "end_time": "2020-08-08T17:02:46.451337Z",
     "start_time": "2020-08-08T17:02:46.444470Z"
    }
   },
   "outputs": [],
   "source": [
    "substrings_to_remove = [\n",
    "    \" \\| The Onion - America's Finest News Source\",\n",
    "    \" - The Onion - America's Finest News Source\",\n",
    "    \" - America's Finest News Source\",\n",
    "    \" \\| The Onion\",\n",
    "    \"\\| Video\",\n",
    "    \"Video: \",\n",
    "    \" - Video\",\n",
    "    \" \\[Video\\]\",\n",
    "    \" \\[2011 Video\\]\",\n",
    "    \"Article: \",\n",
    "    \" \\(Article\\)\",\n",
    "    \"\\(Onion Article\\)\",\n",
    "    \"The Onion's\",\n",
    "    \"The Onion’s\",\n",
    "    \"‘The Onion’\",\n",
    "    \"The Onion\",\n",
    "    \"Onion \",\n",
    "    \" \\| ClickHole\",\n",
    "    \"American Voices: \",\n",
    "    \"American Voices : \",\n",
    "    \"American Voices - \",\n",
    "    \"American Voices; \",\n",
    "    \"’\",\n",
    "    \"‘\",\n",
    "    \"'\",\n",
    "]"
   ]
  },
  {
   "cell_type": "code",
   "execution_count": 28,
   "metadata": {
    "ExecuteTime": {
     "end_time": "2020-08-08T17:02:46.692980Z",
     "start_time": "2020-08-08T17:02:46.453635Z"
    }
   },
   "outputs": [],
   "source": [
    "for s in substrings_to_remove:\n",
    "    X_theonion[\"cleantitle\"] = X_theonion[\"cleantitle\"].str.replace(s, \"\")\n",
    "X_theonion[\"cleanlen\"] = X_theonion[\"cleantitle\"].map(lambda x: len(x))\n",
    "X_theonion[\"clean_word_len\"] = X_theonion[\"cleantitle\"].map(lambda x: x.count(\" \"))\n",
    "X_theonion = X_theonion[X_theonion[\"clean_word_len\"]>=3].copy()"
   ]
  },
  {
   "cell_type": "code",
   "execution_count": 29,
   "metadata": {
    "ExecuteTime": {
     "end_time": "2020-08-08T17:02:46.698939Z",
     "start_time": "2020-08-08T17:02:46.694934Z"
    }
   },
   "outputs": [],
   "source": [
    "# with pd.option_context(\"display.max_colwidth\", -1, \"display.max_rows\", None):\n",
    "#     display(X_theonion[X_theonion[\"clean_word_len\"].between(3,4)])"
   ]
  },
  {
   "cell_type": "markdown",
   "metadata": {
    "ExecuteTime": {
     "end_time": "2020-01-27T21:54:34.221220Z",
     "start_time": "2020-01-27T21:54:33.188957Z"
    }
   },
   "source": [
    "#### Removing duplicates"
   ]
  },
  {
   "cell_type": "code",
   "execution_count": 30,
   "metadata": {
    "ExecuteTime": {
     "end_time": "2020-08-08T17:02:46.720593Z",
     "start_time": "2020-08-08T17:02:46.700929Z"
    }
   },
   "outputs": [],
   "source": [
    "X_theonion = X_theonion.drop_duplicates(subset=\"cleantitle\").copy()"
   ]
  },
  {
   "cell_type": "code",
   "execution_count": 31,
   "metadata": {
    "ExecuteTime": {
     "end_time": "2020-08-08T17:02:46.742652Z",
     "start_time": "2020-08-08T17:02:46.722536Z"
    }
   },
   "outputs": [
    {
     "data": {
      "text/html": [
       "<div>\n",
       "<style scoped>\n",
       "    .dataframe tbody tr th:only-of-type {\n",
       "        vertical-align: middle;\n",
       "    }\n",
       "\n",
       "    .dataframe tbody tr th {\n",
       "        vertical-align: top;\n",
       "    }\n",
       "\n",
       "    .dataframe thead th {\n",
       "        text-align: right;\n",
       "    }\n",
       "</style>\n",
       "<table border=\"1\" class=\"dataframe\">\n",
       "  <thead>\n",
       "    <tr style=\"text-align: right;\">\n",
       "      <th></th>\n",
       "      <th>id</th>\n",
       "      <th>title</th>\n",
       "      <th>score</th>\n",
       "      <th>created_utc</th>\n",
       "      <th>len</th>\n",
       "      <th>cleantitle</th>\n",
       "      <th>cleanlen</th>\n",
       "      <th>clean_word_len</th>\n",
       "    </tr>\n",
       "  </thead>\n",
       "  <tbody>\n",
       "    <tr>\n",
       "      <th>0</th>\n",
       "      <td>79mcv</td>\n",
       "      <td>Microsoft Ad Campaign Crashing Nation's Televi...</td>\n",
       "      <td>5</td>\n",
       "      <td>1225117091</td>\n",
       "      <td>52</td>\n",
       "      <td>Microsoft Ad Campaign Crashing Nations Televis...</td>\n",
       "      <td>50</td>\n",
       "      <td>5</td>\n",
       "    </tr>\n",
       "    <tr>\n",
       "      <th>1</th>\n",
       "      <td>b4qfd</td>\n",
       "      <td>Obama's Embarrassing Ska Album Resurfaces</td>\n",
       "      <td>1</td>\n",
       "      <td>1266782395</td>\n",
       "      <td>41</td>\n",
       "      <td>Obamas Embarrassing Ska Album Resurfaces</td>\n",
       "      <td>40</td>\n",
       "      <td>4</td>\n",
       "    </tr>\n",
       "    <tr>\n",
       "      <th>2</th>\n",
       "      <td>1noybe</td>\n",
       "      <td>Kid Not Getting In Strange Van For Anything Le...</td>\n",
       "      <td>26</td>\n",
       "      <td>1380847139</td>\n",
       "      <td>67</td>\n",
       "      <td>Kid Not Getting In Strange Van For Anything Le...</td>\n",
       "      <td>67</td>\n",
       "      <td>11</td>\n",
       "    </tr>\n",
       "    <tr>\n",
       "      <th>3</th>\n",
       "      <td>1nozfs</td>\n",
       "      <td>Last Thing Government Worker Needed Was Agency...</td>\n",
       "      <td>8</td>\n",
       "      <td>1380848039</td>\n",
       "      <td>74</td>\n",
       "      <td>Last Thing Government Worker Needed Was Agency...</td>\n",
       "      <td>72</td>\n",
       "      <td>9</td>\n",
       "    </tr>\n",
       "    <tr>\n",
       "      <th>4</th>\n",
       "      <td>1nsllw</td>\n",
       "      <td>God Cites 'Moving In Mysterious Ways' As Motiv...</td>\n",
       "      <td>12</td>\n",
       "      <td>1380994431</td>\n",
       "      <td>86</td>\n",
       "      <td>God Cites Moving In Mysterious Ways As Motive ...</td>\n",
       "      <td>84</td>\n",
       "      <td>14</td>\n",
       "    </tr>\n",
       "    <tr>\n",
       "      <th>...</th>\n",
       "      <td>...</td>\n",
       "      <td>...</td>\n",
       "      <td>...</td>\n",
       "      <td>...</td>\n",
       "      <td>...</td>\n",
       "      <td>...</td>\n",
       "      <td>...</td>\n",
       "      <td>...</td>\n",
       "    </tr>\n",
       "    <tr>\n",
       "      <th>10367</th>\n",
       "      <td>et718z</td>\n",
       "      <td>Trump Lifts Obama-Era Protections Trapping Gan...</td>\n",
       "      <td>1</td>\n",
       "      <td>1579850473</td>\n",
       "      <td>116</td>\n",
       "      <td>Trump Lifts Obama-Era Protections Trapping Gan...</td>\n",
       "      <td>116</td>\n",
       "      <td>16</td>\n",
       "    </tr>\n",
       "    <tr>\n",
       "      <th>10368</th>\n",
       "      <td>etdrvf</td>\n",
       "      <td>Eli Manning Retires From NFL To Focus On Being...</td>\n",
       "      <td>1</td>\n",
       "      <td>1579887928</td>\n",
       "      <td>75</td>\n",
       "      <td>Eli Manning Retires From NFL To Focus On Being...</td>\n",
       "      <td>75</td>\n",
       "      <td>11</td>\n",
       "    </tr>\n",
       "    <tr>\n",
       "      <th>10369</th>\n",
       "      <td>etgbfu</td>\n",
       "      <td>Weinstein Defense Attorney Implores Jury To Re...</td>\n",
       "      <td>1</td>\n",
       "      <td>1579898672</td>\n",
       "      <td>78</td>\n",
       "      <td>Weinstein Defense Attorney Implores Jury To Re...</td>\n",
       "      <td>76</td>\n",
       "      <td>11</td>\n",
       "    </tr>\n",
       "    <tr>\n",
       "      <th>10370</th>\n",
       "      <td>ethb4e</td>\n",
       "      <td>Melting Giraffe Congressman Warns Impeachment ...</td>\n",
       "      <td>1</td>\n",
       "      <td>1579903022</td>\n",
       "      <td>77</td>\n",
       "      <td>Melting Giraffe Congressman Warns Impeachment ...</td>\n",
       "      <td>77</td>\n",
       "      <td>8</td>\n",
       "    </tr>\n",
       "    <tr>\n",
       "      <th>10371</th>\n",
       "      <td>etqhqq</td>\n",
       "      <td>Trump Makes Powerful Pro-Life Case By Speaking...</td>\n",
       "      <td>1</td>\n",
       "      <td>1579957221</td>\n",
       "      <td>83</td>\n",
       "      <td>Trump Makes Powerful Pro-Life Case By Speaking...</td>\n",
       "      <td>83</td>\n",
       "      <td>13</td>\n",
       "    </tr>\n",
       "  </tbody>\n",
       "</table>\n",
       "<p>8588 rows × 8 columns</p>\n",
       "</div>"
      ],
      "text/plain": [
       "           id                                              title score  \\\n",
       "0       79mcv  Microsoft Ad Campaign Crashing Nation's Televi...     5   \n",
       "1       b4qfd          Obama's Embarrassing Ska Album Resurfaces     1   \n",
       "2      1noybe  Kid Not Getting In Strange Van For Anything Le...    26   \n",
       "3      1nozfs  Last Thing Government Worker Needed Was Agency...     8   \n",
       "4      1nsllw  God Cites 'Moving In Mysterious Ways' As Motiv...    12   \n",
       "...       ...                                                ...   ...   \n",
       "10367  et718z  Trump Lifts Obama-Era Protections Trapping Gan...     1   \n",
       "10368  etdrvf  Eli Manning Retires From NFL To Focus On Being...     1   \n",
       "10369  etgbfu  Weinstein Defense Attorney Implores Jury To Re...     1   \n",
       "10370  ethb4e  Melting Giraffe Congressman Warns Impeachment ...     1   \n",
       "10371  etqhqq  Trump Makes Powerful Pro-Life Case By Speaking...     1   \n",
       "\n",
       "      created_utc  len                                         cleantitle  \\\n",
       "0      1225117091   52  Microsoft Ad Campaign Crashing Nations Televis...   \n",
       "1      1266782395   41           Obamas Embarrassing Ska Album Resurfaces   \n",
       "2      1380847139   67  Kid Not Getting In Strange Van For Anything Le...   \n",
       "3      1380848039   74  Last Thing Government Worker Needed Was Agency...   \n",
       "4      1380994431   86  God Cites Moving In Mysterious Ways As Motive ...   \n",
       "...           ...  ...                                                ...   \n",
       "10367  1579850473  116  Trump Lifts Obama-Era Protections Trapping Gan...   \n",
       "10368  1579887928   75  Eli Manning Retires From NFL To Focus On Being...   \n",
       "10369  1579898672   78  Weinstein Defense Attorney Implores Jury To Re...   \n",
       "10370  1579903022   77  Melting Giraffe Congressman Warns Impeachment ...   \n",
       "10371  1579957221   83  Trump Makes Powerful Pro-Life Case By Speaking...   \n",
       "\n",
       "       cleanlen  clean_word_len  \n",
       "0            50               5  \n",
       "1            40               4  \n",
       "2            67              11  \n",
       "3            72               9  \n",
       "4            84              14  \n",
       "...         ...             ...  \n",
       "10367       116              16  \n",
       "10368        75              11  \n",
       "10369        76              11  \n",
       "10370        77               8  \n",
       "10371        83              13  \n",
       "\n",
       "[8588 rows x 8 columns]"
      ]
     },
     "execution_count": 31,
     "metadata": {},
     "output_type": "execute_result"
    }
   ],
   "source": [
    "X_theonion"
   ]
  },
  {
   "cell_type": "code",
   "execution_count": 32,
   "metadata": {
    "ExecuteTime": {
     "end_time": "2020-08-08T17:02:49.105630Z",
     "start_time": "2020-08-08T17:02:46.745135Z"
    }
   },
   "outputs": [
    {
     "data": {
      "image/png": "[encoded data removed]",
      "text/plain": [
       "<Figure size 576x576 with 4 Axes>"
      ]
     },
     "metadata": {
      "needs_background": "light"
     },
     "output_type": "display_data"
    }
   ],
   "source": [
    "fig, axes = plt.subplots(2,2, figsize=(8,8), sharex=True, sharey=\"row\")\n",
    "axes = axes.ravel()\n",
    "axes[0].hist(X_theonion_orig[\"created_utc\"], bins='auto');\n",
    "axes[1].hist(X_theonion[\"created_utc\"], bins='auto');\n",
    "axes[2].hist(X_nottheonion_orig[\"created_utc\"], bins='auto');\n",
    "axes[3].hist(X_nottheonion[\"created_utc\"], bins='auto');\n",
    "\n",
    "axes[0].set_title('/r/theonion, all posts');\n",
    "axes[1].set_title('/r/theonion, cleaned');\n",
    "axes[2].set_title('/r/nottheonion, all posts');\n",
    "axes[3].set_title('/r/nottheonion, cleaned');"
   ]
  },
  {
   "cell_type": "markdown",
   "metadata": {},
   "source": [
    "#### Final pass"
   ]
  },
  {
   "cell_type": "code",
   "execution_count": 33,
   "metadata": {
    "ExecuteTime": {
     "end_time": "2020-08-08T17:02:49.136694Z",
     "start_time": "2020-08-08T17:02:49.108091Z"
    }
   },
   "outputs": [],
   "source": [
    "X_theonion = X_theonion.loc[:,[\"id\",\"cleantitle\",\"score\",\"created_utc\"]].copy()\n",
    "X_theonion = X_theonion.rename(columns={\"cleantitle\":\"title\"}).copy()\n",
    "X_theonion[\"len\"] = X_theonion[\"title\"].map(lambda x: len(x))\n",
    "X_theonion[\"word_len\"] = X_theonion[\"title\"].map(lambda x: len(x.split(\" \")))"
   ]
  },
  {
   "cell_type": "code",
   "execution_count": 34,
   "metadata": {
    "ExecuteTime": {
     "end_time": "2020-08-08T17:02:49.145469Z",
     "start_time": "2020-08-08T17:02:49.139171Z"
    }
   },
   "outputs": [],
   "source": [
    "X_theonion.set_index(\"id\", inplace=True)"
   ]
  },
  {
   "cell_type": "code",
   "execution_count": 35,
   "metadata": {
    "ExecuteTime": {
     "end_time": "2020-08-08T17:02:49.157050Z",
     "start_time": "2020-08-08T17:02:49.146999Z"
    }
   },
   "outputs": [],
   "source": [
    "X_theonion.drop_duplicates(subset=\"title\", inplace=True)"
   ]
  },
  {
   "cell_type": "code",
   "execution_count": 36,
   "metadata": {
    "ExecuteTime": {
     "end_time": "2020-08-08T17:02:49.172952Z",
     "start_time": "2020-08-08T17:02:49.158964Z"
    }
   },
   "outputs": [
    {
     "data": {
      "text/html": [
       "<div>\n",
       "<style scoped>\n",
       "    .dataframe tbody tr th:only-of-type {\n",
       "        vertical-align: middle;\n",
       "    }\n",
       "\n",
       "    .dataframe tbody tr th {\n",
       "        vertical-align: top;\n",
       "    }\n",
       "\n",
       "    .dataframe thead th {\n",
       "        text-align: right;\n",
       "    }\n",
       "</style>\n",
       "<table border=\"1\" class=\"dataframe\">\n",
       "  <thead>\n",
       "    <tr style=\"text-align: right;\">\n",
       "      <th></th>\n",
       "      <th>title</th>\n",
       "      <th>score</th>\n",
       "      <th>created_utc</th>\n",
       "      <th>len</th>\n",
       "      <th>word_len</th>\n",
       "    </tr>\n",
       "    <tr>\n",
       "      <th>id</th>\n",
       "      <th></th>\n",
       "      <th></th>\n",
       "      <th></th>\n",
       "      <th></th>\n",
       "      <th></th>\n",
       "    </tr>\n",
       "  </thead>\n",
       "  <tbody>\n",
       "  </tbody>\n",
       "</table>\n",
       "</div>"
      ],
      "text/plain": [
       "Empty DataFrame\n",
       "Columns: [title, score, created_utc, len, word_len]\n",
       "Index: []"
      ]
     },
     "metadata": {},
     "output_type": "display_data"
    }
   ],
   "source": [
    "with pd.option_context(\"display.max_colwidth\", -1, \"display.max_rows\", None):\n",
    "    display(X_theonion[X_theonion[\"word_len\"]<3])"
   ]
  },
  {
   "cell_type": "code",
   "execution_count": 37,
   "metadata": {
    "ExecuteTime": {
     "end_time": "2020-08-08T17:02:49.181943Z",
     "start_time": "2020-08-08T17:02:49.175880Z"
    }
   },
   "outputs": [
    {
     "data": {
      "text/plain": [
       "8588"
      ]
     },
     "execution_count": 37,
     "metadata": {},
     "output_type": "execute_result"
    }
   ],
   "source": [
    "len(X_theonion)"
   ]
  },
  {
   "cell_type": "markdown",
   "metadata": {},
   "source": [
    "### `/r/nottheonion`"
   ]
  },
  {
   "cell_type": "markdown",
   "metadata": {},
   "source": [
    "#### Removing bad posts"
   ]
  },
  {
   "cell_type": "code",
   "execution_count": 38,
   "metadata": {
    "ExecuteTime": {
     "end_time": "2020-08-08T17:02:52.341735Z",
     "start_time": "2020-08-08T17:02:49.184672Z"
    }
   },
   "outputs": [],
   "source": [
    "flags = [\n",
    "#     \"is_meta\",\n",
    "#     \"is_original_content\",\n",
    "    \"removal_reason\",\n",
    "    \"removed_by\",\n",
    "    \"removed_by_category\",\n",
    "    \"quarantine\",\n",
    "    \"banned_by\",\n",
    "    \"banned_at_utc\"\n",
    "]\n",
    "nottheonion_filter = [k for k,v in nottheonion.data.items()\n",
    "                   if any([tag in flags for tag in v.keys()])]"
   ]
  },
  {
   "cell_type": "code",
   "execution_count": 39,
   "metadata": {
    "ExecuteTime": {
     "end_time": "2020-08-08T17:02:52.350344Z",
     "start_time": "2020-08-08T17:02:52.344471Z"
    }
   },
   "outputs": [
    {
     "data": {
      "text/plain": [
       "19469"
      ]
     },
     "execution_count": 39,
     "metadata": {},
     "output_type": "execute_result"
    }
   ],
   "source": [
    "len(nottheonion_filter)"
   ]
  },
  {
   "cell_type": "code",
   "execution_count": 40,
   "metadata": {
    "ExecuteTime": {
     "end_time": "2020-08-08T17:02:52.656422Z",
     "start_time": "2020-08-08T17:02:52.352632Z"
    }
   },
   "outputs": [],
   "source": [
    "X_nottheonion_pruned = X_nottheonion[~X_nottheonion[\"id\"].isin(nottheonion_filter)].reset_index().drop(columns=\"index\").copy()"
   ]
  },
  {
   "cell_type": "code",
   "execution_count": 41,
   "metadata": {
    "ExecuteTime": {
     "end_time": "2020-08-08T17:02:52.662207Z",
     "start_time": "2020-08-08T17:02:52.658300Z"
    }
   },
   "outputs": [],
   "source": [
    "# X_nottheonion_pruned = X_nottheonion.set_index(\"id\").loc[nottheonion_filter].copy().drop_duplicates(subset=\"title\")"
   ]
  },
  {
   "cell_type": "code",
   "execution_count": 42,
   "metadata": {
    "ExecuteTime": {
     "end_time": "2020-08-08T17:02:55.058605Z",
     "start_time": "2020-08-08T17:02:52.664159Z"
    }
   },
   "outputs": [
    {
     "data": {
      "image/png": "[encoded data removed]",
      "text/plain": [
       "<Figure size 576x576 with 4 Axes>"
      ]
     },
     "metadata": {
      "needs_background": "light"
     },
     "output_type": "display_data"
    }
   ],
   "source": [
    "fig, axes = plt.subplots(2,2, figsize=(8,8), sharex=True, sharey=\"row\")\n",
    "axes = axes.ravel()\n",
    "axes[0].hist(X_theonion_orig[\"created_utc\"], bins='auto');\n",
    "axes[1].hist(X_theonion[\"created_utc\"], bins='auto');\n",
    "axes[2].hist(X_nottheonion_orig[\"created_utc\"], bins='auto');\n",
    "axes[3].hist(X_nottheonion_pruned[\"created_utc\"], bins='auto');\n",
    "\n",
    "axes[0].set_title('/r/theonion, all posts');\n",
    "axes[1].set_title('/r/theonion, cleaned');\n",
    "axes[2].set_title('/r/nottheonion, all posts');\n",
    "axes[3].set_title('/r/nottheonion, cleaned');"
   ]
  },
  {
   "cell_type": "markdown",
   "metadata": {},
   "source": [
    "#### We were originally only going to subsample posts with high scores, but this biases our results (towards times of higher subreddit activity, for example), so we won't do this anymore. To illustrate:"
   ]
  },
  {
   "cell_type": "code",
   "execution_count": 43,
   "metadata": {
    "ExecuteTime": {
     "end_time": "2020-08-08T17:02:55.116880Z",
     "start_time": "2020-08-08T17:02:55.060992Z"
    }
   },
   "outputs": [
    {
     "data": {
      "text/plain": [
       "422340"
      ]
     },
     "execution_count": 43,
     "metadata": {},
     "output_type": "execute_result"
    }
   ],
   "source": [
    "X_nottheonion_pruned2 = X_nottheonion_pruned[X_nottheonion_pruned[\"score\"]>15].copy()\n",
    "len(X_nottheonion_pruned)"
   ]
  },
  {
   "cell_type": "code",
   "execution_count": 44,
   "metadata": {
    "ExecuteTime": {
     "end_time": "2020-08-08T17:02:57.526230Z",
     "start_time": "2020-08-08T17:02:55.118812Z"
    }
   },
   "outputs": [
    {
     "data": {
      "image/png": "[encoded data removed]",
      "text/plain": [
       "<Figure size 576x576 with 4 Axes>"
      ]
     },
     "metadata": {
      "needs_background": "light"
     },
     "output_type": "display_data"
    }
   ],
   "source": [
    "fig, axes = plt.subplots(2,2, figsize=(8,8), sharex=True, sharey=\"row\")\n",
    "axes = axes.ravel()\n",
    "axes[0].hist(X_theonion_orig[\"created_utc\"], bins='auto');\n",
    "axes[1].hist(X_theonion[\"created_utc\"], bins='auto');\n",
    "axes[2].hist(X_nottheonion_orig[\"created_utc\"], bins='auto');\n",
    "axes[3].hist(X_nottheonion_pruned2[\"created_utc\"], bins='auto');\n",
    "\n",
    "axes[0].set_title('/r/theonion, all posts');\n",
    "axes[1].set_title('/r/theonion, cleaned');\n",
    "axes[2].set_title('/r/nottheonion, all posts');\n",
    "axes[3].set_title('/r/nottheonion, cleaned');"
   ]
  },
  {
   "cell_type": "code",
   "execution_count": 45,
   "metadata": {
    "ExecuteTime": {
     "end_time": "2020-08-08T17:02:57.953358Z",
     "start_time": "2020-08-08T17:02:57.528129Z"
    }
   },
   "outputs": [
    {
     "data": {
      "text/html": [
       "<div>\n",
       "<style scoped>\n",
       "    .dataframe tbody tr th:only-of-type {\n",
       "        vertical-align: middle;\n",
       "    }\n",
       "\n",
       "    .dataframe tbody tr th {\n",
       "        vertical-align: top;\n",
       "    }\n",
       "\n",
       "    .dataframe thead th {\n",
       "        text-align: right;\n",
       "    }\n",
       "</style>\n",
       "<table border=\"1\" class=\"dataframe\">\n",
       "  <thead>\n",
       "    <tr style=\"text-align: right;\">\n",
       "      <th></th>\n",
       "      <th>id</th>\n",
       "      <th>title</th>\n",
       "      <th>score</th>\n",
       "      <th>created_utc</th>\n",
       "      <th>len</th>\n",
       "    </tr>\n",
       "  </thead>\n",
       "  <tbody>\n",
       "    <tr>\n",
       "      <th>1116</th>\n",
       "      <td>wxmxn</td>\n",
       "      <td>Teen high on LSD starts fight with a mailbox\\n</td>\n",
       "      <td>0</td>\n",
       "      <td>1342898032</td>\n",
       "      <td>45</td>\n",
       "    </tr>\n",
       "    <tr>\n",
       "      <th>1240</th>\n",
       "      <td>xbamb</td>\n",
       "      <td>Teen on LSD Arrested for Fighting with a Mailbox (X-post /r/offbeat)</td>\n",
       "      <td>20</td>\n",
       "      <td>1343510413</td>\n",
       "      <td>68</td>\n",
       "    </tr>\n",
       "    <tr>\n",
       "      <th>7360</th>\n",
       "      <td>1878uk</td>\n",
       "      <td>LSD 'helps alcoholics to give up drinking'</td>\n",
       "      <td>17</td>\n",
       "      <td>1360432622</td>\n",
       "      <td>42</td>\n",
       "    </tr>\n",
       "    <tr>\n",
       "      <th>10798</th>\n",
       "      <td>1bnsmo</td>\n",
       "      <td>Tot, 3, ate mother's LSD sugar</td>\n",
       "      <td>13</td>\n",
       "      <td>1365084258</td>\n",
       "      <td>30</td>\n",
       "    </tr>\n",
       "    <tr>\n",
       "      <th>12393</th>\n",
       "      <td>1d5wp5</td>\n",
       "      <td>LSD-tripping Florida man claims to be God and asks police to cut off his penis</td>\n",
       "      <td>18</td>\n",
       "      <td>1366995602</td>\n",
       "      <td>78</td>\n",
       "    </tr>\n",
       "    <tr>\n",
       "      <th>...</th>\n",
       "      <td>...</td>\n",
       "      <td>...</td>\n",
       "      <td>...</td>\n",
       "      <td>...</td>\n",
       "      <td>...</td>\n",
       "    </tr>\n",
       "    <tr>\n",
       "      <th>403918</th>\n",
       "      <td>d8hiu1</td>\n",
       "      <td>Disneyland Paris visitor on bad LSD trip falls into Adventureland lake, turns up naked after 130-person search</td>\n",
       "      <td>6421</td>\n",
       "      <td>1569295219</td>\n",
       "      <td>110</td>\n",
       "    </tr>\n",
       "    <tr>\n",
       "      <th>405313</th>\n",
       "      <td>dc7hs0</td>\n",
       "      <td>Man who took LSD at Disneyland sparks manhunt</td>\n",
       "      <td>2</td>\n",
       "      <td>1570005985</td>\n",
       "      <td>45</td>\n",
       "    </tr>\n",
       "    <tr>\n",
       "      <th>408110</th>\n",
       "      <td>diznyk</td>\n",
       "      <td>TIL that according to Graham Nash, Jimi Hendrix was unbeatable at the game Risk, especially while on LSD.</td>\n",
       "      <td>2</td>\n",
       "      <td>1571277968</td>\n",
       "      <td>105</td>\n",
       "    </tr>\n",
       "    <tr>\n",
       "      <th>412591</th>\n",
       "      <td>du6tn8</td>\n",
       "      <td>Synth repairman accidentally gets high after touching old LSD on a vintage ’60s synthesizer</td>\n",
       "      <td>1</td>\n",
       "      <td>1573359780</td>\n",
       "      <td>91</td>\n",
       "    </tr>\n",
       "    <tr>\n",
       "      <th>421130</th>\n",
       "      <td>eq4lo8</td>\n",
       "      <td>19-Year-Old Arrested After Putting LSD Into Co-Workers’ Drinks To Get Rid of Their ‘Negative Energy’</td>\n",
       "      <td>1</td>\n",
       "      <td>1579287123</td>\n",
       "      <td>100</td>\n",
       "    </tr>\n",
       "  </tbody>\n",
       "</table>\n",
       "<p>201 rows × 5 columns</p>\n",
       "</div>"
      ],
      "text/plain": [
       "            id  \\\n",
       "1116    wxmxn    \n",
       "1240    xbamb    \n",
       "7360    1878uk   \n",
       "10798   1bnsmo   \n",
       "12393   1d5wp5   \n",
       "...        ...   \n",
       "403918  d8hiu1   \n",
       "405313  dc7hs0   \n",
       "408110  diznyk   \n",
       "412591  du6tn8   \n",
       "421130  eq4lo8   \n",
       "\n",
       "                                                                                                                 title  \\\n",
       "1116    Teen high on LSD starts fight with a mailbox\\n                                                                   \n",
       "1240    Teen on LSD Arrested for Fighting with a Mailbox (X-post /r/offbeat)                                             \n",
       "7360    LSD 'helps alcoholics to give up drinking'                                                                       \n",
       "10798   Tot, 3, ate mother's LSD sugar                                                                                   \n",
       "12393   LSD-tripping Florida man claims to be God and asks police to cut off his penis                                   \n",
       "...                                                                                ...                                   \n",
       "403918  Disneyland Paris visitor on bad LSD trip falls into Adventureland lake, turns up naked after 130-person search   \n",
       "405313  Man who took LSD at Disneyland sparks manhunt                                                                    \n",
       "408110  TIL that according to Graham Nash, Jimi Hendrix was unbeatable at the game Risk, especially while on LSD.        \n",
       "412591  Synth repairman accidentally gets high after touching old LSD on a vintage ’60s synthesizer                      \n",
       "421130  19-Year-Old Arrested After Putting LSD Into Co-Workers’ Drinks To Get Rid of Their ‘Negative Energy’             \n",
       "\n",
       "       score created_utc  len  \n",
       "1116    0     1342898032  45   \n",
       "1240    20    1343510413  68   \n",
       "7360    17    1360432622  42   \n",
       "10798   13    1365084258  30   \n",
       "12393   18    1366995602  78   \n",
       "...     ..           ...  ..   \n",
       "403918  6421  1569295219  110  \n",
       "405313  2     1570005985  45   \n",
       "408110  2     1571277968  105  \n",
       "412591  1     1573359780  91   \n",
       "421130  1     1579287123  100  \n",
       "\n",
       "[201 rows x 5 columns]"
      ]
     },
     "metadata": {},
     "output_type": "display_data"
    }
   ],
   "source": [
    "with pd.option_context(\"display.max_colwidth\", -1, \"display.max_rows\", 20):\n",
    "#     display(X_nottheonion_pruned[X_nottheonion_pruned[\"score\"]>15])\n",
    "    display(X_nottheonion_pruned.loc[X_nottheonion_pruned[\"title\"].str.contains(\"LSD\")])"
   ]
  },
  {
   "cell_type": "markdown",
   "metadata": {},
   "source": [
    "#### Preprocessing whitespace\n",
    "Sometimes posts contain non-space whitespace. Let's fix that:"
   ]
  },
  {
   "cell_type": "code",
   "execution_count": 46,
   "metadata": {
    "ExecuteTime": {
     "end_time": "2020-08-08T17:02:58.786500Z",
     "start_time": "2020-08-08T17:02:57.955280Z"
    }
   },
   "outputs": [],
   "source": [
    "X_nottheonion[\"title\"] = X_nottheonion[\"title\"].map(lambda x: \" \".join(x.split()))"
   ]
  },
  {
   "cell_type": "markdown",
   "metadata": {},
   "source": [
    "#### Regex title cleaning.\n",
    "\n",
    "Patterns we want to excise:\n",
    "- [x-post*]\n",
    "- (x-post*)\n",
    "- X-post from\n",
    "- xpost\n",
    "- - video\n",
    "- – video\n",
    "- [video]\n",
    "- (video)\n",
    "- -news source\n",
    "- '\\n'\n",
    "- '\\t'\n",
    "- &amp;\n",
    "- nsfw\n",
    "- |*\n",
    "- -[A-Z]"
   ]
  },
  {
   "cell_type": "code",
   "execution_count": 47,
   "metadata": {
    "ExecuteTime": {
     "end_time": "2020-08-08T17:03:00.180345Z",
     "start_time": "2020-08-08T17:02:58.789419Z"
    }
   },
   "outputs": [],
   "source": [
    "# Remove all xpost headers\n",
    "X_nottheonion_pruned[\"cleantitle\"] = X_nottheonion_pruned[\"title\"].map(lambda x: re.sub('\\(|\\[x*post*\\]|\\)', '', x))"
   ]
  },
  {
   "cell_type": "code",
   "execution_count": 48,
   "metadata": {
    "ExecuteTime": {
     "end_time": "2020-08-08T17:03:00.987596Z",
     "start_time": "2020-08-08T17:03:00.183273Z"
    }
   },
   "outputs": [],
   "source": [
    "# Remove all substrings following a pipe.\n",
    "X_nottheonion_pruned[\"cleantitle\"] = X_nottheonion_pruned[\"cleantitle\"].map(lambda x: re.sub('\\|(.*)', '', x))"
   ]
  },
  {
   "cell_type": "markdown",
   "metadata": {},
   "source": [
    "#### Onionize The Titles"
   ]
  },
  {
   "cell_type": "code",
   "execution_count": 49,
   "metadata": {
    "ExecuteTime": {
     "end_time": "2020-08-08T17:03:09.961004Z",
     "start_time": "2020-08-08T17:03:00.990346Z"
    }
   },
   "outputs": [],
   "source": [
    "# using str.title() turns LSD to Lsd, which is undesirable\n",
    "# Split by single spaces; capitalize the first letter of each word;\n",
    "# join them together on a space \n",
    "X_nottheonion_pruned[\"onionized\"] = X_nottheonion_pruned[\"cleantitle\"].map(\n",
    "lambda x: \" \".join([\"\".join(\n",
    "        [c.upper() if i ==0 else c for i,c in enumerate(word)])\n",
    "    for word in x.split(\" \")]\n",
    "))\n"
   ]
  },
  {
   "cell_type": "code",
   "execution_count": 50,
   "metadata": {
    "ExecuteTime": {
     "end_time": "2020-08-08T17:03:14.065204Z",
     "start_time": "2020-08-08T17:03:09.962947Z"
    }
   },
   "outputs": [],
   "source": [
    "# Do the same thing with hyphens.\n",
    "X_nottheonion_pruned[\"onionized\"] = X_nottheonion_pruned[\"onionized\"].map(\n",
    "lambda x: \"-\".join([\"\".join(\n",
    "        [c.upper() if i ==0 else c for i,c in enumerate(word)])\n",
    "    for word in x.split(\"-\")]\n",
    "))"
   ]
  },
  {
   "cell_type": "code",
   "execution_count": 51,
   "metadata": {
    "ExecuteTime": {
     "end_time": "2020-08-08T17:03:14.552907Z",
     "start_time": "2020-08-08T17:03:14.067328Z"
    }
   },
   "outputs": [
    {
     "data": {
      "text/html": [
       "<div>\n",
       "<style scoped>\n",
       "    .dataframe tbody tr th:only-of-type {\n",
       "        vertical-align: middle;\n",
       "    }\n",
       "\n",
       "    .dataframe tbody tr th {\n",
       "        vertical-align: top;\n",
       "    }\n",
       "\n",
       "    .dataframe thead th {\n",
       "        text-align: right;\n",
       "    }\n",
       "</style>\n",
       "<table border=\"1\" class=\"dataframe\">\n",
       "  <thead>\n",
       "    <tr style=\"text-align: right;\">\n",
       "      <th></th>\n",
       "      <th>id</th>\n",
       "      <th>title</th>\n",
       "      <th>score</th>\n",
       "      <th>created_utc</th>\n",
       "      <th>len</th>\n",
       "      <th>cleantitle</th>\n",
       "      <th>onionized</th>\n",
       "    </tr>\n",
       "  </thead>\n",
       "  <tbody>\n",
       "    <tr>\n",
       "      <th>1116</th>\n",
       "      <td>wxmxn</td>\n",
       "      <td>Teen high on LSD starts fight with a mailbox\\n</td>\n",
       "      <td>0</td>\n",
       "      <td>1342898032</td>\n",
       "      <td>45</td>\n",
       "      <td>Teen high on LSD starts fight with a mailbox\\n</td>\n",
       "      <td>Teen High On LSD Starts Fight With A Mailbox\\n</td>\n",
       "    </tr>\n",
       "    <tr>\n",
       "      <th>1240</th>\n",
       "      <td>xbamb</td>\n",
       "      <td>Teen on LSD Arrested for Fighting with a Mailbox (X-post /r/offbeat)</td>\n",
       "      <td>20</td>\n",
       "      <td>1343510413</td>\n",
       "      <td>68</td>\n",
       "      <td>Teen on LSD Arrested for Fighting with a Mailbox X-post /r/offbeat</td>\n",
       "      <td>Teen On LSD Arrested For Fighting With A Mailbox X-Post /r/offbeat</td>\n",
       "    </tr>\n",
       "    <tr>\n",
       "      <th>7360</th>\n",
       "      <td>1878uk</td>\n",
       "      <td>LSD 'helps alcoholics to give up drinking'</td>\n",
       "      <td>17</td>\n",
       "      <td>1360432622</td>\n",
       "      <td>42</td>\n",
       "      <td>LSD 'helps alcoholics to give up drinking'</td>\n",
       "      <td>LSD 'helps Alcoholics To Give Up Drinking'</td>\n",
       "    </tr>\n",
       "    <tr>\n",
       "      <th>10798</th>\n",
       "      <td>1bnsmo</td>\n",
       "      <td>Tot, 3, ate mother's LSD sugar</td>\n",
       "      <td>13</td>\n",
       "      <td>1365084258</td>\n",
       "      <td>30</td>\n",
       "      <td>Tot, 3, ate mother's LSD sugar</td>\n",
       "      <td>Tot, 3, Ate Mother's LSD Sugar</td>\n",
       "    </tr>\n",
       "    <tr>\n",
       "      <th>12393</th>\n",
       "      <td>1d5wp5</td>\n",
       "      <td>LSD-tripping Florida man claims to be God and asks police to cut off his penis</td>\n",
       "      <td>18</td>\n",
       "      <td>1366995602</td>\n",
       "      <td>78</td>\n",
       "      <td>LSD-tripping Florida man claims to be God and asks police to cut off his penis</td>\n",
       "      <td>LSD-Tripping Florida Man Claims To Be God And Asks Police To Cut Off His Penis</td>\n",
       "    </tr>\n",
       "    <tr>\n",
       "      <th>...</th>\n",
       "      <td>...</td>\n",
       "      <td>...</td>\n",
       "      <td>...</td>\n",
       "      <td>...</td>\n",
       "      <td>...</td>\n",
       "      <td>...</td>\n",
       "      <td>...</td>\n",
       "    </tr>\n",
       "    <tr>\n",
       "      <th>403918</th>\n",
       "      <td>d8hiu1</td>\n",
       "      <td>Disneyland Paris visitor on bad LSD trip falls into Adventureland lake, turns up naked after 130-person search</td>\n",
       "      <td>6421</td>\n",
       "      <td>1569295219</td>\n",
       "      <td>110</td>\n",
       "      <td>Disneyland Paris visitor on bad LSD trip falls into Adventureland lake, turns up naked after 130-person search</td>\n",
       "      <td>Disneyland Paris Visitor On Bad LSD Trip Falls Into Adventureland Lake, Turns Up Naked After 130-Person Search</td>\n",
       "    </tr>\n",
       "    <tr>\n",
       "      <th>405313</th>\n",
       "      <td>dc7hs0</td>\n",
       "      <td>Man who took LSD at Disneyland sparks manhunt</td>\n",
       "      <td>2</td>\n",
       "      <td>1570005985</td>\n",
       "      <td>45</td>\n",
       "      <td>Man who took LSD at Disneyland sparks manhunt</td>\n",
       "      <td>Man Who Took LSD At Disneyland Sparks Manhunt</td>\n",
       "    </tr>\n",
       "    <tr>\n",
       "      <th>408110</th>\n",
       "      <td>diznyk</td>\n",
       "      <td>TIL that according to Graham Nash, Jimi Hendrix was unbeatable at the game Risk, especially while on LSD.</td>\n",
       "      <td>2</td>\n",
       "      <td>1571277968</td>\n",
       "      <td>105</td>\n",
       "      <td>TIL that according to Graham Nash, Jimi Hendrix was unbeatable at the game Risk, especially while on LSD.</td>\n",
       "      <td>TIL That According To Graham Nash, Jimi Hendrix Was Unbeatable At The Game Risk, Especially While On LSD.</td>\n",
       "    </tr>\n",
       "    <tr>\n",
       "      <th>412591</th>\n",
       "      <td>du6tn8</td>\n",
       "      <td>Synth repairman accidentally gets high after touching old LSD on a vintage ’60s synthesizer</td>\n",
       "      <td>1</td>\n",
       "      <td>1573359780</td>\n",
       "      <td>91</td>\n",
       "      <td>Synth repairman accidentally gets high after touching old LSD on a vintage ’60s synthesizer</td>\n",
       "      <td>Synth Repairman Accidentally Gets High After Touching Old LSD On A Vintage ’60s Synthesizer</td>\n",
       "    </tr>\n",
       "    <tr>\n",
       "      <th>421130</th>\n",
       "      <td>eq4lo8</td>\n",
       "      <td>19-Year-Old Arrested After Putting LSD Into Co-Workers’ Drinks To Get Rid of Their ‘Negative Energy’</td>\n",
       "      <td>1</td>\n",
       "      <td>1579287123</td>\n",
       "      <td>100</td>\n",
       "      <td>19-Year-Old Arrested After Putting LSD Into Co-Workers’ Drinks To Get Rid of Their ‘Negative Energy’</td>\n",
       "      <td>19-Year-Old Arrested After Putting LSD Into Co-Workers’ Drinks To Get Rid Of Their ‘Negative Energy’</td>\n",
       "    </tr>\n",
       "  </tbody>\n",
       "</table>\n",
       "<p>201 rows × 7 columns</p>\n",
       "</div>"
      ],
      "text/plain": [
       "            id  \\\n",
       "1116    wxmxn    \n",
       "1240    xbamb    \n",
       "7360    1878uk   \n",
       "10798   1bnsmo   \n",
       "12393   1d5wp5   \n",
       "...        ...   \n",
       "403918  d8hiu1   \n",
       "405313  dc7hs0   \n",
       "408110  diznyk   \n",
       "412591  du6tn8   \n",
       "421130  eq4lo8   \n",
       "\n",
       "                                                                                                                 title  \\\n",
       "1116    Teen high on LSD starts fight with a mailbox\\n                                                                   \n",
       "1240    Teen on LSD Arrested for Fighting with a Mailbox (X-post /r/offbeat)                                             \n",
       "7360    LSD 'helps alcoholics to give up drinking'                                                                       \n",
       "10798   Tot, 3, ate mother's LSD sugar                                                                                   \n",
       "12393   LSD-tripping Florida man claims to be God and asks police to cut off his penis                                   \n",
       "...                                                                                ...                                   \n",
       "403918  Disneyland Paris visitor on bad LSD trip falls into Adventureland lake, turns up naked after 130-person search   \n",
       "405313  Man who took LSD at Disneyland sparks manhunt                                                                    \n",
       "408110  TIL that according to Graham Nash, Jimi Hendrix was unbeatable at the game Risk, especially while on LSD.        \n",
       "412591  Synth repairman accidentally gets high after touching old LSD on a vintage ’60s synthesizer                      \n",
       "421130  19-Year-Old Arrested After Putting LSD Into Co-Workers’ Drinks To Get Rid of Their ‘Negative Energy’             \n",
       "\n",
       "       score created_utc  len  \\\n",
       "1116    0     1342898032  45    \n",
       "1240    20    1343510413  68    \n",
       "7360    17    1360432622  42    \n",
       "10798   13    1365084258  30    \n",
       "12393   18    1366995602  78    \n",
       "...     ..           ...  ..    \n",
       "403918  6421  1569295219  110   \n",
       "405313  2     1570005985  45    \n",
       "408110  2     1571277968  105   \n",
       "412591  1     1573359780  91    \n",
       "421130  1     1579287123  100   \n",
       "\n",
       "                                                                                                            cleantitle  \\\n",
       "1116    Teen high on LSD starts fight with a mailbox\\n                                                                   \n",
       "1240    Teen on LSD Arrested for Fighting with a Mailbox X-post /r/offbeat                                               \n",
       "7360    LSD 'helps alcoholics to give up drinking'                                                                       \n",
       "10798   Tot, 3, ate mother's LSD sugar                                                                                   \n",
       "12393   LSD-tripping Florida man claims to be God and asks police to cut off his penis                                   \n",
       "...                                                                                ...                                   \n",
       "403918  Disneyland Paris visitor on bad LSD trip falls into Adventureland lake, turns up naked after 130-person search   \n",
       "405313  Man who took LSD at Disneyland sparks manhunt                                                                    \n",
       "408110  TIL that according to Graham Nash, Jimi Hendrix was unbeatable at the game Risk, especially while on LSD.        \n",
       "412591  Synth repairman accidentally gets high after touching old LSD on a vintage ’60s synthesizer                      \n",
       "421130  19-Year-Old Arrested After Putting LSD Into Co-Workers’ Drinks To Get Rid of Their ‘Negative Energy’             \n",
       "\n",
       "                                                                                                             onionized  \n",
       "1116    Teen High On LSD Starts Fight With A Mailbox\\n                                                                  \n",
       "1240    Teen On LSD Arrested For Fighting With A Mailbox X-Post /r/offbeat                                              \n",
       "7360    LSD 'helps Alcoholics To Give Up Drinking'                                                                      \n",
       "10798   Tot, 3, Ate Mother's LSD Sugar                                                                                  \n",
       "12393   LSD-Tripping Florida Man Claims To Be God And Asks Police To Cut Off His Penis                                  \n",
       "...                                                                                ...                                  \n",
       "403918  Disneyland Paris Visitor On Bad LSD Trip Falls Into Adventureland Lake, Turns Up Naked After 130-Person Search  \n",
       "405313  Man Who Took LSD At Disneyland Sparks Manhunt                                                                   \n",
       "408110  TIL That According To Graham Nash, Jimi Hendrix Was Unbeatable At The Game Risk, Especially While On LSD.       \n",
       "412591  Synth Repairman Accidentally Gets High After Touching Old LSD On A Vintage ’60s Synthesizer                     \n",
       "421130  19-Year-Old Arrested After Putting LSD Into Co-Workers’ Drinks To Get Rid Of Their ‘Negative Energy’            \n",
       "\n",
       "[201 rows x 7 columns]"
      ]
     },
     "metadata": {},
     "output_type": "display_data"
    }
   ],
   "source": [
    "with pd.option_context(\"display.max_colwidth\", -1, \"display.max_rows\", 20):\n",
    "    display(X_nottheonion_pruned.loc[X_nottheonion_pruned[\"title\"].str.contains(\"LSD\")])"
   ]
  },
  {
   "cell_type": "code",
   "execution_count": 52,
   "metadata": {
    "ExecuteTime": {
     "end_time": "2020-08-08T17:03:14.745637Z",
     "start_time": "2020-08-08T17:03:14.554858Z"
    }
   },
   "outputs": [],
   "source": [
    "# X_nottheonion = \n",
    "# X_nottheonion_pruned.loc[:, [\"onionized\", \"score\"]]\n",
    "X_nottheonion = X_nottheonion_pruned.drop(columns=[\"title\", \"cleantitle\", \"len\"]).rename(columns={\"onionized\": \"title\"}).copy()"
   ]
  },
  {
   "cell_type": "code",
   "execution_count": 53,
   "metadata": {
    "ExecuteTime": {
     "end_time": "2020-08-08T17:03:15.652274Z",
     "start_time": "2020-08-08T17:03:14.747792Z"
    }
   },
   "outputs": [],
   "source": [
    "X_nottheonion = X_nottheonion.loc[:,[\"title\", \"score\", \"created_utc\"]].copy()\n",
    "X_nottheonion[\"len\"] = X_nottheonion[\"title\"].map(lambda x: len(x))\n",
    "X_nottheonion[\"word_len\"] = X_nottheonion[\"title\"].map(lambda x: len(x.split(\" \")))"
   ]
  },
  {
   "cell_type": "code",
   "execution_count": 54,
   "metadata": {
    "ExecuteTime": {
     "end_time": "2020-08-08T17:03:15.742580Z",
     "start_time": "2020-08-08T17:03:15.653219Z"
    }
   },
   "outputs": [],
   "source": [
    "X_nottheonion = X_nottheonion[X_nottheonion[\"word_len\"]>=3].copy()"
   ]
  },
  {
   "cell_type": "code",
   "execution_count": 55,
   "metadata": {
    "ExecuteTime": {
     "end_time": "2020-08-08T17:03:18.508415Z",
     "start_time": "2020-08-08T17:03:15.744426Z"
    }
   },
   "outputs": [
    {
     "data": {
      "image/png": "[encoded data removed]",
      "text/plain": [
       "<Figure size 576x576 with 4 Axes>"
      ]
     },
     "metadata": {
      "needs_background": "light"
     },
     "output_type": "display_data"
    }
   ],
   "source": [
    "fig, axes = plt.subplots(2,2, figsize=(8,8), sharex=True, sharey=\"row\")\n",
    "axes = axes.ravel()\n",
    "axes[0].hist(X_theonion_orig[\"created_utc\"], bins='auto');\n",
    "axes[1].hist(X_theonion[\"created_utc\"], bins='auto');\n",
    "axes[2].hist(X_nottheonion_orig[\"created_utc\"], bins='auto');\n",
    "axes[3].hist(X_nottheonion[\"created_utc\"], bins='auto');\n",
    "\n",
    "axes[0].set_title('/r/theonion, all posts');\n",
    "axes[1].set_title('/r/theonion, cleaned');\n",
    "axes[2].set_title('/r/nottheonion, all posts');\n",
    "axes[3].set_title('/r/nottheonion, cleaned');"
   ]
  },
  {
   "cell_type": "code",
   "execution_count": 56,
   "metadata": {
    "ExecuteTime": {
     "end_time": "2020-08-08T17:03:18.532257Z",
     "start_time": "2020-08-08T17:03:18.512267Z"
    }
   },
   "outputs": [
    {
     "data": {
      "text/html": [
       "<div>\n",
       "<style scoped>\n",
       "    .dataframe tbody tr th:only-of-type {\n",
       "        vertical-align: middle;\n",
       "    }\n",
       "\n",
       "    .dataframe tbody tr th {\n",
       "        vertical-align: top;\n",
       "    }\n",
       "\n",
       "    .dataframe thead th {\n",
       "        text-align: right;\n",
       "    }\n",
       "</style>\n",
       "<table border=\"1\" class=\"dataframe\">\n",
       "  <thead>\n",
       "    <tr style=\"text-align: right;\">\n",
       "      <th></th>\n",
       "      <th>title</th>\n",
       "      <th>score</th>\n",
       "      <th>created_utc</th>\n",
       "      <th>len</th>\n",
       "      <th>word_len</th>\n",
       "    </tr>\n",
       "  </thead>\n",
       "  <tbody>\n",
       "    <tr>\n",
       "      <th>0</th>\n",
       "      <td>White Supremacists For Obama True!</td>\n",
       "      <td>9</td>\n",
       "      <td>1225757362</td>\n",
       "      <td>34</td>\n",
       "      <td>5</td>\n",
       "    </tr>\n",
       "    <tr>\n",
       "      <th>1</th>\n",
       "      <td>How The Hair In My Drain Is Like The Curve Of ...</td>\n",
       "      <td>1</td>\n",
       "      <td>1249259207</td>\n",
       "      <td>73</td>\n",
       "      <td>14</td>\n",
       "    </tr>\n",
       "    <tr>\n",
       "      <th>3</th>\n",
       "      <td>Caldwell May Pull Manning In The 2nd Half, Nee...</td>\n",
       "      <td>1</td>\n",
       "      <td>1265573050</td>\n",
       "      <td>98</td>\n",
       "      <td>19</td>\n",
       "    </tr>\n",
       "    <tr>\n",
       "      <th>4</th>\n",
       "      <td>Dr Dre To Release Instrumental Hip-Hop Album A...</td>\n",
       "      <td>3</td>\n",
       "      <td>1280960689</td>\n",
       "      <td>67</td>\n",
       "      <td>11</td>\n",
       "    </tr>\n",
       "    <tr>\n",
       "      <th>5</th>\n",
       "      <td>Religious Search Engines Yield Tailored Result...</td>\n",
       "      <td>5</td>\n",
       "      <td>1284411997</td>\n",
       "      <td>53</td>\n",
       "      <td>8</td>\n",
       "    </tr>\n",
       "    <tr>\n",
       "      <th>...</th>\n",
       "      <td>...</td>\n",
       "      <td>...</td>\n",
       "      <td>...</td>\n",
       "      <td>...</td>\n",
       "      <td>...</td>\n",
       "    </tr>\n",
       "    <tr>\n",
       "      <th>422335</th>\n",
       "      <td>Arizona Man Dresses Up Fake Skeleton To Drive ...</td>\n",
       "      <td>1</td>\n",
       "      <td>1579981771</td>\n",
       "      <td>57</td>\n",
       "      <td>11</td>\n",
       "    </tr>\n",
       "    <tr>\n",
       "      <th>422336</th>\n",
       "      <td>TikTok Teens Are Dipping Their Balls In Soy Sa...</td>\n",
       "      <td>1</td>\n",
       "      <td>1579981998</td>\n",
       "      <td>83</td>\n",
       "      <td>15</td>\n",
       "    </tr>\n",
       "    <tr>\n",
       "      <th>422337</th>\n",
       "      <td>Virginia Man Sues Local Paper, Reporter For Ac...</td>\n",
       "      <td>1</td>\n",
       "      <td>1579982317</td>\n",
       "      <td>98</td>\n",
       "      <td>13</td>\n",
       "    </tr>\n",
       "    <tr>\n",
       "      <th>422338</th>\n",
       "      <td>Saudi Millionaire Who Said He 'accidentally Tr...</td>\n",
       "      <td>1</td>\n",
       "      <td>1579983165</td>\n",
       "      <td>96</td>\n",
       "      <td>14</td>\n",
       "    </tr>\n",
       "    <tr>\n",
       "      <th>422339</th>\n",
       "      <td>Police: Man High On ‘shrooms’ ‘pistol-Whipped’...</td>\n",
       "      <td>1</td>\n",
       "      <td>1579983381</td>\n",
       "      <td>95</td>\n",
       "      <td>14</td>\n",
       "    </tr>\n",
       "  </tbody>\n",
       "</table>\n",
       "<p>419204 rows × 5 columns</p>\n",
       "</div>"
      ],
      "text/plain": [
       "                                                    title score created_utc  \\\n",
       "0                      White Supremacists For Obama True!     9  1225757362   \n",
       "1       How The Hair In My Drain Is Like The Curve Of ...     1  1249259207   \n",
       "3       Caldwell May Pull Manning In The 2nd Half, Nee...     1  1265573050   \n",
       "4       Dr Dre To Release Instrumental Hip-Hop Album A...     3  1280960689   \n",
       "5       Religious Search Engines Yield Tailored Result...     5  1284411997   \n",
       "...                                                   ...   ...         ...   \n",
       "422335  Arizona Man Dresses Up Fake Skeleton To Drive ...     1  1579981771   \n",
       "422336  TikTok Teens Are Dipping Their Balls In Soy Sa...     1  1579981998   \n",
       "422337  Virginia Man Sues Local Paper, Reporter For Ac...     1  1579982317   \n",
       "422338  Saudi Millionaire Who Said He 'accidentally Tr...     1  1579983165   \n",
       "422339  Police: Man High On ‘shrooms’ ‘pistol-Whipped’...     1  1579983381   \n",
       "\n",
       "        len  word_len  \n",
       "0        34         5  \n",
       "1        73        14  \n",
       "3        98        19  \n",
       "4        67        11  \n",
       "5        53         8  \n",
       "...     ...       ...  \n",
       "422335   57        11  \n",
       "422336   83        15  \n",
       "422337   98        13  \n",
       "422338   96        14  \n",
       "422339   95        14  \n",
       "\n",
       "[419204 rows x 5 columns]"
      ]
     },
     "execution_count": 56,
     "metadata": {},
     "output_type": "execute_result"
    }
   ],
   "source": [
    "X_nottheonion"
   ]
  },
  {
   "cell_type": "code",
   "execution_count": 57,
   "metadata": {
    "ExecuteTime": {
     "end_time": "2020-08-08T17:03:18.561889Z",
     "start_time": "2020-08-08T17:03:18.534173Z"
    }
   },
   "outputs": [
    {
     "data": {
      "text/plain": [
       "419204"
      ]
     },
     "execution_count": 57,
     "metadata": {},
     "output_type": "execute_result"
    }
   ],
   "source": [
    "len(X_nottheonion)"
   ]
  },
  {
   "cell_type": "markdown",
   "metadata": {},
   "source": [
    "### `/r/onionheadlines`\n",
    "We will defer attempts to classify onionheadlines to a future date."
   ]
  },
  {
   "cell_type": "markdown",
   "metadata": {},
   "source": [
    "## Data inspection / feature engineering"
   ]
  },
  {
   "cell_type": "markdown",
   "metadata": {},
   "source": [
    "### Post length (words/characters)"
   ]
  },
  {
   "cell_type": "code",
   "execution_count": 58,
   "metadata": {
    "ExecuteTime": {
     "end_time": "2020-08-08T17:03:18.569696Z",
     "start_time": "2020-08-08T17:03:18.564830Z"
    }
   },
   "outputs": [],
   "source": [
    "dflist = [X_theonion, X_nottheonion]"
   ]
  },
  {
   "cell_type": "code",
   "execution_count": 59,
   "metadata": {
    "ExecuteTime": {
     "end_time": "2020-08-08T17:03:18.599199Z",
     "start_time": "2020-08-08T17:03:18.572624Z"
    }
   },
   "outputs": [
    {
     "data": {
      "text/html": [
       "<div>\n",
       "<style scoped>\n",
       "    .dataframe tbody tr th:only-of-type {\n",
       "        vertical-align: middle;\n",
       "    }\n",
       "\n",
       "    .dataframe tbody tr th {\n",
       "        vertical-align: top;\n",
       "    }\n",
       "\n",
       "    .dataframe thead th {\n",
       "        text-align: right;\n",
       "    }\n",
       "</style>\n",
       "<table border=\"1\" class=\"dataframe\">\n",
       "  <thead>\n",
       "    <tr style=\"text-align: right;\">\n",
       "      <th></th>\n",
       "      <th>len</th>\n",
       "      <th>word_len</th>\n",
       "    </tr>\n",
       "  </thead>\n",
       "  <tbody>\n",
       "    <tr>\n",
       "      <th>count</th>\n",
       "      <td>8588.000000</td>\n",
       "      <td>8588.000000</td>\n",
       "    </tr>\n",
       "    <tr>\n",
       "      <th>mean</th>\n",
       "      <td>71.032837</td>\n",
       "      <td>11.401723</td>\n",
       "    </tr>\n",
       "    <tr>\n",
       "      <th>std</th>\n",
       "      <td>24.524116</td>\n",
       "      <td>3.958885</td>\n",
       "    </tr>\n",
       "    <tr>\n",
       "      <th>min</th>\n",
       "      <td>15.000000</td>\n",
       "      <td>4.000000</td>\n",
       "    </tr>\n",
       "    <tr>\n",
       "      <th>25%</th>\n",
       "      <td>53.000000</td>\n",
       "      <td>8.000000</td>\n",
       "    </tr>\n",
       "    <tr>\n",
       "      <th>50%</th>\n",
       "      <td>71.000000</td>\n",
       "      <td>11.000000</td>\n",
       "    </tr>\n",
       "    <tr>\n",
       "      <th>75%</th>\n",
       "      <td>88.000000</td>\n",
       "      <td>14.000000</td>\n",
       "    </tr>\n",
       "    <tr>\n",
       "      <th>max</th>\n",
       "      <td>243.000000</td>\n",
       "      <td>37.000000</td>\n",
       "    </tr>\n",
       "  </tbody>\n",
       "</table>\n",
       "</div>"
      ],
      "text/plain": [
       "               len     word_len\n",
       "count  8588.000000  8588.000000\n",
       "mean     71.032837    11.401723\n",
       "std      24.524116     3.958885\n",
       "min      15.000000     4.000000\n",
       "25%      53.000000     8.000000\n",
       "50%      71.000000    11.000000\n",
       "75%      88.000000    14.000000\n",
       "max     243.000000    37.000000"
      ]
     },
     "execution_count": 59,
     "metadata": {},
     "output_type": "execute_result"
    }
   ],
   "source": [
    "X_theonion.loc[:, [\"len\", \"word_len\"]].describe()"
   ]
  },
  {
   "cell_type": "code",
   "execution_count": 60,
   "metadata": {
    "ExecuteTime": {
     "end_time": "2020-08-08T17:03:18.673151Z",
     "start_time": "2020-08-08T17:03:18.601150Z"
    }
   },
   "outputs": [
    {
     "data": {
      "text/html": [
       "<div>\n",
       "<style scoped>\n",
       "    .dataframe tbody tr th:only-of-type {\n",
       "        vertical-align: middle;\n",
       "    }\n",
       "\n",
       "    .dataframe tbody tr th {\n",
       "        vertical-align: top;\n",
       "    }\n",
       "\n",
       "    .dataframe thead th {\n",
       "        text-align: right;\n",
       "    }\n",
       "</style>\n",
       "<table border=\"1\" class=\"dataframe\">\n",
       "  <thead>\n",
       "    <tr style=\"text-align: right;\">\n",
       "      <th></th>\n",
       "      <th>len</th>\n",
       "      <th>word_len</th>\n",
       "    </tr>\n",
       "  </thead>\n",
       "  <tbody>\n",
       "    <tr>\n",
       "      <th>count</th>\n",
       "      <td>419204.000000</td>\n",
       "      <td>419204.000000</td>\n",
       "    </tr>\n",
       "    <tr>\n",
       "      <th>mean</th>\n",
       "      <td>69.292657</td>\n",
       "      <td>11.326001</td>\n",
       "    </tr>\n",
       "    <tr>\n",
       "      <th>std</th>\n",
       "      <td>24.786400</td>\n",
       "      <td>4.217066</td>\n",
       "    </tr>\n",
       "    <tr>\n",
       "      <th>min</th>\n",
       "      <td>5.000000</td>\n",
       "      <td>3.000000</td>\n",
       "    </tr>\n",
       "    <tr>\n",
       "      <th>25%</th>\n",
       "      <td>54.000000</td>\n",
       "      <td>9.000000</td>\n",
       "    </tr>\n",
       "    <tr>\n",
       "      <th>50%</th>\n",
       "      <td>66.000000</td>\n",
       "      <td>11.000000</td>\n",
       "    </tr>\n",
       "    <tr>\n",
       "      <th>75%</th>\n",
       "      <td>80.000000</td>\n",
       "      <td>13.000000</td>\n",
       "    </tr>\n",
       "    <tr>\n",
       "      <th>max</th>\n",
       "      <td>305.000000</td>\n",
       "      <td>63.000000</td>\n",
       "    </tr>\n",
       "  </tbody>\n",
       "</table>\n",
       "</div>"
      ],
      "text/plain": [
       "                 len       word_len\n",
       "count  419204.000000  419204.000000\n",
       "mean       69.292657      11.326001\n",
       "std        24.786400       4.217066\n",
       "min         5.000000       3.000000\n",
       "25%        54.000000       9.000000\n",
       "50%        66.000000      11.000000\n",
       "75%        80.000000      13.000000\n",
       "max       305.000000      63.000000"
      ]
     },
     "execution_count": 60,
     "metadata": {},
     "output_type": "execute_result"
    }
   ],
   "source": [
    "X_nottheonion.loc[:, [\"len\", \"word_len\"]].describe()"
   ]
  },
  {
   "cell_type": "markdown",
   "metadata": {},
   "source": [
    "Checking out the really long titles:"
   ]
  },
  {
   "cell_type": "code",
   "execution_count": 61,
   "metadata": {
    "ExecuteTime": {
     "end_time": "2020-08-08T17:03:18.697881Z",
     "start_time": "2020-08-08T17:03:18.675657Z"
    },
    "scrolled": true
   },
   "outputs": [
    {
     "data": {
      "text/html": [
       "<div>\n",
       "<style scoped>\n",
       "    .dataframe tbody tr th:only-of-type {\n",
       "        vertical-align: middle;\n",
       "    }\n",
       "\n",
       "    .dataframe tbody tr th {\n",
       "        vertical-align: top;\n",
       "    }\n",
       "\n",
       "    .dataframe thead th {\n",
       "        text-align: right;\n",
       "    }\n",
       "</style>\n",
       "<table border=\"1\" class=\"dataframe\">\n",
       "  <thead>\n",
       "    <tr style=\"text-align: right;\">\n",
       "      <th></th>\n",
       "      <th>title</th>\n",
       "      <th>score</th>\n",
       "      <th>created_utc</th>\n",
       "      <th>len</th>\n",
       "      <th>word_len</th>\n",
       "    </tr>\n",
       "    <tr>\n",
       "      <th>id</th>\n",
       "      <th></th>\n",
       "      <th></th>\n",
       "      <th></th>\n",
       "      <th></th>\n",
       "      <th></th>\n",
       "    </tr>\n",
       "  </thead>\n",
       "  <tbody>\n",
       "    <tr>\n",
       "      <th>24hlnt</th>\n",
       "      <td>George W. Bush Chuckles To Self Upon Thinking About How He Was President Of The United States For Almost A Decade</td>\n",
       "      <td>3</td>\n",
       "      <td>1398978992</td>\n",
       "      <td>113</td>\n",
       "      <td>21</td>\n",
       "    </tr>\n",
       "    <tr>\n",
       "      <th>2hcutn</th>\n",
       "      <td>Man Just Going To Grab Guitar And Old Four-Track, Go Out To Cabin In Woods, Make Shittiest Album Anyones Ever Heard</td>\n",
       "      <td>73</td>\n",
       "      <td>1411585615</td>\n",
       "      <td>115</td>\n",
       "      <td>21</td>\n",
       "    </tr>\n",
       "    <tr>\n",
       "      <th>2jan73</th>\n",
       "      <td>There Were Just 2 Ways Out Of My Neighborhood: Basketball Or Anything Else You Wanted To Do With Your Life</td>\n",
       "      <td>29</td>\n",
       "      <td>1413353675</td>\n",
       "      <td>107</td>\n",
       "      <td>21</td>\n",
       "    </tr>\n",
       "    <tr>\n",
       "      <th>2wobgh</th>\n",
       "      <td>Report: Majority Of Mothers Would Drop Kids Off At Warehouse Called Fun Zone For Hour Of Free Time, No Questions Asked</td>\n",
       "      <td>23</td>\n",
       "      <td>1424542203</td>\n",
       "      <td>118</td>\n",
       "      <td>21</td>\n",
       "    </tr>\n",
       "    <tr>\n",
       "      <th>3dla9r</th>\n",
       "      <td>Well, Folks, It Appears Some Shithead Down There Is Shining A Laser Pointer Into The Cockpit And Were About To Crash</td>\n",
       "      <td>76</td>\n",
       "      <td>1437108252</td>\n",
       "      <td>116</td>\n",
       "      <td>21</td>\n",
       "    </tr>\n",
       "    <tr>\n",
       "      <th>...</th>\n",
       "      <td>...</td>\n",
       "      <td>...</td>\n",
       "      <td>...</td>\n",
       "      <td>...</td>\n",
       "      <td>...</td>\n",
       "    </tr>\n",
       "    <tr>\n",
       "      <th>ea63fa</th>\n",
       "      <td>Well Spoken, My Good Fellow, But Let Me Retort, Says Congressman Engaged In Probing, High-Minded Debate On Facts And Merits Of Impeachment</td>\n",
       "      <td>1</td>\n",
       "      <td>1576254198</td>\n",
       "      <td>138</td>\n",
       "      <td>22</td>\n",
       "    </tr>\n",
       "    <tr>\n",
       "      <th>ebl5lh</th>\n",
       "      <td>And Then Those 12 People Send It To 12 People—Thats 144 People!” Says Cory Booker Describing Campaign Newsletter Strategy To Rosario Dawson</td>\n",
       "      <td>1</td>\n",
       "      <td>1576530259</td>\n",
       "      <td>139</td>\n",
       "      <td>22</td>\n",
       "    </tr>\n",
       "    <tr>\n",
       "      <th>eio2qk</th>\n",
       "      <td>So People Could Be Listening To This Conversation Right Now? Asks Joe Rogan Trying To Understand Edward Snowdens Explanation Of Surveillance</td>\n",
       "      <td>1</td>\n",
       "      <td>1577914075</td>\n",
       "      <td>140</td>\n",
       "      <td>21</td>\n",
       "    </tr>\n",
       "    <tr>\n",
       "      <th>eotqoq</th>\n",
       "      <td>Sanders Campaign Doubles Down With New Ad Warning Americans Theyll Never Be Able To Hear A Female President Over The Sound Of Her Vacuum</td>\n",
       "      <td>1</td>\n",
       "      <td>1579045272</td>\n",
       "      <td>136</td>\n",
       "      <td>24</td>\n",
       "    </tr>\n",
       "    <tr>\n",
       "      <th>eryqtq</th>\n",
       "      <td>Deal Alert: This 4-Year-Old Wandered Really Far From The Playground, Your Cars Right There, And Her Parents Would Definitely Cough Up Enough For A Marvel 3-In-1 Arcade Machine To Get Her Back</td>\n",
       "      <td>1</td>\n",
       "      <td>1579631184</td>\n",
       "      <td>191</td>\n",
       "      <td>32</td>\n",
       "    </tr>\n",
       "  </tbody>\n",
       "</table>\n",
       "<p>129 rows × 5 columns</p>\n",
       "</div>"
      ],
      "text/plain": [
       "                                                                                                                                                                                                  title  \\\n",
       "id                                                                                                                                                                                                        \n",
       "24hlnt  George W. Bush Chuckles To Self Upon Thinking About How He Was President Of The United States For Almost A Decade                                                                                 \n",
       "2hcutn  Man Just Going To Grab Guitar And Old Four-Track, Go Out To Cabin In Woods, Make Shittiest Album Anyones Ever Heard                                                                               \n",
       "2jan73  There Were Just 2 Ways Out Of My Neighborhood: Basketball Or Anything Else You Wanted To Do With Your Life                                                                                        \n",
       "2wobgh  Report: Majority Of Mothers Would Drop Kids Off At Warehouse Called Fun Zone For Hour Of Free Time, No Questions Asked                                                                            \n",
       "3dla9r  Well, Folks, It Appears Some Shithead Down There Is Shining A Laser Pointer Into The Cockpit And Were About To Crash                                                                              \n",
       "...                                                                                                                        ...                                                                            \n",
       "ea63fa  Well Spoken, My Good Fellow, But Let Me Retort, Says Congressman Engaged In Probing, High-Minded Debate On Facts And Merits Of Impeachment                                                        \n",
       "ebl5lh  And Then Those 12 People Send It To 12 People—Thats 144 People!” Says Cory Booker Describing Campaign Newsletter Strategy To Rosario Dawson                                                       \n",
       "eio2qk  So People Could Be Listening To This Conversation Right Now? Asks Joe Rogan Trying To Understand Edward Snowdens Explanation Of Surveillance                                                      \n",
       "eotqoq  Sanders Campaign Doubles Down With New Ad Warning Americans Theyll Never Be Able To Hear A Female President Over The Sound Of Her Vacuum                                                          \n",
       "eryqtq  Deal Alert: This 4-Year-Old Wandered Really Far From The Playground, Your Cars Right There, And Her Parents Would Definitely Cough Up Enough For A Marvel 3-In-1 Arcade Machine To Get Her Back   \n",
       "\n",
       "       score created_utc  len  word_len  \n",
       "id                                       \n",
       "24hlnt  3     1398978992  113  21        \n",
       "2hcutn  73    1411585615  115  21        \n",
       "2jan73  29    1413353675  107  21        \n",
       "2wobgh  23    1424542203  118  21        \n",
       "3dla9r  76    1437108252  116  21        \n",
       "...     ..           ...  ...  ..        \n",
       "ea63fa  1     1576254198  138  22        \n",
       "ebl5lh  1     1576530259  139  22        \n",
       "eio2qk  1     1577914075  140  21        \n",
       "eotqoq  1     1579045272  136  24        \n",
       "eryqtq  1     1579631184  191  32        \n",
       "\n",
       "[129 rows x 5 columns]"
      ]
     },
     "metadata": {},
     "output_type": "display_data"
    }
   ],
   "source": [
    "with pd.option_context(\"display.max_colwidth\", -1, \"display.max_rows\", 20):\n",
    "    display(X_theonion[X_theonion[\"word_len\"]>20])"
   ]
  },
  {
   "cell_type": "code",
   "execution_count": 62,
   "metadata": {
    "ExecuteTime": {
     "end_time": "2020-08-08T17:03:18.718775Z",
     "start_time": "2020-08-08T17:03:18.699834Z"
    }
   },
   "outputs": [
    {
     "data": {
      "text/html": [
       "<div>\n",
       "<style scoped>\n",
       "    .dataframe tbody tr th:only-of-type {\n",
       "        vertical-align: middle;\n",
       "    }\n",
       "\n",
       "    .dataframe tbody tr th {\n",
       "        vertical-align: top;\n",
       "    }\n",
       "\n",
       "    .dataframe thead th {\n",
       "        text-align: right;\n",
       "    }\n",
       "</style>\n",
       "<table border=\"1\" class=\"dataframe\">\n",
       "  <thead>\n",
       "    <tr style=\"text-align: right;\">\n",
       "      <th></th>\n",
       "      <th>title</th>\n",
       "      <th>score</th>\n",
       "      <th>created_utc</th>\n",
       "      <th>len</th>\n",
       "      <th>word_len</th>\n",
       "    </tr>\n",
       "  </thead>\n",
       "  <tbody>\n",
       "    <tr>\n",
       "      <th>156</th>\n",
       "      <td>Swede Tweets Cops To Enforce Speeding Laws On Road; Police Respond By Patrolling Road The Next Day. Swede Promptly Gets Caught Speeding On Section Of Road He Reported The Previous Day; Promptly Admits To Idiotic Mistake. :</td>\n",
       "      <td>47</td>\n",
       "      <td>1333726134</td>\n",
       "      <td>222</td>\n",
       "      <td>37</td>\n",
       "    </tr>\n",
       "    <tr>\n",
       "      <th>178</th>\n",
       "      <td>Pigeons Could Poop Soap, Thanks To A Special Diet - A Plan To Alter What Pigeons Eat To Turn Their Feces Into Soap, To Clean Up Buildings &amp;amp; Car Windshields Raises Ethical, Legal &amp;amp; Practical Questions</td>\n",
       "      <td>78</td>\n",
       "      <td>1334110806</td>\n",
       "      <td>207</td>\n",
       "      <td>36</td>\n",
       "    </tr>\n",
       "    <tr>\n",
       "      <th>196</th>\n",
       "      <td>Now You Can Smell Like Fake Whale Vomit - Finally, Thanks To Modern Science, You No Longer Have To Feed A Whale A Bathing Suit Full Of Rotten Fish To Get A Supply Of Precious Ambergris, The Whale-Vomit-Derived Material Used In Perfumes</td>\n",
       "      <td>50</td>\n",
       "      <td>1334318627</td>\n",
       "      <td>235</td>\n",
       "      <td>42</td>\n",
       "    </tr>\n",
       "    <tr>\n",
       "      <th>243</th>\n",
       "      <td>A Cloud Of Pot Busts Lingers Over College Football. \\nWhen Brandon Arrived At Michigan In 2010 After \\nserving As The CEO Of Domino's Pizza For 11 Years, \\nhe Says He Was Surprised To Learn How Infrequently \\nthe Wolverines Were Actually Tested</td>\n",
       "      <td>6</td>\n",
       "      <td>1334790183</td>\n",
       "      <td>240</td>\n",
       "      <td>41</td>\n",
       "    </tr>\n",
       "    <tr>\n",
       "      <th>281</th>\n",
       "      <td>Job Security: Fargo ND Police. You Can A. Have Sex With A Teenager In Your Squad Car  And  B. Leave Your Squad Car Unlocked, Allowing A Thief To Steal Handcuffs, Taser, Ammo And Bulletproof Vest And Not Endanger Your Job At All.</td>\n",
       "      <td>46</td>\n",
       "      <td>1335296980</td>\n",
       "      <td>228</td>\n",
       "      <td>44</td>\n",
       "    </tr>\n",
       "    <tr>\n",
       "      <th>...</th>\n",
       "      <td>...</td>\n",
       "      <td>...</td>\n",
       "      <td>...</td>\n",
       "      <td>...</td>\n",
       "      <td>...</td>\n",
       "    </tr>\n",
       "    <tr>\n",
       "      <th>420876</th>\n",
       "      <td>The Govt Says All Traffic Lights Broken By Protesters Are Now Fixed, Apart From A Few Components That Need To Be Replaced. But It Appears By \"components\", It Means The Actual Lights That Tell Drivers And Pedestrians Whether They Can Go Or Not. #HongKong News.rthk.hk/rthk/en/compon…</td>\n",
       "      <td>1</td>\n",
       "      <td>1579167002</td>\n",
       "      <td>282</td>\n",
       "      <td>45</td>\n",
       "    </tr>\n",
       "    <tr>\n",
       "      <th>421045</th>\n",
       "      <td>Lev Parnas Threatens To Release New Incriminating Evidence Every Time Trump Claims Not To Know Him - “I Welcome Him To Say That Even More. Every Time He Says That I’ll Show Him Another Picture. He’s Lying.”</td>\n",
       "      <td>1</td>\n",
       "      <td>1579244842</td>\n",
       "      <td>206</td>\n",
       "      <td>37</td>\n",
       "    </tr>\n",
       "    <tr>\n",
       "      <th>421537</th>\n",
       "      <td>\"You Talk About Action On Climate Change, That’s What That Is. Hazard Reduction Is Action To Take Account Of The Climate We’re Living In, Which Is A More Challenging Environment Over The Next Decade And Beyond,\" Mr Morrison Australia's Prime Minister Said.</td>\n",
       "      <td>1</td>\n",
       "      <td>1579602425</td>\n",
       "      <td>256</td>\n",
       "      <td>42</td>\n",
       "    </tr>\n",
       "    <tr>\n",
       "      <th>421599</th>\n",
       "      <td>Uganda's Tiny Indian Community Accounted For 90% Of Its Tax Revenues Before Being Expelled In 1972. They Were Permitted To Return In The 1980s, And Today Despite Being Only 1% Of The Population Account For 65% Of Uganda's Tax Revenues.</td>\n",
       "      <td>1</td>\n",
       "      <td>1579630924</td>\n",
       "      <td>235</td>\n",
       "      <td>40</td>\n",
       "    </tr>\n",
       "    <tr>\n",
       "      <th>422224</th>\n",
       "      <td>Oakland's Rulers Want To Ban Landlords From Checking If Renters Have Criminal History, Naming The Idea \" Fair Chance Housing Ordinance\"; Vice Mayor Says The Measure Will \"make A Huge Difference In The Life Of His Son, Who Is Incarcerated And Set To Come Home Soon\".</td>\n",
       "      <td>1</td>\n",
       "      <td>1579904088</td>\n",
       "      <td>265</td>\n",
       "      <td>46</td>\n",
       "    </tr>\n",
       "  </tbody>\n",
       "</table>\n",
       "<p>1042 rows × 5 columns</p>\n",
       "</div>"
      ],
      "text/plain": [
       "                                                                                                                                                                                                                                                                                             title  \\\n",
       "156     Swede Tweets Cops To Enforce Speeding Laws On Road; Police Respond By Patrolling Road The Next Day. Swede Promptly Gets Caught Speeding On Section Of Road He Reported The Previous Day; Promptly Admits To Idiotic Mistake. :                                                               \n",
       "178     Pigeons Could Poop Soap, Thanks To A Special Diet - A Plan To Alter What Pigeons Eat To Turn Their Feces Into Soap, To Clean Up Buildings &amp; Car Windshields Raises Ethical, Legal &amp; Practical Questions                                                                              \n",
       "196     Now You Can Smell Like Fake Whale Vomit - Finally, Thanks To Modern Science, You No Longer Have To Feed A Whale A Bathing Suit Full Of Rotten Fish To Get A Supply Of Precious Ambergris, The Whale-Vomit-Derived Material Used In Perfumes                                                  \n",
       "243     A Cloud Of Pot Busts Lingers Over College Football. \\nWhen Brandon Arrived At Michigan In 2010 After \\nserving As The CEO Of Domino's Pizza For 11 Years, \\nhe Says He Was Surprised To Learn How Infrequently \\nthe Wolverines Were Actually Tested                                         \n",
       "281     Job Security: Fargo ND Police. You Can A. Have Sex With A Teenager In Your Squad Car  And  B. Leave Your Squad Car Unlocked, Allowing A Thief To Steal Handcuffs, Taser, Ammo And Bulletproof Vest And Not Endanger Your Job At All.                                                         \n",
       "...                                                                                                                                                                                                                                      ...                                                         \n",
       "420876  The Govt Says All Traffic Lights Broken By Protesters Are Now Fixed, Apart From A Few Components That Need To Be Replaced. But It Appears By \"components\", It Means The Actual Lights That Tell Drivers And Pedestrians Whether They Can Go Or Not. #HongKong News.rthk.hk/rthk/en/compon…   \n",
       "421045  Lev Parnas Threatens To Release New Incriminating Evidence Every Time Trump Claims Not To Know Him - “I Welcome Him To Say That Even More. Every Time He Says That I’ll Show Him Another Picture. He’s Lying.”                                                                               \n",
       "421537  \"You Talk About Action On Climate Change, That’s What That Is. Hazard Reduction Is Action To Take Account Of The Climate We’re Living In, Which Is A More Challenging Environment Over The Next Decade And Beyond,\" Mr Morrison Australia's Prime Minister Said.                             \n",
       "421599  Uganda's Tiny Indian Community Accounted For 90% Of Its Tax Revenues Before Being Expelled In 1972. They Were Permitted To Return In The 1980s, And Today Despite Being Only 1% Of The Population Account For 65% Of Uganda's Tax Revenues.                                                  \n",
       "422224  Oakland's Rulers Want To Ban Landlords From Checking If Renters Have Criminal History, Naming The Idea \" Fair Chance Housing Ordinance\"; Vice Mayor Says The Measure Will \"make A Huge Difference In The Life Of His Son, Who Is Incarcerated And Set To Come Home Soon\".                    \n",
       "\n",
       "       score created_utc  len  word_len  \n",
       "156     47    1333726134  222  37        \n",
       "178     78    1334110806  207  36        \n",
       "196     50    1334318627  235  42        \n",
       "243     6     1334790183  240  41        \n",
       "281     46    1335296980  228  44        \n",
       "...     ..           ...  ...  ..        \n",
       "420876  1     1579167002  282  45        \n",
       "421045  1     1579244842  206  37        \n",
       "421537  1     1579602425  256  42        \n",
       "421599  1     1579630924  235  40        \n",
       "422224  1     1579904088  265  46        \n",
       "\n",
       "[1042 rows x 5 columns]"
      ]
     },
     "metadata": {},
     "output_type": "display_data"
    }
   ],
   "source": [
    "with pd.option_context(\"display.max_colwidth\", -1, \"display.max_rows\", 20):\n",
    "    display(X_nottheonion[X_nottheonion[\"word_len\"]>35])"
   ]
  },
  {
   "cell_type": "markdown",
   "metadata": {},
   "source": [
    "### Date of posts\n",
    "This section is last because it is the last thing I thought to investigate; I had to retroactively go back and ensure that the cleaning I was doing wasn't indiscriminately wiping out entire epochs of posts (spoiler: it was, and I had to fix that)."
   ]
  },
  {
   "cell_type": "code",
   "execution_count": 63,
   "metadata": {
    "ExecuteTime": {
     "end_time": "2020-08-08T17:03:22.139028Z",
     "start_time": "2020-08-08T17:03:18.720727Z"
    },
    "scrolled": false
   },
   "outputs": [
    {
     "data": {
      "image/png": "[encoded data removed]",
      "text/plain": [
       "<Figure size 576x576 with 4 Axes>"
      ]
     },
     "metadata": {
      "needs_background": "light"
     },
     "output_type": "display_data"
    }
   ],
   "source": [
    "fig, axes = plt.subplots(2,2, figsize=(8,8), sharex=True, sharey=\"row\")\n",
    "axes = axes.ravel()\n",
    "axes[0].hist(X_theonion_orig[\"created_utc\"], bins='auto');\n",
    "axes[1].hist(X_theonion[\"created_utc\"], bins='auto');\n",
    "axes[2].hist(X_nottheonion_orig[\"created_utc\"], bins='auto');\n",
    "axes[3].hist(X_nottheonion[\"created_utc\"], bins='auto');\n",
    "\n",
    "axes[0].set_title('/r/theonion, all posts');\n",
    "axes[1].set_title('/r/theonion, cleaned');\n",
    "axes[2].set_title('/r/nottheonion, all posts');\n",
    "axes[3].set_title('/r/nottheonion, cleaned');"
   ]
  },
  {
   "cell_type": "markdown",
   "metadata": {},
   "source": [
    "# Write our cleaned DataFrames to pickle files"
   ]
  },
  {
   "cell_type": "code",
   "execution_count": 64,
   "metadata": {
    "ExecuteTime": {
     "end_time": "2020-08-08T17:03:22.154853Z",
     "start_time": "2020-08-08T17:03:22.141007Z"
    }
   },
   "outputs": [],
   "source": [
    "save_obj(X_theonion, DIR+FILE1+\"_df_clean\")"
   ]
  },
  {
   "cell_type": "code",
   "execution_count": 65,
   "metadata": {
    "ExecuteTime": {
     "end_time": "2020-08-08T17:03:22.430367Z",
     "start_time": "2020-08-08T17:03:22.156918Z"
    }
   },
   "outputs": [],
   "source": [
    "save_obj(X_nottheonion, DIR+FILE2+\"_df_clean\")"
   ]
  }
 ],
 "metadata": {
  "kernelspec": {
   "display_name": "Python 3",
   "language": "python",
   "name": "python3"
  },
  "language_info": {
   "codemirror_mode": {
    "name": "ipython",
    "version": 3
   },
   "file_extension": ".py",
   "mimetype": "text/x-python",
   "name": "python",
   "nbconvert_exporter": "python",
   "pygments_lexer": "ipython3",
   "version": "3.7.6"
  },
  "toc": {
   "base_numbering": 1,
   "nav_menu": {},
   "number_sections": true,
   "sideBar": true,
   "skip_h1_title": false,
   "title_cell": "Table of Contents",
   "title_sidebar": "Contents",
   "toc_cell": false,
   "toc_position": {},
   "toc_section_display": true,
   "toc_window_display": false
  },
  "varInspector": {
   "cols": {
    "lenName": 16,
    "lenType": 16,
    "lenVar": 40
   },
   "kernels_config": {
    "python": {
     "delete_cmd_postfix": "",
     "delete_cmd_prefix": "del ",
     "library": "var_list.py",
     "varRefreshCmd": "print(var_dic_list())"
    },
    "r": {
     "delete_cmd_postfix": ") ",
     "delete_cmd_prefix": "rm(",
     "library": "var_list.r",
     "varRefreshCmd": "cat(var_dic_list()) "
    }
   },
   "types_to_exclude": [
    "module",
    "function",
    "builtin_function_or_method",
    "instance",
    "_Feature"
   ],
   "window_display": false
  }
 },
 "nbformat": 4,
 "nbformat_minor": 2
}
