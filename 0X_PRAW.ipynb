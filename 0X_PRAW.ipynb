{
 "cells": [
  {
   "cell_type": "code",
   "execution_count": 27,
   "metadata": {
    "ExecuteTime": {
     "end_time": "2020-01-23T19:04:18.382620Z",
     "start_time": "2020-01-23T19:04:18.379309Z"
    }
   },
   "outputs": [],
   "source": [
    "import numpy as np\n",
    "import pandas as pd\n",
    "import matplotlib.pyplot as plt\n",
    "\n",
    "import praw\n",
    "from datetime import date"
   ]
  },
  {
   "cell_type": "code",
   "execution_count": 11,
   "metadata": {
    "ExecuteTime": {
     "end_time": "2020-01-23T18:29:17.478205Z",
     "start_time": "2020-01-23T18:29:17.472224Z"
    }
   },
   "outputs": [],
   "source": [
    "#email domain from https://clipmails.com\n",
    "#email address: ruazos@emailinbox.xyz\n",
    "client_id = \"jmmD_Bws7eGLqw\"\n",
    "client_secret= \"zmIaFvAGN8b1xfiYq3J0wnxXiYU\"\n",
    "user_agent = \"WebScraper\"\n",
    "username = \"DefinitelyNotABot143\"\n",
    "password = \"password\""
   ]
  },
  {
   "cell_type": "code",
   "execution_count": 12,
   "metadata": {
    "ExecuteTime": {
     "end_time": "2020-01-23T18:29:18.046241Z",
     "start_time": "2020-01-23T18:29:18.041256Z"
    }
   },
   "outputs": [],
   "source": [
    "reddit = praw.Reddit(client_id=client_id,\n",
    "                     client_secret=client_secret, password=password,\n",
    "                     user_agent=user_agent, username=username)"
   ]
  },
  {
   "cell_type": "code",
   "execution_count": 13,
   "metadata": {
    "ExecuteTime": {
     "end_time": "2020-01-23T18:31:03.213161Z",
     "start_time": "2020-01-23T18:31:03.208182Z"
    }
   },
   "outputs": [],
   "source": [
    "theonion = reddit.subreddit(\"TheOnion\")\n",
    "nottheonion = reddit.subreddit(\"nottheonion\")"
   ]
  },
  {
   "cell_type": "code",
   "execution_count": 23,
   "metadata": {
    "ExecuteTime": {
     "end_time": "2020-01-23T19:04:03.528467Z",
     "start_time": "2020-01-23T19:04:03.523447Z"
    }
   },
   "outputs": [],
   "source": [
    "# for submission in theonion.new():\n",
    "#     print(submission.title)"
   ]
  },
  {
   "cell_type": "code",
   "execution_count": 24,
   "metadata": {
    "ExecuteTime": {
     "end_time": "2020-01-23T19:04:05.728283Z",
     "start_time": "2020-01-23T19:04:05.724294Z"
    }
   },
   "outputs": [],
   "source": [
    "# for submission in nottheonion.new():\n",
    "#     print(submission.title)"
   ]
  },
  {
   "cell_type": "code",
   "execution_count": 25,
   "metadata": {
    "ExecuteTime": {
     "end_time": "2020-01-23T19:04:08.134641Z",
     "start_time": "2020-01-23T19:04:08.130651Z"
    }
   },
   "outputs": [],
   "source": [
    "# for comment in reddit.subreddit('iama').stream.comments():\n",
    "#     print(comment)"
   ]
  },
  {
   "cell_type": "code",
   "execution_count": 26,
   "metadata": {
    "ExecuteTime": {
     "end_time": "2020-01-23T19:04:10.871703Z",
     "start_time": "2020-01-23T19:04:10.868711Z"
    }
   },
   "outputs": [],
   "source": [
    "# for submission in reddit.subreddit('theonion').stream.submissions():\n",
    "#     print(submission.title)"
   ]
  },
  {
   "cell_type": "code",
   "execution_count": 29,
   "metadata": {
    "ExecuteTime": {
     "end_time": "2020-01-23T19:04:23.218243Z",
     "start_time": "2020-01-23T19:04:23.212261Z"
    }
   },
   "outputs": [
    {
     "data": {
      "text/plain": [
       "datetime.date(2020, 1, 23)"
      ]
     },
     "execution_count": 29,
     "metadata": {},
     "output_type": "execute_result"
    }
   ],
   "source": [
    "date.today()"
   ]
  },
  {
   "cell_type": "code",
   "execution_count": null,
   "metadata": {},
   "outputs": [],
   "source": []
  }
 ],
 "metadata": {
  "kernelspec": {
   "display_name": "Python 3",
   "language": "python",
   "name": "python3"
  },
  "language_info": {
   "codemirror_mode": {
    "name": "ipython",
    "version": 3
   },
   "file_extension": ".py",
   "mimetype": "text/x-python",
   "name": "python",
   "nbconvert_exporter": "python",
   "pygments_lexer": "ipython3",
   "version": "3.7.6"
  },
  "toc": {
   "base_numbering": 1,
   "nav_menu": {},
   "number_sections": true,
   "sideBar": true,
   "skip_h1_title": false,
   "title_cell": "Table of Contents",
   "title_sidebar": "Contents",
   "toc_cell": false,
   "toc_position": {},
   "toc_section_display": true,
   "toc_window_display": false
  }
 },
 "nbformat": 4,
 "nbformat_minor": 2
}
