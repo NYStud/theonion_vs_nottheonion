{
 "cells": [
  {
   "cell_type": "markdown",
   "metadata": {},
   "source": [
    "# Data collection\n",
    "\n",
    "In this notebook, we collect data using the Pushshift API, and save it to a pickled object. Note that we store our data in a JsonCollector object, which is implemented in JsonCollector.py."
   ]
  },
  {
   "cell_type": "code",
   "execution_count": 8,
   "metadata": {
    "ExecuteTime": {
     "end_time": "2020-01-25T20:26:56.159051Z",
     "start_time": "2020-01-25T20:26:56.152565Z"
    }
   },
   "outputs": [],
   "source": [
    "import numpy as np\n",
    "import pandas as pd\n",
    "import matplotlib.pyplot as plt\n",
    "\n",
    "import requests\n",
    "from datetime import date\n",
    "import time\n",
    "\n",
    "import pickle\n",
    "import os\n",
    "import sys\n",
    "\n",
    "from JsonCollector import JsonCollector"
   ]
  },
  {
   "cell_type": "code",
   "execution_count": 9,
   "metadata": {
    "ExecuteTime": {
     "end_time": "2020-01-25T20:26:57.709388Z",
     "start_time": "2020-01-25T20:26:57.701581Z"
    }
   },
   "outputs": [],
   "source": [
    "def save_obj(obj, filename):\n",
    "    with open(filename + '.pkl', 'wb') as f:\n",
    "        pickle.dump(obj, f, pickle.HIGHEST_PROTOCOL)\n",
    "\n",
    "def load_obj(filename):\n",
    "    with open(filename + '.pkl', 'rb') as f:\n",
    "        return pickle.load(f)"
   ]
  },
  {
   "cell_type": "code",
   "execution_count": 11,
   "metadata": {
    "ExecuteTime": {
     "end_time": "2020-01-25T20:26:58.893832Z",
     "start_time": "2020-01-25T20:26:58.890049Z"
    }
   },
   "outputs": [],
   "source": [
    "# The following subreddits were founded at certain Unix times:\n",
    "# /r/nottheonion: 1224968000\n",
    "# /r/TheOnion: 1206303030\n",
    "# /r/OnionHeadlines: 1314636831"
   ]
  },
  {
   "cell_type": "code",
   "execution_count": 12,
   "metadata": {
    "ExecuteTime": {
     "end_time": "2020-01-25T20:26:59.098776Z",
     "start_time": "2020-01-25T20:26:59.094818Z"
    }
   },
   "outputs": [],
   "source": [
    "DIR = \"C:\\\\Users\\\\AzNsAnTaGiN\\\\DSI\\\\Projects\\\\project_3\\\\data\\\\\"\n",
    "FILE1 = \"theonion\"\n",
    "FILE2 = \"nottheonion\"\n",
    "FILE3 = \"onionheadlines\""
   ]
  },
  {
   "cell_type": "code",
   "execution_count": 13,
   "metadata": {
    "ExecuteTime": {
     "end_time": "2020-01-25T20:26:59.810573Z",
     "start_time": "2020-01-25T20:26:59.801699Z"
    }
   },
   "outputs": [],
   "source": [
    "if not os.path.isfile(DIR+FILE1+\".pkl\"):\n",
    "    theonion = JsonCollector(mintime=1206303030, subreddit=\"TheOnion\")\n",
    "else:\n",
    "    theonion = load_obj(DIR+FILE1)\n",
    "    \n",
    "if not os.path.isfile(DIR+FILE2+\".pkl\"):\n",
    "    nottheonion = JsonCollector(mintime=1224968000, subreddit=\"nottheonion\")\n",
    "else:\n",
    "    nottheonion = load_obj(DIR+FILE2)\n",
    "\n",
    "if not os.path.isfile(DIR+FILE3+\".pkl\"):\n",
    "    onionheadlines = JsonCollector(mintime=1224968000, subreddit=\"OnionHeadlines\")\n",
    "else:\n",
    "    onionheadlines = load_obj(DIR+FILE3)"
   ]
  },
  {
   "cell_type": "code",
   "execution_count": null,
   "metadata": {
    "ExecuteTime": {
     "end_time": "2020-01-25T20:25:23.421997Z",
     "start_time": "2020-01-25T20:25:22.211Z"
    }
   },
   "outputs": [],
   "source": [
    "theonion.populate()"
   ]
  },
  {
   "cell_type": "code",
   "execution_count": null,
   "metadata": {
    "ExecuteTime": {
     "end_time": "2020-01-25T20:25:23.423950Z",
     "start_time": "2020-01-25T20:25:22.216Z"
    }
   },
   "outputs": [],
   "source": [
    "nottheonion.populate()"
   ]
  },
  {
   "cell_type": "code",
   "execution_count": null,
   "metadata": {
    "ExecuteTime": {
     "end_time": "2020-01-25T20:25:23.424925Z",
     "start_time": "2020-01-25T20:25:22.222Z"
    }
   },
   "outputs": [],
   "source": [
    "onionheadlines.populate()"
   ]
  },
  {
   "cell_type": "code",
   "execution_count": null,
   "metadata": {
    "ExecuteTime": {
     "end_time": "2020-01-25T20:25:23.427162Z",
     "start_time": "2020-01-25T20:25:22.225Z"
    }
   },
   "outputs": [],
   "source": [
    "display(len(theonion.data.keys()))\n",
    "display(len(nottheonion.data.keys()))\n",
    "display(len(onionheadlines.data.keys()))"
   ]
  },
  {
   "cell_type": "code",
   "execution_count": null,
   "metadata": {
    "ExecuteTime": {
     "end_time": "2020-01-25T20:25:23.428830Z",
     "start_time": "2020-01-25T20:25:22.229Z"
    }
   },
   "outputs": [],
   "source": [
    "save_obj(theonion, DIR+FILE1)\n",
    "save_obj(nottheonion, DIR+FILE2)\n",
    "save_obj(onionheadlines, DIR+FILE3)"
   ]
  },
  {
   "cell_type": "code",
   "execution_count": null,
   "metadata": {
    "ExecuteTime": {
     "end_time": "2020-01-25T20:25:23.429804Z",
     "start_time": "2020-01-25T20:25:22.232Z"
    }
   },
   "outputs": [],
   "source": [
    "(len(theonion.data.keys()))+(len(nottheonion.data.keys()))+(len(onionheadlines.data.keys()))"
   ]
  }
 ],
 "metadata": {
  "kernelspec": {
   "display_name": "Python 3",
   "language": "python",
   "name": "python3"
  },
  "language_info": {
   "codemirror_mode": {
    "name": "ipython",
    "version": 3
   },
   "file_extension": ".py",
   "mimetype": "text/x-python",
   "name": "python",
   "nbconvert_exporter": "python",
   "pygments_lexer": "ipython3",
   "version": "3.7.6"
  },
  "toc": {
   "base_numbering": 1,
   "nav_menu": {},
   "number_sections": true,
   "sideBar": true,
   "skip_h1_title": false,
   "title_cell": "Table of Contents",
   "title_sidebar": "Contents",
   "toc_cell": false,
   "toc_position": {},
   "toc_section_display": true,
   "toc_window_display": false
  }
 },
 "nbformat": 4,
 "nbformat_minor": 2
}
