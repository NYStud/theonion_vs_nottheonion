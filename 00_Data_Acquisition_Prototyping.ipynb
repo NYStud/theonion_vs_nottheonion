{
 "cells": [
  {
   "cell_type": "markdown",
   "metadata": {},
   "source": [
    "# Data collection"
   ]
  },
  {
   "cell_type": "code",
   "execution_count": null,
   "metadata": {},
   "outputs": [],
   "source": []
  },
  {
   "cell_type": "code",
   "execution_count": 1,
   "metadata": {
    "ExecuteTime": {
     "end_time": "2020-01-25T04:25:44.941850Z",
     "start_time": "2020-01-25T04:25:43.919866Z"
    }
   },
   "outputs": [],
   "source": [
    "import numpy as np\n",
    "import pandas as pd\n",
    "import matplotlib.pyplot as plt\n",
    "\n",
    "import requests\n",
    "from datetime import date\n",
    "import time\n",
    "\n",
    "import pickle\n",
    "import os\n",
    "import sys"
   ]
  },
  {
   "cell_type": "code",
   "execution_count": 2,
   "metadata": {
    "ExecuteTime": {
     "end_time": "2020-01-25T04:25:44.950636Z",
     "start_time": "2020-01-25T04:25:44.944778Z"
    }
   },
   "outputs": [],
   "source": [
    "def save_obj(obj, filename):\n",
    "    with open(filename + '.pkl', 'wb') as f:\n",
    "        pickle.dump(obj, f, pickle.HIGHEST_PROTOCOL)\n",
    "\n",
    "def load_obj(name):\n",
    "    with open(filename + '.pkl', 'rb') as f:\n",
    "        return pickle.load(f)"
   ]
  },
  {
   "cell_type": "code",
   "execution_count": 3,
   "metadata": {
    "ExecuteTime": {
     "end_time": "2020-01-25T04:25:44.977962Z",
     "start_time": "2020-01-25T04:25:44.954551Z"
    }
   },
   "outputs": [],
   "source": [
    "import time\n",
    "import requests\n",
    "\n",
    "class JsonCollector:\n",
    "    def __init__(self, mintime, subreddit):\n",
    "        self.url = \"https://api.pushshift.io/reddit/search/submission/\"\n",
    "        self.subreddit = subreddit\n",
    "\n",
    "        # the Unix times we have already searched. We searching from mintime to current,\n",
    "        # updating each time we do it.\n",
    "        self.min = mintime\n",
    "        \n",
    "        #contains dictionary keyed on postid, with value=json block\n",
    "        self.data = {}\n",
    "        \n",
    "    \n",
    "    def fetch_json(self, lower, upper):\n",
    "        r = requests.get(\n",
    "            self.url,\n",
    "            params={\n",
    "                \"subreddit\": self.subreddit,\n",
    "                \"before\": upper,\n",
    "                \"after\": lower,\n",
    "                \"size\": 500\n",
    "            }\n",
    "        )\n",
    "        assert r.status_code == 200\n",
    "        return r.json()[\"data\"]\n",
    "    \n",
    "    # Find posts starting at the subreddit's start, up to the current time\n",
    "    def read_forward(self):\n",
    "        jsonlist = self.fetch_json(self.min, int(time.time()))        \n",
    "        \n",
    "        if jsonlist:\n",
    "            # save the data    \n",
    "            for i in range(len(jsonlist)):\n",
    "                self.data[jsonlist[i][\"id\"]] = jsonlist[i]\n",
    "            self.min = jsonlist[-1][\"created_utc\"]\n",
    "        return jsonlist\n",
    "\n",
    "    def populate(self):\n",
    "        while self.read_forward():\n",
    "#             display(len(self.data.keys()))\n",
    "            # The pushshift api limit is apparently 3Hz.\n",
    "            time.sleep(0.5)"
   ]
  },
  {
   "cell_type": "code",
   "execution_count": 4,
   "metadata": {
    "ExecuteTime": {
     "end_time": "2020-01-25T04:25:44.987721Z",
     "start_time": "2020-01-25T04:25:44.979913Z"
    }
   },
   "outputs": [],
   "source": [
    "# The following subreddits were founded at certain Unix times:\n",
    "# /r/nottheonion: 1224968000\n",
    "# /r/TheOnion: 1206303030\n",
    "# /r/OnionHeadlines: 1314636831"
   ]
  },
  {
   "cell_type": "code",
   "execution_count": 5,
   "metadata": {
    "ExecuteTime": {
     "end_time": "2020-01-25T04:25:44.997501Z",
     "start_time": "2020-01-25T04:25:44.989679Z"
    }
   },
   "outputs": [],
   "source": [
    "DIR = \"C:\\\\Users\\\\AzNsAnTaGiN\\\\DSI\\\\Projects\\\\project_3\\\\\"\n",
    "FILE1 = \"theonion\"\n",
    "FILE2 = \"nottheonion\"\n",
    "FILE3 = \"onionheadlines\""
   ]
  },
  {
   "cell_type": "code",
   "execution_count": 6,
   "metadata": {
    "ExecuteTime": {
     "end_time": "2020-01-25T04:25:45.008224Z",
     "start_time": "2020-01-25T04:25:44.999440Z"
    }
   },
   "outputs": [],
   "source": [
    "if not os.path.isfile(DIR+FILE1):\n",
    "    theonion = JsonCollector(mintime=1206303030, subreddit=\"TheOnion\")\n",
    "else:\n",
    "    theonion = load_obj(DIR+FILE1)\n",
    "    \n",
    "if not os.path.isfile(DIR+FILE2):\n",
    "    nottheonion = JsonCollector(mintime=1224968000, subreddit=\"nottheonion\")\n",
    "else:\n",
    "    nottheonion = load_obj(DIR+FILE2)\n",
    "\n",
    "if not os.path.isfile(DIR+FILE3):\n",
    "    onionheadlines = JsonCollector(mintime=1224968000, subreddit=\"OnionHeadlines\")\n",
    "else:\n",
    "    onionheadlines = load_obj(DIR+FILE3)"
   ]
  },
  {
   "cell_type": "code",
   "execution_count": 8,
   "metadata": {
    "ExecuteTime": {
     "end_time": "2020-01-25T04:26:57.820933Z",
     "start_time": "2020-01-25T04:26:07.283815Z"
    }
   },
   "outputs": [],
   "source": [
    "theonion.populate()"
   ]
  },
  {
   "cell_type": "code",
   "execution_count": 9,
   "metadata": {
    "ExecuteTime": {
     "end_time": "2020-01-25T04:48:53.278449Z",
     "start_time": "2020-01-25T04:26:57.822885Z"
    }
   },
   "outputs": [],
   "source": [
    "nottheonion.populate()"
   ]
  },
  {
   "cell_type": "code",
   "execution_count": 10,
   "metadata": {
    "ExecuteTime": {
     "end_time": "2020-01-25T04:49:11.883081Z",
     "start_time": "2020-01-25T04:48:53.281379Z"
    }
   },
   "outputs": [],
   "source": [
    "onionheadlines.populate()"
   ]
  },
  {
   "cell_type": "code",
   "execution_count": 11,
   "metadata": {
    "ExecuteTime": {
     "end_time": "2020-01-25T04:49:11.899635Z",
     "start_time": "2020-01-25T04:49:11.885972Z"
    }
   },
   "outputs": [
    {
     "data": {
      "text/plain": [
       "17039"
      ]
     },
     "metadata": {},
     "output_type": "display_data"
    },
    {
     "data": {
      "text/plain": [
       "441717"
      ]
     },
     "metadata": {},
     "output_type": "display_data"
    },
    {
     "data": {
      "text/plain": [
       "6531"
      ]
     },
     "metadata": {},
     "output_type": "display_data"
    }
   ],
   "source": [
    "display(len(theonion.data.keys()))\n",
    "display(len(nottheonion.data.keys()))\n",
    "display(len(onionheadlines.data.keys()))"
   ]
  },
  {
   "cell_type": "code",
   "execution_count": 12,
   "metadata": {
    "ExecuteTime": {
     "end_time": "2020-01-25T04:49:18.769810Z",
     "start_time": "2020-01-25T04:49:11.903542Z"
    }
   },
   "outputs": [],
   "source": [
    "save_obj(theonion, DIR+FILE1)\n",
    "save_obj(nottheonion, DIR+FILE2)\n",
    "save_obj(onionheadlines, DIR+FILE3)"
   ]
  },
  {
   "cell_type": "code",
   "execution_count": 13,
   "metadata": {
    "ExecuteTime": {
     "end_time": "2020-01-25T05:15:07.995463Z",
     "start_time": "2020-01-25T05:15:07.985703Z"
    }
   },
   "outputs": [
    {
     "data": {
      "text/plain": [
       "465287"
      ]
     },
     "execution_count": 13,
     "metadata": {},
     "output_type": "execute_result"
    }
   ],
   "source": [
    "(len(theonion.data.keys()))+(len(nottheonion.data.keys()))+(len(onionheadlines.data.keys()))"
   ]
  },
  {
   "cell_type": "code",
   "execution_count": null,
   "metadata": {},
   "outputs": [],
   "source": []
  }
 ],
 "metadata": {
  "kernelspec": {
   "display_name": "Python 3",
   "language": "python",
   "name": "python3"
  },
  "language_info": {
   "codemirror_mode": {
    "name": "ipython",
    "version": 3
   },
   "file_extension": ".py",
   "mimetype": "text/x-python",
   "name": "python",
   "nbconvert_exporter": "python",
   "pygments_lexer": "ipython3",
   "version": "3.7.6"
  },
  "toc": {
   "base_numbering": 1,
   "nav_menu": {},
   "number_sections": true,
   "sideBar": true,
   "skip_h1_title": false,
   "title_cell": "Table of Contents",
   "title_sidebar": "Contents",
   "toc_cell": false,
   "toc_position": {},
   "toc_section_display": true,
   "toc_window_display": false
  }
 },
 "nbformat": 4,
 "nbformat_minor": 2
}
